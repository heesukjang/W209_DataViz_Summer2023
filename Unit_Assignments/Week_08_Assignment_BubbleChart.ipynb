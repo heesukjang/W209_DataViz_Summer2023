{
  "nbformat": 4,
  "nbformat_minor": 0,
  "metadata": {
    "colab": {
      "provenance": [],
      "include_colab_link": true
    },
    "kernelspec": {
      "name": "python3",
      "display_name": "Python 3"
    }
  },
  "cells": [
    {
      "cell_type": "markdown",
      "metadata": {
        "id": "view-in-github",
        "colab_type": "text"
      },
      "source": [
        "<a href=\"https://colab.research.google.com/github/heesukjang/W209_DataViz_Summer2023/blob/main/Unit_Assignments/Week_08_Assignment_BubbleChart.ipynb\" target=\"_parent\"><img src=\"https://colab.research.google.com/assets/colab-badge.svg\" alt=\"Open In Colab\"/></a>"
      ]
    },
    {
      "cell_type": "markdown",
      "source": [
        "## W209 Data Visualization, Summer 2023\n",
        "**Week 8 Assignment<br>\n",
        "Heesuk Jang**\n",
        "\n",
        "### D3, Altair<br>\n",
        "This weeks assignment is to download your Twitter archive and plot a hashtag network where each node is a hashtag and links are between hashtags that appear in the same tweet.\n",
        "\n",
        "If you don't tweet, feel free to use the attached FileAttachment(\"duto_guerra_tweets.json\") or a different personal data archive.\n",
        "\n",
        "### Tableau<br>\n",
        "Using the same data described above, make a bubble chart with the **size given by the number of edges to each hashtag** and the **color given by the cluster id**. You will need to process this count and the cluster id external to Tableau.\n",
        "\n",
        "If you don't have a tool in mind, start with Python (e.g., with the networkX library) or TabPy. For GUI only, Gephi is another possibility that should be no problem, but we haven't done this example specifically using Gephi."
      ],
      "metadata": {
        "id": "9KD9N6x4Dyd-"
      }
    },
    {
      "cell_type": "code",
      "source": [
        "!pip install nx_altair"
      ],
      "metadata": {
        "colab": {
          "base_uri": "https://localhost:8080/"
        },
        "id": "Kz_AjBzVgjYq",
        "outputId": "5a42d07f-249f-4700-cedd-58fd0971465e"
      },
      "execution_count": 224,
      "outputs": [
        {
          "output_type": "stream",
          "name": "stdout",
          "text": [
            "Looking in indexes: https://pypi.org/simple, https://us-python.pkg.dev/colab-wheels/public/simple/\n",
            "Requirement already satisfied: nx_altair in /usr/local/lib/python3.10/dist-packages (0.1.6)\n",
            "Requirement already satisfied: pandas in /usr/local/lib/python3.10/dist-packages (from nx_altair) (1.5.3)\n",
            "Requirement already satisfied: networkx in /usr/local/lib/python3.10/dist-packages (from nx_altair) (3.1)\n",
            "Requirement already satisfied: altair in /usr/local/lib/python3.10/dist-packages (from nx_altair) (4.2.2)\n",
            "Requirement already satisfied: entrypoints in /usr/local/lib/python3.10/dist-packages (from altair->nx_altair) (0.4)\n",
            "Requirement already satisfied: jinja2 in /usr/local/lib/python3.10/dist-packages (from altair->nx_altair) (3.1.2)\n",
            "Requirement already satisfied: jsonschema>=3.0 in /usr/local/lib/python3.10/dist-packages (from altair->nx_altair) (4.3.3)\n",
            "Requirement already satisfied: numpy in /usr/local/lib/python3.10/dist-packages (from altair->nx_altair) (1.22.4)\n",
            "Requirement already satisfied: toolz in /usr/local/lib/python3.10/dist-packages (from altair->nx_altair) (0.12.0)\n",
            "Requirement already satisfied: python-dateutil>=2.8.1 in /usr/local/lib/python3.10/dist-packages (from pandas->nx_altair) (2.8.2)\n",
            "Requirement already satisfied: pytz>=2020.1 in /usr/local/lib/python3.10/dist-packages (from pandas->nx_altair) (2022.7.1)\n",
            "Requirement already satisfied: attrs>=17.4.0 in /usr/local/lib/python3.10/dist-packages (from jsonschema>=3.0->altair->nx_altair) (23.1.0)\n",
            "Requirement already satisfied: pyrsistent!=0.17.0,!=0.17.1,!=0.17.2,>=0.14.0 in /usr/local/lib/python3.10/dist-packages (from jsonschema>=3.0->altair->nx_altair) (0.19.3)\n",
            "Requirement already satisfied: six>=1.5 in /usr/local/lib/python3.10/dist-packages (from python-dateutil>=2.8.1->pandas->nx_altair) (1.16.0)\n",
            "Requirement already satisfied: MarkupSafe>=2.0 in /usr/local/lib/python3.10/dist-packages (from jinja2->altair->nx_altair) (2.1.3)\n"
          ]
        }
      ]
    },
    {
      "cell_type": "code",
      "metadata": {
        "colab": {
          "base_uri": "https://localhost:8080/",
          "height": 52
        },
        "id": "pYi8D8Zs6F_T",
        "outputId": "8857c628-8700-420b-8c7e-bcc6965b7eaf"
      },
      "source": [
        "import altair as alt\n",
        "import pandas as pd\n",
        "import numpy as np\n",
        "import networkx as nx\n",
        "import nx_altair as nxa\n",
        "from itertools import combinations\n",
        "import json\n",
        "from collections import defaultdict\n",
        "import community.community_louvain as community_louvain\n",
        "\n",
        "# Gdrive Mount using gmail account\n",
        "from google.colab import drive\n",
        "drive.mount('/content/gdrive')\n",
        "\n",
        "pd.options.display.float_format = '{:.0f}'.format\n",
        "pd.__version__"
      ],
      "execution_count": 225,
      "outputs": [
        {
          "output_type": "stream",
          "name": "stdout",
          "text": [
            "Drive already mounted at /content/gdrive; to attempt to forcibly remount, call drive.mount(\"/content/gdrive\", force_remount=True).\n"
          ]
        },
        {
          "output_type": "execute_result",
          "data": {
            "text/plain": [
              "'1.5.3'"
            ],
            "application/vnd.google.colaboratory.intrinsic+json": {
              "type": "string"
            }
          },
          "metadata": {},
          "execution_count": 225
        }
      ]
    },
    {
      "cell_type": "markdown",
      "source": [
        "## Read JSON file from Google Drive (Gmail Account)"
      ],
      "metadata": {
        "id": "dcscmoZ5KcFy"
      }
    },
    {
      "cell_type": "code",
      "source": [
        "with open('/content/gdrive/MyDrive/W209_DataViz/duto_guerra_tweets.json') as f:\n",
        "  file = f.read()\n",
        "  data = json.loads(file)\n",
        "\n",
        "# two hashtags appear together in a tweet\n",
        "print(f\"len(data) = {len(data)}\\nhashtags: count_edges = {len(data[181]['entities']['hashtags'])}, {data[181]['entities']['hashtags']}\\n\")\n",
        "data[181]"
      ],
      "metadata": {
        "colab": {
          "base_uri": "https://localhost:8080/"
        },
        "id": "xbwkUggAAsi6",
        "outputId": "4e9ec991-2cbf-4587-e402-3a39517f6b11"
      },
      "execution_count": 226,
      "outputs": [
        {
          "output_type": "stream",
          "name": "stdout",
          "text": [
            "len(data) = 5872\n",
            "hashtags: count_edges = 3, [{'text': 'rstudioconf', 'indices': ['59', '71']}, {'text': 'DataViz', 'indices': ['138', '146']}, {'text': 'DataScience', 'indices': ['147', '159']}]\n",
            "\n"
          ]
        },
        {
          "output_type": "execute_result",
          "data": {
            "text/plain": [
              "{'retweeted': False,\n",
              " 'source': '<a href=\"http://twitter.com\" rel=\"nofollow\">Twitter Web Client</a>',\n",
              " 'entities': {'user_mentions': [{'name': 'RStudio',\n",
              "    'screen_name': 'rstudio',\n",
              "    'indices': ['18', '26'],\n",
              "    'id_str': '235261861',\n",
              "    'id': '235261861'}],\n",
              "  'urls': [{'url': 'https://t.co/sN6CjOYIhH',\n",
              "    'expanded_url': 'http://johnguerra.co/viz/influentials/RStudioConf2018/',\n",
              "    'display_url': 'johnguerra.co/viz/influentia…',\n",
              "    'indices': ['114', '137']}],\n",
              "  'symbols': [],\n",
              "  'media': [{'expanded_url': 'https://twitter.com/duto_guerra/status/959841361070567425/photo/1',\n",
              "    'indices': ['160', '183'],\n",
              "    'url': 'https://t.co/FzHtxIYfVP',\n",
              "    'media_url': 'http://pbs.twimg.com/tweet_video_thumb/DVIKSrBWkAAJuEG.jpg',\n",
              "    'id_str': '959840986485657600',\n",
              "    'id': '959840986485657600',\n",
              "    'media_url_https': 'https://pbs.twimg.com/tweet_video_thumb/DVIKSrBWkAAJuEG.jpg',\n",
              "    'sizes': {'medium': {'w': '600', 'h': '558', 'resize': 'fit'},\n",
              "     'thumb': {'w': '150', 'h': '150', 'resize': 'crop'},\n",
              "     'small': {'w': '600', 'h': '558', 'resize': 'fit'},\n",
              "     'large': {'w': '600', 'h': '558', 'resize': 'fit'}},\n",
              "    'type': 'photo',\n",
              "    'display_url': 'pic.twitter.com/FzHtxIYfVP'}],\n",
              "  'hashtags': [{'text': 'rstudioconf', 'indices': ['59', '71']},\n",
              "   {'text': 'DataViz', 'indices': ['138', '146']},\n",
              "   {'text': 'DataScience', 'indices': ['147', '159']}]},\n",
              " 'display_text_range': ['0', '183'],\n",
              " 'favorite_count': 24,\n",
              " 'id_str': '959841361070567425',\n",
              " 'truncated': False,\n",
              " 'retweet_count': 7,\n",
              " 'id': '959841361070567425',\n",
              " 'possibly_sensitive': False,\n",
              " 'created_at': '2018-02-03T17:29:48.000Z',\n",
              " 'favorited': False,\n",
              " 'full_text': 'Do you like R and @rstudio? Here are the accounts that the #rstudioconf community thinks you should be following. https://t.co/sN6CjOYIhH #DataViz #DataScience https://t.co/FzHtxIYfVP',\n",
              " 'lang': 'en',\n",
              " 'extended_entities': {'media': [{'expanded_url': 'https://twitter.com/duto_guerra/status/959841361070567425/photo/1',\n",
              "    'indices': ['160', '183'],\n",
              "    'url': 'https://t.co/FzHtxIYfVP',\n",
              "    'media_url': 'http://pbs.twimg.com/tweet_video_thumb/DVIKSrBWkAAJuEG.jpg',\n",
              "    'id_str': '959840986485657600',\n",
              "    'video_info': {'aspect_ratio': ['100', '93'],\n",
              "     'variants': [{'bitrate': '0',\n",
              "       'content_type': 'video/mp4',\n",
              "       'url': 'https://video.twimg.com/tweet_video/DVIKSrBWkAAJuEG.mp4'}]},\n",
              "    'id': '959840986485657600',\n",
              "    'media_url_https': 'https://pbs.twimg.com/tweet_video_thumb/DVIKSrBWkAAJuEG.jpg',\n",
              "    'sizes': {'medium': {'w': '600', 'h': '558', 'resize': 'fit'},\n",
              "     'thumb': {'w': '150', 'h': '150', 'resize': 'crop'},\n",
              "     'small': {'w': '600', 'h': '558', 'resize': 'fit'},\n",
              "     'large': {'w': '600', 'h': '558', 'resize': 'fit'}},\n",
              "    'type': 'animated_gif',\n",
              "    'display_url': 'pic.twitter.com/FzHtxIYfVP'}]},\n",
              " 'hour': 12,\n",
              " 'selected': True,\n",
              " '__seqId': 181,\n",
              " '__i': [5773, 595, 595]}"
            ]
          },
          "metadata": {},
          "execution_count": 226
        }
      ]
    },
    {
      "cell_type": "code",
      "source": [
        "lt = data[181]['entities']['hashtags']\n",
        "print(\"A tweet that contains three hashtags (=>'rstudioconf','DataViz','DataScience'):\\n\\n\",lt)"
      ],
      "metadata": {
        "id": "4nFKhJsSPCSh",
        "outputId": "b7b66a1c-9699-40fd-f2da-7e431d05523e",
        "colab": {
          "base_uri": "https://localhost:8080/"
        }
      },
      "execution_count": 227,
      "outputs": [
        {
          "output_type": "stream",
          "name": "stdout",
          "text": [
            "A tweet that contains three hashtags (=>'rstudioconf','DataViz','DataScience'):\n",
            "\n",
            " [{'text': 'rstudioconf', 'indices': ['59', '71']}, {'text': 'DataViz', 'indices': ['138', '146']}, {'text': 'DataScience', 'indices': ['147', '159']}]\n"
          ]
        }
      ]
    },
    {
      "cell_type": "code",
      "source": [
        "# [{'text': 'dataviz', 'indices': ['109', '117']}]\n",
        "# [{'text': 'UIST2020', 'indices': ['13', '22']}, {'text': 'AR', 'indices': ['101', '104']}]\n",
        "# [{'text': 'dataViz', 'indices': ['119', '127']}]\n",
        "# [{'text': 'deckgl', 'indices': ['82', '89']}, {'text': 'dataviz', 'indices': ['169', '177']}, {'text': 'WebDev', 'indices': ['178', '185']}]\n",
        "# [{'text': 'vegaLite', 'indices': ['107', '116']}, {'text': 'WebDev', 'indices': ['136', '143']}]"
      ],
      "metadata": {
        "id": "wI24HZgqTeNZ"
      },
      "execution_count": 228,
      "outputs": []
    },
    {
      "cell_type": "code",
      "source": [
        "for i in range(len(data)-5800):\n",
        "  if len(data[i]['entities']['hashtags']) > 0:\n",
        "    print(i, data[i]['entities']['hashtags'])"
      ],
      "metadata": {
        "id": "v32aKcaoPR4s",
        "outputId": "3d42e45f-03a4-43e7-cd88-aa5cdb265de3",
        "colab": {
          "base_uri": "https://localhost:8080/"
        }
      },
      "execution_count": 229,
      "outputs": [
        {
          "output_type": "stream",
          "name": "stdout",
          "text": [
            "4 [{'text': 'dataviz', 'indices': ['40', '48']}]\n",
            "17 [{'text': 'dataviz', 'indices': ['225', '233']}]\n",
            "18 [{'text': 'dataviz', 'indices': ['267', '275']}]\n",
            "20 [{'text': 'dataviz', 'indices': ['230', '238']}]\n",
            "21 [{'text': 'dataviz', 'indices': ['96', '104']}]\n",
            "23 [{'text': 'd3js', 'indices': ['60', '65']}]\n",
            "26 [{'text': 'CSS', 'indices': ['92', '96']}]\n",
            "36 [{'text': 'clearviewai', 'indices': ['51', '63']}]\n",
            "44 [{'text': 'dataviz', 'indices': ['109', '117']}]\n",
            "47 [{'text': 'UIST2020', 'indices': ['13', '22']}, {'text': 'AR', 'indices': ['101', '104']}]\n",
            "50 [{'text': 'dataViz', 'indices': ['119', '127']}]\n",
            "52 [{'text': 'dataviz', 'indices': ['121', '129']}]\n",
            "56 [{'text': 'ieeevis', 'indices': ['33', '41']}]\n",
            "57 [{'text': 'dataviz', 'indices': ['79', '87']}]\n",
            "58 [{'text': 'eurovis', 'indices': ['48', '56']}, {'text': 'dataviz', 'indices': ['272', '280']}]\n",
            "63 [{'text': 'eurovis', 'indices': ['31', '39']}]\n",
            "66 [{'text': 'dataviz', 'indices': ['77', '85']}]\n",
            "70 [{'text': 'EuroVis2020', 'indices': ['74', '86']}]\n"
          ]
        }
      ]
    },
    {
      "cell_type": "markdown",
      "source": [
        "## Extract **Nodes** (= Hashtags) and **Edges** between Two Hashtags at a Time"
      ],
      "metadata": {
        "id": "w4rK63b-LPGg"
      }
    },
    {
      "cell_type": "code",
      "source": [
        "# https://stackoverflow.com/questions/49274565/create-2-tuples-from-a-list\n",
        "# hashtag_nodes = []\n",
        "hashtag_edges = []\n",
        "\n",
        "# for i in range(len(data)-5800):\n",
        "for i in range(len(data)):\n",
        "  # extract hashtag from each tweet\n",
        "  hashtag = data[i]['entities']['hashtags']\n",
        "\n",
        "  # if the hashtag field is not empty, pull the name of hashtag from a tweet, using the key, 'text'\n",
        "  if len(hashtag) > 0:\n",
        "    hashtags = [ht['text'].lower() for ht in hashtag]\n",
        "    # create a set of unique hashtags from tweets\n",
        "    # hashtag_nodes.extend(hashtags)\n",
        "\n",
        "    # if there are more than one hashtag in a tweet,\n",
        "    if len(hashtag) > 1:\n",
        "      hashtag_edge = combinations(hashtags, 2)   # create a list of tuples of two hashtags, representing an edge\n",
        "      hashtag_edges.extend(sorted(e) for e in hashtag_edge)  # create a master list of sorted edges\n",
        "\n",
        "# print('\\nhashtag_nodes: ',set(hashtag_nodes))\n",
        "print('hashtag_edges: ',hashtag_edges)\n",
        "print([tuple(l) for l in hashtag_edges])"
      ],
      "metadata": {
        "id": "HNuS2qrCshAN",
        "outputId": "136f8393-23e3-444b-b2b7-998c9f7a006f",
        "colab": {
          "base_uri": "https://localhost:8080/"
        }
      },
      "execution_count": 234,
      "outputs": [
        {
          "output_type": "stream",
          "name": "stdout",
          "text": [
            "hashtag_edges:  [['ar', 'uist2020'], ['dataviz', 'eurovis'], ['a11y', 'dataviz'], ['tactileart', 'tactiledrawing'], ['nicar18', 'rstats'], ['datavis', 'infodesign'], ['feedly', 'infovis'], ['colorpicker', 'dataviz'], ['d3js', 'dataviz'], ['dataviz', 'rstudioconf'], ['datascience', 'rstudioconf'], ['datascience', 'dataviz'], ['blind', 'braille'], ['atia18', 'braille'], ['atia18', 'blind'], ['d3js', 'pokeviz'], ['100daysofdataviz', 'dataviz'], ['d3js', 'datascience'], ['dataviz', 'rusia2018'], ['rusia2018', 'visualizacion'], ['dataviz', 'visualizacion'], ['d3js', 'dataviz'], ['cfp', 'ieeevis'], ['dataviz', 'treemap'], ['d3js', 'treemap'], ['d3js', 'dataviz'], ['reactjs', 'regl'], ['regl', 'webdev'], ['reactjs', 'webdev'], ['d3js', 'webdev'], ['webdev', 'webgl'], ['dataviz', 'deckgl'], ['deckgl', 'webdev'], ['dataviz', 'webdev'], ['vegalite', 'webdev'], ['vegalite', 'webdev'], ['proudteacher', 'webdev'], ['semiotic', 'starwars'], ['covidー19', 'dataviz'], ['ai', 'machinelearning'], ['ai', 'dataviz'], ['dataviz', 'machinelearning'], ['dataviz', 'webdev'], ['metoo', 'netviz'], ['d3js', 'dataviz'], ['bogotá', 'dataviz'], ['dataviz', 'revealjs'], ['d3js', 'revealjs'], ['d3js', 'dataviz'], ['dataviz', 'hcil'], ['dataviz', 'hcil'], ['dataviz', 'infovis'], ['dataviz', 'projectlincoln'], ['javascript', 'statistics'], ['dataviz', 'statistics'], ['dataviz', 'javascript'], ['dataviz', 'ieeevis'], ['ieeevis', 'visualization'], ['datascience', 'dataviz'], ['dataviz', 'hcil'], ['dataviz', 'ieeevis'], ['datascience', 'hcil'], ['datascience', 'ieeevis'], ['hcil', 'ieeevis'], ['ieeevis', 'immersive2017'], ['infovis', 'testoftime'], ['ieeevis', 'infovis'], ['ieeevis', 'testoftime'], ['dataviz', 'ieeevis'], ['ieeevis', 'vizsec'], ['ieeevis', 'infovis'], ['deeplearning', 'infovis'], ['infovis', 'tensorflow'], ['deeplearning', 'ieeevis'], ['ieeevis', 'tensorflow'], ['deeplearning', 'tensorflow'], ['datavis', 'ieeevis'], ['dataviz', 'ieeevis'], ['2q17', 'btw17'], ['meteorjs', 'webdev'], ['assets2017', 'chi2018'], ['dataviz', 'elasticsearch'], ['matplotlib', 'pandas'], ['ggplot2', 'pandas'], ['ggplot2', 'matplotlib'], ['nodejs', 'reactjs'], ['mongodb', 'reactjs'], ['reactjs', 'webdev'], ['mongodb', 'nodejs'], ['nodejs', 'webdev'], ['mongodb', 'webdev'], ['bigdata', 'insights'], ['reactjs', 'webdev'], ['d3js', 'react'], ['uber', 'visualization'], ['ieeevis', 'infovis'], ['bogota', 'dataviz'], ['bogota', 'dataviz'], ['d3js', 'dataviz'], ['datascience', 'dataviz'], ['ieeevis', 'openaccess'], ['dataviz', 'machinelearning'], ['feedly', 'infovis'], ['datavis', 'ddj'], ['ddj', 'rstats'], ['datavis', 'rstats'], ['chinese', 'data'], ['keras', 'neuralnets'], ['d3js', 'dataviz'], ['d3js', 'dataviz'], ['ieeevis', 'storytelling'], ['d3', 'gameofthrones'], ['gameofthrones', 'visualization'], ['d3', 'visualization'], ['dataviz', 'infosec'], ['includetheuser', 'machinelearning'], ['datascience', 'machinelearning'], ['datascience', 'includetheuser'], ['d3js', 'dataviz'], ['isrpbl2017', 'visualanalytics'], ['bitcoin', 'dataviz'], ['vega', 'vegalite'], ['vega', 'vis'], ['vegalite', 'vis'], ['datajournalism', 'digitalhumanities'], ['ddj', 'digitalhumanities'], ['datajournalism', 'ddj'], ['d3', 'dataviz'], ['ai', 'd3'], ['ai', 'dataviz'], ['d3js', 'rstats'], ['msdatasummit', 'powerbi'], ['forecasting', 'rstats'], ['d3js', 'networkvisualization'], ['feedly', 'infovis'], ['d3js', 'dataviz'], ['dataviz', 'netviz'], ['dataviz', 'visualanalytics'], ['datascience', 'dataviz'], ['meteorjs', 'webdev'], ['reactjs', 'webdev'], ['meteorjs', 'reactjs'], ['gd2017', 'networkvisualizations'], ['dataviz', 'networkvisualizations'], ['dataviz', 'gd2017'], ['d3js', 'openvisconf'], ['d3js', 'dataviz'], ['openvisconf', 'openvisconf'], ['iclr2020', 'pml4dc'], ['datascience', 'pml4dc'], ['datascience', 'iclr2020'], ['iclr2020', 'pml4dc'], ['chi2017', 'openvisconf'], ['d3js', 'dataviz'], ['d3js', 'networks'], ['dataviz', 'networks'], ['d3js', 'react'], ['feedly', 'humor'], ['dataviz', 'vr'], ['feedly', 'infovis'], ['dataviz', 'openvisconf'], ['dataviz', 'openvisconf'], ['hcil', 'openvisconf'], ['dataviz', 'openvisconf'], ['d3js', 'openvisconf'], ['dataviz', 'netviz'], ['dataviz', 'openvisconf'], ['d3annotation', 'd3js'], ['dataviz', 'sdgatlas'], ['dataviz', 'rusia2018'], ['d3js', 'react'], ['meteor', 'react'], ['meteor', 'webdev'], ['react', 'webdev'], ['d3js', 'dataviz'], ['dataviz', 'vizbeyond'], ['dataviz', 'stateofobesity'], ['d3js', 'datavisualization'], ['csunatc17', 'tactilegraphics'], ['feedly', 'infovis'], ['manchestercity', 'monaco'], ['dataviz', 'manchestercity'], ['dataviz', 'monaco'], ['d3js', 'es2015'], ['dataviz', 'infographics'], ['dataviz', 'ddj'], ['ddj', 'infographics'], ['blackhistory', 'dj3s'], ['covidー19', 'dataviz'], ['covid_19', 'datavis'], ['covid19', 'datavis'], ['dataviz', 'infovis'], ['datascience', 'machinelearning'], ['d3js', 'sublimetext'], ['dataviz', 'inauguration'], ['dataviz', 'visualization'], ['machinelearning', 'visualization'], ['dataviz', 'machinelearning'], ['datascience', 'dataviz'], ['classicviz', 'datavisualization'], ['datavisualization', 'dataviz'], ['classicviz', 'dataviz'], ['dataviz', 'hamilton'], ['infovis', 'visualanalytics'], ['fakenews', 'msnbc'], ['fakenews', 'hcil'], ['hcil', 'msnbc'], ['datatiz', 'makeovermonday'], ['feedly', 'infovis'], ['feedly', 'infovis'], ['data', 'python'], ['feedly', 'infovis'], ['dataviz', 'javascript'], ['dataviz', 'tsne'], ['3da11y', '3dprinting'], ['3dmodels', '3dprinting'], ['3da11y', '3dmodels'], ['feedly', 'infovis'], ['dataviz', 'infographics'], ['dataviz', 'ddj'], ['datajournalism', 'dataviz'], ['ddj', 'infographics'], ['datajournalism', 'infographics'], ['datajournalism', 'ddj'], ['d3js', 'dataviz'], ['dataviz', 'electionresults'], ['dataviz', 'infographics'], ['dataviz', 'infographics'], ['dataviz', 'ddj'], ['ddj', 'infographics'], ['dataviz', 'scrollytelling'], ['d3js', 'reactjs'], ['dataviz', 'opendata'], ['condatos2016', 'dataviz'], ['condatos2016', 'opendata'], ['creativecoding', 'javascript'], ['d3js', 'dataviz'], ['d3js', 'dewey'], ['ieeevis', 'infovis'], ['dataviz', 'ml'], ['d3js', 'ilustrador'], ['ieeevis', 'infovis'], ['ieeevis', 'infovis'], ['ieeevis', 'vds'], ['dataviz', 'plebiscito'], ['dataviz', 'datosabiertos'], ['datosabiertos', 'plebiscito'], ['dataviz', 'datosabiertos'], ['dataviz', 'debate'], ['d3js', 'dataviz'], ['d3js', 'everychartisjustanotherchart'], ['dataviz', 'vpdebate'], ['cityvis', 'habitat3'], ['d3unconf', 'dataviz'], ['feedly', 'visualizations'], ['colombia', 'dataviz'], ['datavisualization', 'tbt'], ['datascience', 'datascience'], ['ai', 'deeplearning'], ['datascience', 'deeplearning'], ['ai', 'datascience'], ['d3js', 'javascript'], ['dataviz', 'hcil'], ['dataviz', 'text'], ['d3js', 'dataviz'], ['d3js', 'datascience'], ['datascience', 'dataviz'], ['clubesdeciencia', 'fórmulasdecambio'], ['bigdata', 'insights'], ['chart', 'covid'], ['coronavirusencolombia', 'visualización'], ['covidー19', 'visualización'], ['coronavirusencolombia', 'covidー19'], ['ai', 'ml'], ['covid_19', 'covidー19'], ['covid_19', 'datavis'], ['datavis', 'opendata'], ['covid_19', 'opendata'], ['colombia', 'dataviz'], ['dataviz', 'infographics'], ['colombia', 'innovation'], ['dataviz', 'measure'], ['china', 'india'], ['india', 'nigeria'], ['china', 'nigeria'], ['colombia', 'hackethercamp'], ['humanintheloop', 'machinelearning'], ['dataviz', 'infographics'], ['stats', 'visualization'], ['dataviz', 'statistics'], ['dataviz', 'infographics'], ['datajournalism', 'dataviz'], ['datajournalism', 'infographics'], ['euro2016', 'interactive'], ['euro2016', 'infovis'], ['infovis', 'interactive'], ['generative', 'typography'], ['tableau', 'zensontour'], ['infovis', 'vcworkshop2016'], ['clubesdecienciaco', 'infovis'], ['avi2016', 'infovis'], ['avi2016', 'dataviz'], ['treemaps', 'visualizing'], ['avi2016', 'visualizing'], ['avi2016', 'treemaps'], ['gameofthrones', 'infovis'], ['infovis', 'interactive'], ['gameofthrones', 'interactive'], ['clubesdeciencia', 'conexiónegresados'], ['aseutp', 'conexiónegresados'], ['aseutp', 'clubesdeciencia'], ['bigdata', 'thebiggest'], ['superheroes', 'superviz'], ['deeplearning', 'stratahadoop'], ['bigdata', 'stratahadoop'], ['machinelearning', 'stratahadoop'], ['bigdata', 'deeplearning'], ['deeplearning', 'machinelearning'], ['bigdata', 'machinelearning'], ['dataviz', 'infosec'], ['dataviz', 'lcfc'], ['bump', 'lcfc'], ['bump', 'dataviz'], ['infovis', 'openvisconf'], ['bigdata', 'hospitaluniversitario'], ['openvisconf', 'vega'], ['infovis', 'openvisconf'], ['infovis', 'openvisconf'], ['deeplearning', 'infovis'], ['bestworstviz', 'infovis'], ['dataviz', 'infographics'], ['bigdata', 'infovis'], ['feedly', 'infovis'], ['datavis', 'ieeevis'], ['dataviz', 'infographics'], ['datajournalism', 'dataviz'], ['datajournalism', 'infographics'], ['d3js', 'topojson'], ['colombia', 'coronavirus'], ['dataviz', 'photography'], ['ieeevis', 'infovis'], ['football', 'soccer'], ['football', 'visualization'], ['soccer', 'visualization'], ['bigdata', 'infovis'], ['bigdata', 'feedly'], ['feedly', 'infovis'], ['dataviz', 'oscars'], ['ddj', 'dds2016'], ['sb50', 'visualization'], ['datavis', 'ieeevis'], ['datavisualization', 'dataviz'], ['bigdata', 'dataviz'], ['bigdata', 'datavisualization'], ['datavis', 'ieeevis'], ['takeaction', 'virunga'], ['d3js', 'dataviz'], ['chi2016', 'visualanalytics'], ['chi2016', 'machinelearning'], ['machinelearning', 'visualanalytics'], ['datavis', 'ieeevis'], ['feedly', 'infovis'], ['entrepreneurship', 'gecmedellín'], ['dataviz', 'infographics'], ['datajournalism', 'dataviz'], ['datajournalism', 'infographics'], ['d3js', 'layout'], ['d3js', 'dataviz'], ['d3js', 'es6'], ['dataviz', 'layout'], ['es6', 'layout'], ['dataviz', 'es6'], ['d3js', 'merch'], ['col', 'colombia'], ['d3js', 'dataviz'], ['d3js', 'netviz'], ['d3unconf', 'netviz'], ['d3js', 'd3unconf'], ['canvas', 'd3js'], ['d3js', 'javascript'], ['dataviz', 'machinelearning'], ['datajournalism', 'dataviz'], ['dataviz', 's'], ['dataviz', 'network'], ['d3js', 'network'], ['d3js', 'dataviz'], ['dataviz', 'ieeevis'], ['dataviz', 'ieeevis'], ['d3js', 'dataviz'], ['dataviz', 'ieeevis'], ['ieeevis', 'infovis'], ['davaviz', 'ieeevis'], ['ieeevis', 'infovis'], ['dataviz', 'ieeevis'], ['hcil', 'ieeevis'], ['dataviz', 'endrainbow'], ['datascience', 'endrainbow'], ['datascience', 'dataviz'], ['ieeevis', 'vast2015'], ['dataviz', 'ieeevis'], ['ieeevis', 'vds'], ['dataviz', 'ieeevis'], ['ieeevis', 'vds'], ['datajournalism', 'dataviz'], ['colombia', 'covidー19'], ['brazil', 'covidー19'], ['coronaviruscolombia', 'covidー19'], ['brazil', 'colombia'], ['colombia', 'coronaviruscolombia'], ['brazil', 'coronaviruscolombia'], ['colombia', 'covidー19'], ['covidー19', 'dataviz'], ['coronaviruscolombia', 'covidー19'], ['colombia', 'dataviz'], ['colombia', 'coronaviruscolombia'], ['coronaviruscolombia', 'dataviz'], ['jornadashcipuebla', 'zelda'], ['breathofthewild', 'jornadashcipuebla'], ['breathofthewild', 'zelda'], ['datascience', 'statistics'], ['bigdata', 'datascience'], ['bigdata', 'statistics'], ['ceo', 'jackdorsey'], ['expocamello2015', 'periscope'], ['d3', 'd3js'], ['dataviz', 'treemaps'], ['d3js', 'dataviz'], ['javascript', 'statistics'], ['bigdata', 'dataviz'], ['feedly', 'technology'], ['datavis', 'datavis'], ['datapoints', 'datavis'], ['datapoints', 'datavis'], ['dataviz', 'infographics'], ['dataviz', 'infographics'], ['d3js', 'dataviz'], ['d3js', 'gis'], ['d3js', 'mapping'], ['gis', 'mapping'], ['bigdata', 'datascience'], ['bigdata', 'dataviz'], ['datascience', 'dataviz'], ['d3js', 'ddj'], ['feedly', 'infovis'], ['flickr', 'goldengatepark'], ['d3js', 'markdown'], ['d3js', 'tufte'], ['markdown', 'tufte'], ['hcil', 'yahoohq'], ['flickr', 'yahoohq'], ['flickr', 'hcil'], ['dataviz', 'europe'], ['dataviz', 'infographics'], ['colombia', 'dataviz'], ['dataviz', 'marriageequaility'], ['ieeevis', 'visualization'], ['distractinglysexy', 'hcil'], ['d3', 'oakland'], ['d3', 'meetup'], ['d3', 'datavis'], ['meetup', 'oakland'], ['datavis', 'oakland'], ['datavis', 'meetup'], ['d3', 'd3js'], ['d3js', 'oakland'], ['d3js', 'meetup'], ['d3', 'oakland'], ['d3', 'meetup'], ['meetup', 'oakland'], ['datavis', 'sanfrancisco'], ['d3js', 'datavis'], ['genverde', 'parquesoft'], ['felicidad', 'muuu'], ['d3', 'dataviz'], ['d3js', 'dataviz'], ['feedly', 'visualizations'], ['bigdata', 'bogotá'], ['bogotá', 'machinelearning'], ['bogotá', 'dataviz'], ['bigdata', 'machinelearning'], ['bigdata', 'dataviz'], ['dataviz', 'machinelearning'], ['cali', 'dataviz'], ['cali', 'insights'], ['cali', 'machinelearning'], ['bigdata', 'cali'], ['dataviz', 'insights'], ['dataviz', 'machinelearning'], ['bigdata', 'dataviz'], ['insights', 'machinelearning'], ['bigdata', 'insights'], ['bigdata', 'machinelearning'], ['feedly', 'infovis'], ['hcil', 'umd'], ['cfar', 'umd'], ['hcil', 'umd'], ['hcil', 'infovis'], ['infovis', 'umd'], ['hcil', 'umd'], ['demandsolutions', 'startup'], ['d3js', 'data'], ['contextualism', 'relativism'], ['andresfelipegiraldo', 'startappsacademic'], ['startappsacademic', 'wingz'], ['andresfelipegiraldo', 'wingz'], ['dataviz', 'scicomm'], ['night', 'sanfrancisco'], ['citysight', 'sanfrancisco'], ['citysight', 'night'], ['advice', 'business'], ['dataviz', 'marriage'], ['hcil', 'infovis'], ['ecoreto', 'nicaragua'], ['nicaragua', 'ticamericas'], ['ecoreto', 'ticamericas'], ['bigthinkers', 'dataviz'], ['hcil', 'umd'], ['dataviz', 'fitness'], ['idea2014', 'kdd2014'], ['dataviz', 'hci'], ['analytics', 'bigdata'], ['bigdata', 'parcforum'], ['analytics', 'parcforum'], ['rstats', 'tidybayes'], ['infovis', 'pi'], ['dataviz', 'worldcup'], ['col', 'jpn'], ['brazil2014', 'col'], ['demandsolutions', 'startup'], ['datatothemac', 'showandtell'], ['nedvsesp', 'worldcup'], ['col', 'worldcup'], ['brazil2014', 'worldcup'], ['brazil2014', 'col'], ['colombiaelige', 'eleccionescolombia'], ['elecciones2014', 'eleccionescolombia'], ['colombiaelige', 'elecciones2014'], ['eleccionescolombia', 'votoenblanco'], ['colombia', 'elecciones2014'], ['chi2014', 'retweetme'], ['measles', 'vaccineswork'], ['boisestate', 'professors'], ['boisestate', 'dataviz'], ['dataviz', 'professors'], ['colombia', 'elecciones2014'], ['colombia', 'elecciones2014'], ['d3js', 'dataviz'], ['dataviz', 'sports'], ['football', 'sports'], ['dataviz', 'football'], ['yabt', 'youngentrepreneurs'], ['eco', 'yabt'], ['business', 'yabt'], ['sustainability', 'yabt'], ['eco', 'youngentrepreneurs'], ['business', 'youngentrepreneurs'], ['sustainability', 'youngentrepreneurs'], ['business', 'eco'], ['eco', 'sustainability'], ['business', 'sustainability'], ['dataviz', 'tapestryconf'], ['keepitfree', 'wikipedia'], ['dataviz', 'strataconf'], ['emprendimiento', 'innovación'], ['emprendimiento', 'iris'], ['ciegos', 'emprendimiento'], ['innovación', 'iris'], ['ciegos', 'innovación'], ['ciegos', 'iris'], ['d3js', 'ona13'], ['hcil', 'ieeevis'], ['hcil', 'treeversity'], ['datavis', 'treeversity'], ['d3js', 'treeversity'], ['datavis', 'hcil'], ['d3js', 'hcil'], ['d3js', 'datavis'], ['openideas', 'somosudi'], ['chi2020', 'hci'], ['academiclife', 'academictwitter'], ['brailleblaster', 'brailleimages'], ['bayd3', 'd3js'], ['dataviz', 'raw'], ['d3', 'raw'], ['diy', 'raw'], ['d3', 'dataviz'], ['dataviz', 'diy'], ['d3', 'diy'], ['dataviz', 'infographics'], ['infovis', 'umcp'], ['infovis', 'umd'], ['umcp', 'umd'], ['hcil', 'umcp'], ['hci', 'hcil'], ['hci', 'umcp'], ['larespuestaescolombia', 'maravillasdecolombia'], ['infovis', 'sna'], ['datavis', 'sna'], ['sna', 'socialmedia'], ['datavis', 'infovis'], ['infovis', 'socialmedia'], ['datavis', 'socialmedia'], ['hcil', 'infovis'], ['hcil', 'infovis'], ['hcil', 'umd'], ['hcil', 'umd'], ['hcil', 'umd'], ['infovis', 'scivis'], ['chi', 'dataviz'], ['analytics', 'dataviz'], ['dataviz', 'football'], ['analytics', 'football'], ['entrepreneurs', 'startup'], ['icdl', 'storykit'], ['dataviz', 'reactjs'], ['datagif', 'visualization'], ['soyparquesoft', 'vivolatecnología'], ['hcil', 'umd'], ['soyparquesoft', 'vivolatecnología'], ['cattlab', 'hcil'], ['nfbtg', 'soyparquesoft'], ['nfbtg', 'soyparquesoft'], ['bigdata', 'fiaumd'], ['hcil', 'ischool'], ['infoviz', 'oscars'], ['dataviz', 'infographics'], ['dataviz', 'visualization'], ['infographics', 'visualization'], ['d3js', 'infovis'], ['d3js', 'infovis'], ['d3js', 'hcil'], ['hcil', 'infovis'], ['hcil', 'umcp'], ['infovis', 'nodexl'], ['hcil', 'infovis'], ['hcil', 'nodexl'], ['ddjbook', 'infovis'], ['machinelearning', 'neurips2019'], ['dataviz', 'visfestunconf'], ['infovis', 'time'], ['hcil', 'treeversity'], ['hcil', 'monotrans'], ['d3', 'processing'], ['convocatoria', 'socent'], ['goodtimeatthelab', 'hcil'], ['fiaumd', 'umd'], ['infovis', 'umd'], ['hcil', 'infovis'], ['hcil', 'umd'], ['infovis', 'umd'], ['visweek', 'visweekposterdemo'], ['chi2012', 'hcil'], ['iamfirst', 'william'], ['google', 'youngminds'], ['google', 'zeitgeist'], ['youngminds', 'zeitgeist'], ['google', 'techcrunch'], ['chi2011', 'deadspace2'], ['deadspace2', 'hcil'], ['chi2011', 'hcil'], ['chi2011', 'iumd'], ['chi2011', 'hcil'], ['hcil', 'iumd'], ['datajournalism', 'dataviz'], ['dataviz', 'tableau'], ['data19', 'dataviz'], ['data19', 'tableau'], ['chi2020', 'hci'], ['assets19', 'assets2019'], ['assets2019', 'dataviz'], ['assets19', 'dataviz'], ['halloween', 'halloween2019'], ['iccv', 'iccv2019'], ['eleccionescolombia', 'eleccionescolombia2019'], ['assets2019', 'machinelearning'], ['network', 'visualization'], ['dataviz', 'network'], ['dataviz', 'visualization'], ['hci', 'ir'], ['datascience', 'ir'], ['ir', 'ischool'], ['datascience', 'hci'], ['hci', 'ischool'], ['datascience', 'ischool'], ['dataviz', 'visualization'], ['ieeevis', 'visualization'], ['dataviz', 'ieeevis'], ['assets2019', 'shameonme'], ['ieeevis', 'tsne'], ['dataviz', 'ieeevis2019'], ['ieeevis', 'ldav'], ['dataviz', 'generative'], ['creativecoding', 'dataviz'], ['d3js', 'dataviz'], ['creativecoding', 'generative'], ['d3js', 'generative'], ['creativecoding', 'd3js'], ['ieeevis2019', 'ieeevis2019'], ['ieeevis', 'vsup'], ['ieeevis', 'ldav'], ['ieeevis', 'vis4dh'], ['digitalhumanities', 'vis4dh'], ['digitalhumanities', 'ieeevis'], ['ieeevis', 'tutorial'], ['ai', 'hci'], ['a11y', 'hci'], ['a11y', 'ai'], ['sanddance', 'vscode'], ['deckgl', 'sanddance'], ['deckgl', 'vscode'], ['japan', 'tactilegraphics'], ['tactilegraphics', 'tactileuniverse'], ['tactilegraphics', 'tactilemaps'], ['japan', 'tactileuniverse'], ['japan', 'tactilemaps'], ['tactilemaps', 'tactileuniverse'], ['dataviz', 'dataviz'], ['dataviz', 'opendata'], ['machinelearning', 'stats'], ['machinelearning', 'openscience'], ['openscience', 'stats'], ['3dmodels', 'microbiology'], ['3dmodels', 'blind'], ['3dmodels', 'visuallyimpaired'], ['blind', 'microbiology'], ['microbiology', 'visuallyimpaired'], ['blind', 'visuallyimpaired'], ['dataviz', 'opendata'], ['foss4g', 'foss4gna'], ['foss4g2019', 'foss4gna'], ['foss4g19', 'foss4gna'], ['foss4g', 'foss4g2019'], ['foss4g', 'foss4g19'], ['foss4g19', 'foss4g2019'], ['dlindaba', 'sautiyetu'], ['dlindaba2019', 'sautiyetu'], ['deepindaba', 'sautiyetu'], ['deeplearningindaba', 'sautiyetu'], ['dlindaba19', 'sautiyetu'], ['dlindaba', 'dlindaba2019'], ['deepindaba', 'dlindaba'], ['deeplearningindaba', 'dlindaba'], ['dlindaba', 'dlindaba19'], ['deepindaba', 'dlindaba2019'], ['deeplearningindaba', 'dlindaba2019'], ['dlindaba19', 'dlindaba2019'], ['deepindaba', 'deeplearningindaba'], ['deepindaba', 'dlindaba19'], ['deeplearningindaba', 'dlindaba19'], ['foss4g', 'foss4gna'], ['foss4g2019', 'foss4gna'], ['foss4g19', 'foss4gna'], ['dataviz', 'foss4gna'], ['foss4g', 'foss4g2019'], ['foss4g', 'foss4g19'], ['dataviz', 'foss4g'], ['foss4g19', 'foss4g2019'], ['dataviz', 'foss4g2019'], ['dataviz', 'foss4g19'], ['foss4gna', 'gis'], ['foss4g', 'gis'], ['foss4g2019', 'gis'], ['foss4g19', 'gis'], ['foss4g', 'foss4gna'], ['foss4g2019', 'foss4gna'], ['foss4g19', 'foss4gna'], ['foss4g', 'foss4g2019'], ['foss4g', 'foss4g19'], ['foss4g19', 'foss4g2019'], ['d3unconf', 'visfestunconf'], ['dataviz', 'visfestunconf'], ['dataviz', 'savethedata'], ['deeplearning', 'machinelearning'], ['dlindaba', 'sautiyetu'], ['dlindaba2019', 'sautiyetu'], ['deeplearningindaba', 'sautiyetu'], ['dataviz', 'sautiyetu'], ['dlindaba', 'dlindaba2019'], ['deeplearningindaba', 'dlindaba'], ['dataviz', 'dlindaba'], ['deeplearningindaba', 'dlindaba2019'], ['dataviz', 'dlindaba2019'], ['dataviz', 'deeplearningindaba'], ['accessibility', 'datavis'], ['datavisualization', 'vega'], ['vega', 'visualization'], ['datavisualization', 'visualization'], ['dataviz', 'siggraph2019'], ['ismb19', 'ismbeccb19'], ['biovis', 'ismbeccb19'], ['ismbeccb19', 'ismbeccb2019'], ['ismb2019', 'ismbeccb19'], ['ismbeccb', 'ismbeccb19'], ['bosc2019', 'ismbeccb19'], ['biovis', 'ismb19'], ['ismb19', 'ismbeccb2019'], ['ismb19', 'ismb2019'], ['ismb19', 'ismbeccb'], ['bosc2019', 'ismb19'], ['biovis', 'ismbeccb2019'], ['biovis', 'ismb2019'], ['biovis', 'ismbeccb'], ['biovis', 'bosc2019'], ['ismb2019', 'ismbeccb2019'], ['ismbeccb', 'ismbeccb2019'], ['bosc2019', 'ismbeccb2019'], ['ismb2019', 'ismbeccb'], ['bosc2019', 'ismb2019'], ['bosc2019', 'ismbeccb'], ['dataviz', 'tdf2019'], ['infographic', 'interactive'], ['react', 'rstats'], ['atlántico', 'covid19'], ['d3js', 'voronoï'], ['ismbeccb2019', 'ismbfollowgreatwomen'], ['ismb19', 'ismbeccb19'], ['ismbeccb19', 'ismbeccb2019'], ['ismb2019', 'ismbeccb19'], ['biovis', 'ismbeccb19'], ['ismb19', 'ismbeccb2019'], ['ismb19', 'ismb2019'], ['biovis', 'ismb19'], ['ismb2019', 'ismbeccb2019'], ['biovis', 'ismbeccb2019'], ['biovis', 'ismb2019'], ['biovis', 'dataviz'], ['biovis', 'netviz'], ['dataviz', 'netviz'], ['biovis', 'ismbeccb2019'], ['biovis', 'ismbeccb2019'], ['biovis', 'ismbeccb'], ['biovis', 'keynote'], ['ismbeccb', 'keynote'], ['dataviz', 'nasa'], ['dataviz', 'user2019'], ['dataviz', 'user2019'], ['dataviz', 'vizrisk'], ['dataviz', 'user2019'], ['d3js', 'dataviz'], ['dataviz', 'nodeconfco'], ['dataviz', 'jsconfco'], ['dataviz', 'opendata'], ['dataviz', 'nodejs'], ['dataviz', 'javascript'], ['jsconfco', 'nodeconfco'], ['nodeconfco', 'opendata'], ['nodeconfco', 'nodejs'], ['javascript', 'nodeconfco'], ['jsconfco', 'opendata'], ['jsconfco', 'nodejs'], ['javascript', 'jsconfco'], ['nodejs', 'opendata'], ['javascript', 'opendata'], ['javascript', 'nodejs'], ['computervision', 'machinelearning'], ['cvpr2019', 'machinelearning'], ['computervision', 'cvpr2019'], ['dataviz', 'openvisconf'], ['dataviz', 'datavizsociety'], ['datavizsociety', 'openvisconf'], ['dataviz', 'eyeo2019'], ['dataviz', 'tapestryconf'], ['eyeo2019', 'tapestryconf'], ['dataviz', 'ieeevis2018'], ['dataviz', 'eurovis2019'], ['eurovis2019', 'ieeevis2018'], ['europeansemester', 'growth'], ['dataviz', 'storytelling'], ['chi2019', 'storytelling'], ['datascience', 'storytelling'], ['chi2019', 'dataviz'], ['datascience', 'dataviz'], ['chi2019', 'datascience'], ['dataviz', 'scrollytelling'], ['datajournalism', 'dj'], ['datajournalism', 'dataviz'], ['dataviz', 'dj'], ['dataviz', 'eyeo2019'], ['dataviz', 'infovis'], ['dataviz', 'poverty'], ['dataviz', 'vizrisk'], ['ai', 'machinelearning'], ['cybersecurity', 'visualization'], ['thewebconf', 'www19'], ['climatechange', 'dataviz'], ['dataviz', 'fridays4future'], ['climatechange', 'fridays4future'], ['eu', 'euelections2019'], ['euelections', 'euelections2019'], ['eu', 'euelections'], ['chi2019', 'sigchi'], ['chi2019', 'chi2020'], ['chi2020', 'sigchi'], ['dataviz', 'netviz'], ['chi2019', 'dataviz'], ['dataviz', 'infographics'], ['dataviz', 'ddj'], ['ddj', 'infographics'], ['javascript', 'stats'], ['customerexperience', 'cx'], ['customerexperience', 'cxsummit2019'], ['customerexperience', 'tipscx'], ['cx', 'cxsummit2019'], ['cx', 'tipscx'], ['cxsummit2019', 'tipscx'], ['dataviz', 'machinelearning'], ['insights', 'machinelearning'], ['cxsummit2019', 'machinelearning'], ['dataviz', 'insights'], ['cxsummit2019', 'dataviz'], ['cxsummit2019', 'insights'], ['chi2019', 'visualization'], ['chi2019', 'ieeevis'], ['dataviz', 'dataviz'], ['pydata', 'python'], ['aframe', 'umap'], ['dataviz', 'naviojs'], ['datascience', 'naviojs'], ['datascience', 'dataviz'], ['datatondelsenado', 'datosabiertos'], ['datatondelsenado', 'datosabiertos'], ['dataviz', 'naviojs'], ['romania', 'tactilegraphics'], ['dataviz', 'rstat'], ['bogota', 'd3js'], ['d3js', 'dataviz'], ['bogota', 'dataviz'], ['dataviz', 'naviojs'], ['dataviz', 'sucosummit'], ['creativecoding', 'dataart'], ['dataviz', 'naviojs'], ['dataviz', 'naviojs'], ['a11y', 'dataviz'], ['d3js', 'javascript'], ['ieeevis', 'networkvisualization'], ['dataviz', 'networkvisualization'], ['dataviz', 'ieeevis'], ['express', 'nodejs'], ['mongodb', 'nodejs'], ['nodejs', 'react'], ['express', 'mongodb'], ['express', 'react'], ['mongodb', 'react'], ['dataviz', 'infographics'], ['hcil', 'machinelearning'], ['ces2019', 'keynote'], ['dataviz', 'neurips2018'], ['ai', 'humancentered'], ['humancentered', 'visualization'], ['ai', 'visualization'], ['knowie', 'tenis'], ['machinelearning', 'neurips'], ['ieeevis2018', 'openvisconf'], ['dataviz', 'tapestryconf'], ['dataviz', 'tapestryconf'], ['charticulator', 'tapestryconf'], ['gandissect', 'ganpaint'], ['infographics', 'iot'], ['infographics', 'internetofthings'], ['digitalmarketing', 'infographics'], ['bigdata', 'infographics'], ['internetofthings', 'iot'], ['digitalmarketing', 'iot'], ['bigdata', 'iot'], ['digitalmarketing', 'internetofthings'], ['bigdata', 'internetofthings'], ['bigdata', 'digitalmarketing'], ['innovación', 'sucolsummit'], ['exponential', 'sucolsummit'], ['innovation', 'sucolsummit'], ['colombia', 'sucolsummit'], ['dataviz', 'sucolsummit'], ['exponential', 'innovation'], ['colombia', 'exponential'], ['dataviz', 'exponential'], ['colombia', 'innovation'], ['dataviz', 'innovation'], ['colombia', 'dataviz'], ['clustergrammer2', 'scipy2020'], ['a11y', 'webdevelopment'], ['dataviz', 'vr'], ['bigdata', 'dataviz'], ['beexponential', 'bigdata'], ['beexponential', 'dataviz'], ['biggan', 'dataviz'], ['biggan', 'ml'], ['dataviz', 'ml'], ['a11y', 'dataviz'], ['dataviz', 'jsconfco'], ['cscw', 'dataviz'], ['dataviz', 'datosabiertos'], ['d3js', 'dataviz'], ['dataviz', 'ieeevis2018'], ['dataviz', 'ieeevis2018'], ['dataviz', 'ieeevis'], ['hcil', 'ieeevis'], ['a11y', 'hcil'], ['a11y', 'ieeevis'], ['dataviz', 'vr'], ['draco', 'ieeevis'], ['hcil', 'ieeevis'], ['dataviz', 'ieeevis'], ['belivws', 'ieeevis'], ['ieeevis', 'latins'], ['col', 'ieeevis'], ['col', 'latins'], ['ieeevis', 'visxai'], ['ieeevis', 'vizsec2018'], ['ieeevis2018', 'machinelearning'], ['dataviz', 'ieeevis'], ['dataviz', 'waterdata'], ['hurricanemichael', 'waterdata'], ['rstats', 'waterdata'], ['dataviz', 'hurricanemichael'], ['dataviz', 'rstats'], ['hurricanemichael', 'rstats'], ['charticulator', 'iibawards'], ['dataviz', 'infographics'], ['dataviz', 'ddj'], ['ddj', 'infographics'], ['accessibility', 'tactilegraphics'], ['machinelearning', 'visualization'], ['nodejs', 'reactjs'], ['florence', 'usgs'], ['covid19', 'dataviz'], ['chi2020', 'research'], ['research', 'tactilegraphics'], ['chi2020', 'tactilegraphics'], ['covid19', 'latinx'], ['covid_19', 'dataviz'], ['datosabiertos', 'opendata'], ['colombia', 'consultaanticorrupción'], ['consultaanticorrupción', 'yovotecontralacorrupción'], ['consultaanticorrupción', 'dataviz'], ['colombia', 'yovotecontralacorrupción'], ['colombia', 'dataviz'], ['dataviz', 'yovotecontralacorrupción'], ['consultaanticoncorrupcion', 'datosabiertos'], ['dataviz', 'siggraph2018'], ['betterpresentations', 'dataviz'], ['datavis', 'ieeevis'], ['dataviz', 'ddj'], ['dataviz', 'ddj'], ['feedly', 'infovis'], ['colombiavsinglaterra', 'rusia2018'], ['rusia2018', 'vamoscolombia'], ['col', 'rusia2018'], ['eng', 'rusia2018'], ['colombiavsinglaterra', 'vamoscolombia'], ['col', 'colombiavsinglaterra'], ['colombiavsinglaterra', 'eng'], ['col', 'vamoscolombia'], ['eng', 'vamoscolombia'], ['col', 'eng'], ['dataviz', 'scrollytelling'], ['dataviz', 'eleccionescolombia'], ['cvpr2018', 'dataviz'], ['copa2018', 'copamundial'], ['copamundial', 'dataviz'], ['arg', 'copamundial'], ['copa2018', 'dataviz'], ['arg', 'copa2018'], ['arg', 'dataviz'], ['cvpr2018', 'dataviz'], ['arg', 'col'], ['bra', 'col'], ['col', 'copamundial2018'], ['col', 'dataviz'], ['arg', 'bra'], ['arg', 'copamundial2018'], ['arg', 'dataviz'], ['bra', 'copamundial2018'], ['bra', 'dataviz'], ['copamundial2018', 'dataviz'], ['colombia', 'eleccionescolombia'], ['colombia', 'colombiadecide'], ['colombia', 'dataviz'], ['colombia', 'dataviz'], ['colombiadecide', 'eleccionescolombia'], ['dataviz', 'eleccionescolombia'], ['dataviz', 'eleccionescolombia'], ['colombiadecide', 'dataviz'], ['colombiadecide', 'dataviz'], ['dataviz', 'dataviz'], ['imagine', 'iwvc'], ['iwvc', 'ml'], ['deeplearning', 'iwvc'], ['a11y', 'dataviz'], ['d3js', 'dataviz'], ['p5', 'webdev'], ['altec', 'eleccionescolombia'], ['datavisualization', 'ir'], ['meteor', 'react'], ['d3', 'meteor'], ['d3', 'react'], ['uncertainty', 'visualizing'], ['uncertainty', 'visinpractice'], ['visinpractice', 'visualizing'], ['d3js', 'datavisualization'], ['a11y', 'aiforaccessibility'], ['d3js', 'networkviz'], ['ai', 'machineleaning'], ['ai', 'iclr2018'], ['ai', 'dataviz'], ['iclr2018', 'machineleaning'], ['dataviz', 'machineleaning'], ['dataviz', 'iclr2018'], ['chi2018', 'chi2018'], ['infovis', 'infovis'], ['feedly', 'infovis'], ['chi2018', 'dataviz'], ['datavisualization', 'reactjs'], ['dataviz', 'hci'], ['a11y', 'w4a18'], ['d3js', 'networkvisualization'], ['d3js', 'dataviz'], ['dataviz', 'networkvisualization'], ['chi2018', 'chi2018'], ['chi2018', 'mobile'], ['chi2018', 'visualization'], ['mobile', 'visualization'], ['dataviz', 'opendata'], ['feedly', 'infovis']]\n",
            "[('ar', 'uist2020'), ('dataviz', 'eurovis'), ('a11y', 'dataviz'), ('tactileart', 'tactiledrawing'), ('nicar18', 'rstats'), ('datavis', 'infodesign'), ('feedly', 'infovis'), ('colorpicker', 'dataviz'), ('d3js', 'dataviz'), ('dataviz', 'rstudioconf'), ('datascience', 'rstudioconf'), ('datascience', 'dataviz'), ('blind', 'braille'), ('atia18', 'braille'), ('atia18', 'blind'), ('d3js', 'pokeviz'), ('100daysofdataviz', 'dataviz'), ('d3js', 'datascience'), ('dataviz', 'rusia2018'), ('rusia2018', 'visualizacion'), ('dataviz', 'visualizacion'), ('d3js', 'dataviz'), ('cfp', 'ieeevis'), ('dataviz', 'treemap'), ('d3js', 'treemap'), ('d3js', 'dataviz'), ('reactjs', 'regl'), ('regl', 'webdev'), ('reactjs', 'webdev'), ('d3js', 'webdev'), ('webdev', 'webgl'), ('dataviz', 'deckgl'), ('deckgl', 'webdev'), ('dataviz', 'webdev'), ('vegalite', 'webdev'), ('vegalite', 'webdev'), ('proudteacher', 'webdev'), ('semiotic', 'starwars'), ('covidー19', 'dataviz'), ('ai', 'machinelearning'), ('ai', 'dataviz'), ('dataviz', 'machinelearning'), ('dataviz', 'webdev'), ('metoo', 'netviz'), ('d3js', 'dataviz'), ('bogotá', 'dataviz'), ('dataviz', 'revealjs'), ('d3js', 'revealjs'), ('d3js', 'dataviz'), ('dataviz', 'hcil'), ('dataviz', 'hcil'), ('dataviz', 'infovis'), ('dataviz', 'projectlincoln'), ('javascript', 'statistics'), ('dataviz', 'statistics'), ('dataviz', 'javascript'), ('dataviz', 'ieeevis'), ('ieeevis', 'visualization'), ('datascience', 'dataviz'), ('dataviz', 'hcil'), ('dataviz', 'ieeevis'), ('datascience', 'hcil'), ('datascience', 'ieeevis'), ('hcil', 'ieeevis'), ('ieeevis', 'immersive2017'), ('infovis', 'testoftime'), ('ieeevis', 'infovis'), ('ieeevis', 'testoftime'), ('dataviz', 'ieeevis'), ('ieeevis', 'vizsec'), ('ieeevis', 'infovis'), ('deeplearning', 'infovis'), ('infovis', 'tensorflow'), ('deeplearning', 'ieeevis'), ('ieeevis', 'tensorflow'), ('deeplearning', 'tensorflow'), ('datavis', 'ieeevis'), ('dataviz', 'ieeevis'), ('2q17', 'btw17'), ('meteorjs', 'webdev'), ('assets2017', 'chi2018'), ('dataviz', 'elasticsearch'), ('matplotlib', 'pandas'), ('ggplot2', 'pandas'), ('ggplot2', 'matplotlib'), ('nodejs', 'reactjs'), ('mongodb', 'reactjs'), ('reactjs', 'webdev'), ('mongodb', 'nodejs'), ('nodejs', 'webdev'), ('mongodb', 'webdev'), ('bigdata', 'insights'), ('reactjs', 'webdev'), ('d3js', 'react'), ('uber', 'visualization'), ('ieeevis', 'infovis'), ('bogota', 'dataviz'), ('bogota', 'dataviz'), ('d3js', 'dataviz'), ('datascience', 'dataviz'), ('ieeevis', 'openaccess'), ('dataviz', 'machinelearning'), ('feedly', 'infovis'), ('datavis', 'ddj'), ('ddj', 'rstats'), ('datavis', 'rstats'), ('chinese', 'data'), ('keras', 'neuralnets'), ('d3js', 'dataviz'), ('d3js', 'dataviz'), ('ieeevis', 'storytelling'), ('d3', 'gameofthrones'), ('gameofthrones', 'visualization'), ('d3', 'visualization'), ('dataviz', 'infosec'), ('includetheuser', 'machinelearning'), ('datascience', 'machinelearning'), ('datascience', 'includetheuser'), ('d3js', 'dataviz'), ('isrpbl2017', 'visualanalytics'), ('bitcoin', 'dataviz'), ('vega', 'vegalite'), ('vega', 'vis'), ('vegalite', 'vis'), ('datajournalism', 'digitalhumanities'), ('ddj', 'digitalhumanities'), ('datajournalism', 'ddj'), ('d3', 'dataviz'), ('ai', 'd3'), ('ai', 'dataviz'), ('d3js', 'rstats'), ('msdatasummit', 'powerbi'), ('forecasting', 'rstats'), ('d3js', 'networkvisualization'), ('feedly', 'infovis'), ('d3js', 'dataviz'), ('dataviz', 'netviz'), ('dataviz', 'visualanalytics'), ('datascience', 'dataviz'), ('meteorjs', 'webdev'), ('reactjs', 'webdev'), ('meteorjs', 'reactjs'), ('gd2017', 'networkvisualizations'), ('dataviz', 'networkvisualizations'), ('dataviz', 'gd2017'), ('d3js', 'openvisconf'), ('d3js', 'dataviz'), ('openvisconf', 'openvisconf'), ('iclr2020', 'pml4dc'), ('datascience', 'pml4dc'), ('datascience', 'iclr2020'), ('iclr2020', 'pml4dc'), ('chi2017', 'openvisconf'), ('d3js', 'dataviz'), ('d3js', 'networks'), ('dataviz', 'networks'), ('d3js', 'react'), ('feedly', 'humor'), ('dataviz', 'vr'), ('feedly', 'infovis'), ('dataviz', 'openvisconf'), ('dataviz', 'openvisconf'), ('hcil', 'openvisconf'), ('dataviz', 'openvisconf'), ('d3js', 'openvisconf'), ('dataviz', 'netviz'), ('dataviz', 'openvisconf'), ('d3annotation', 'd3js'), ('dataviz', 'sdgatlas'), ('dataviz', 'rusia2018'), ('d3js', 'react'), ('meteor', 'react'), ('meteor', 'webdev'), ('react', 'webdev'), ('d3js', 'dataviz'), ('dataviz', 'vizbeyond'), ('dataviz', 'stateofobesity'), ('d3js', 'datavisualization'), ('csunatc17', 'tactilegraphics'), ('feedly', 'infovis'), ('manchestercity', 'monaco'), ('dataviz', 'manchestercity'), ('dataviz', 'monaco'), ('d3js', 'es2015'), ('dataviz', 'infographics'), ('dataviz', 'ddj'), ('ddj', 'infographics'), ('blackhistory', 'dj3s'), ('covidー19', 'dataviz'), ('covid_19', 'datavis'), ('covid19', 'datavis'), ('dataviz', 'infovis'), ('datascience', 'machinelearning'), ('d3js', 'sublimetext'), ('dataviz', 'inauguration'), ('dataviz', 'visualization'), ('machinelearning', 'visualization'), ('dataviz', 'machinelearning'), ('datascience', 'dataviz'), ('classicviz', 'datavisualization'), ('datavisualization', 'dataviz'), ('classicviz', 'dataviz'), ('dataviz', 'hamilton'), ('infovis', 'visualanalytics'), ('fakenews', 'msnbc'), ('fakenews', 'hcil'), ('hcil', 'msnbc'), ('datatiz', 'makeovermonday'), ('feedly', 'infovis'), ('feedly', 'infovis'), ('data', 'python'), ('feedly', 'infovis'), ('dataviz', 'javascript'), ('dataviz', 'tsne'), ('3da11y', '3dprinting'), ('3dmodels', '3dprinting'), ('3da11y', '3dmodels'), ('feedly', 'infovis'), ('dataviz', 'infographics'), ('dataviz', 'ddj'), ('datajournalism', 'dataviz'), ('ddj', 'infographics'), ('datajournalism', 'infographics'), ('datajournalism', 'ddj'), ('d3js', 'dataviz'), ('dataviz', 'electionresults'), ('dataviz', 'infographics'), ('dataviz', 'infographics'), ('dataviz', 'ddj'), ('ddj', 'infographics'), ('dataviz', 'scrollytelling'), ('d3js', 'reactjs'), ('dataviz', 'opendata'), ('condatos2016', 'dataviz'), ('condatos2016', 'opendata'), ('creativecoding', 'javascript'), ('d3js', 'dataviz'), ('d3js', 'dewey'), ('ieeevis', 'infovis'), ('dataviz', 'ml'), ('d3js', 'ilustrador'), ('ieeevis', 'infovis'), ('ieeevis', 'infovis'), ('ieeevis', 'vds'), ('dataviz', 'plebiscito'), ('dataviz', 'datosabiertos'), ('datosabiertos', 'plebiscito'), ('dataviz', 'datosabiertos'), ('dataviz', 'debate'), ('d3js', 'dataviz'), ('d3js', 'everychartisjustanotherchart'), ('dataviz', 'vpdebate'), ('cityvis', 'habitat3'), ('d3unconf', 'dataviz'), ('feedly', 'visualizations'), ('colombia', 'dataviz'), ('datavisualization', 'tbt'), ('datascience', 'datascience'), ('ai', 'deeplearning'), ('datascience', 'deeplearning'), ('ai', 'datascience'), ('d3js', 'javascript'), ('dataviz', 'hcil'), ('dataviz', 'text'), ('d3js', 'dataviz'), ('d3js', 'datascience'), ('datascience', 'dataviz'), ('clubesdeciencia', 'fórmulasdecambio'), ('bigdata', 'insights'), ('chart', 'covid'), ('coronavirusencolombia', 'visualización'), ('covidー19', 'visualización'), ('coronavirusencolombia', 'covidー19'), ('ai', 'ml'), ('covid_19', 'covidー19'), ('covid_19', 'datavis'), ('datavis', 'opendata'), ('covid_19', 'opendata'), ('colombia', 'dataviz'), ('dataviz', 'infographics'), ('colombia', 'innovation'), ('dataviz', 'measure'), ('china', 'india'), ('india', 'nigeria'), ('china', 'nigeria'), ('colombia', 'hackethercamp'), ('humanintheloop', 'machinelearning'), ('dataviz', 'infographics'), ('stats', 'visualization'), ('dataviz', 'statistics'), ('dataviz', 'infographics'), ('datajournalism', 'dataviz'), ('datajournalism', 'infographics'), ('euro2016', 'interactive'), ('euro2016', 'infovis'), ('infovis', 'interactive'), ('generative', 'typography'), ('tableau', 'zensontour'), ('infovis', 'vcworkshop2016'), ('clubesdecienciaco', 'infovis'), ('avi2016', 'infovis'), ('avi2016', 'dataviz'), ('treemaps', 'visualizing'), ('avi2016', 'visualizing'), ('avi2016', 'treemaps'), ('gameofthrones', 'infovis'), ('infovis', 'interactive'), ('gameofthrones', 'interactive'), ('clubesdeciencia', 'conexiónegresados'), ('aseutp', 'conexiónegresados'), ('aseutp', 'clubesdeciencia'), ('bigdata', 'thebiggest'), ('superheroes', 'superviz'), ('deeplearning', 'stratahadoop'), ('bigdata', 'stratahadoop'), ('machinelearning', 'stratahadoop'), ('bigdata', 'deeplearning'), ('deeplearning', 'machinelearning'), ('bigdata', 'machinelearning'), ('dataviz', 'infosec'), ('dataviz', 'lcfc'), ('bump', 'lcfc'), ('bump', 'dataviz'), ('infovis', 'openvisconf'), ('bigdata', 'hospitaluniversitario'), ('openvisconf', 'vega'), ('infovis', 'openvisconf'), ('infovis', 'openvisconf'), ('deeplearning', 'infovis'), ('bestworstviz', 'infovis'), ('dataviz', 'infographics'), ('bigdata', 'infovis'), ('feedly', 'infovis'), ('datavis', 'ieeevis'), ('dataviz', 'infographics'), ('datajournalism', 'dataviz'), ('datajournalism', 'infographics'), ('d3js', 'topojson'), ('colombia', 'coronavirus'), ('dataviz', 'photography'), ('ieeevis', 'infovis'), ('football', 'soccer'), ('football', 'visualization'), ('soccer', 'visualization'), ('bigdata', 'infovis'), ('bigdata', 'feedly'), ('feedly', 'infovis'), ('dataviz', 'oscars'), ('ddj', 'dds2016'), ('sb50', 'visualization'), ('datavis', 'ieeevis'), ('datavisualization', 'dataviz'), ('bigdata', 'dataviz'), ('bigdata', 'datavisualization'), ('datavis', 'ieeevis'), ('takeaction', 'virunga'), ('d3js', 'dataviz'), ('chi2016', 'visualanalytics'), ('chi2016', 'machinelearning'), ('machinelearning', 'visualanalytics'), ('datavis', 'ieeevis'), ('feedly', 'infovis'), ('entrepreneurship', 'gecmedellín'), ('dataviz', 'infographics'), ('datajournalism', 'dataviz'), ('datajournalism', 'infographics'), ('d3js', 'layout'), ('d3js', 'dataviz'), ('d3js', 'es6'), ('dataviz', 'layout'), ('es6', 'layout'), ('dataviz', 'es6'), ('d3js', 'merch'), ('col', 'colombia'), ('d3js', 'dataviz'), ('d3js', 'netviz'), ('d3unconf', 'netviz'), ('d3js', 'd3unconf'), ('canvas', 'd3js'), ('d3js', 'javascript'), ('dataviz', 'machinelearning'), ('datajournalism', 'dataviz'), ('dataviz', 's'), ('dataviz', 'network'), ('d3js', 'network'), ('d3js', 'dataviz'), ('dataviz', 'ieeevis'), ('dataviz', 'ieeevis'), ('d3js', 'dataviz'), ('dataviz', 'ieeevis'), ('ieeevis', 'infovis'), ('davaviz', 'ieeevis'), ('ieeevis', 'infovis'), ('dataviz', 'ieeevis'), ('hcil', 'ieeevis'), ('dataviz', 'endrainbow'), ('datascience', 'endrainbow'), ('datascience', 'dataviz'), ('ieeevis', 'vast2015'), ('dataviz', 'ieeevis'), ('ieeevis', 'vds'), ('dataviz', 'ieeevis'), ('ieeevis', 'vds'), ('datajournalism', 'dataviz'), ('colombia', 'covidー19'), ('brazil', 'covidー19'), ('coronaviruscolombia', 'covidー19'), ('brazil', 'colombia'), ('colombia', 'coronaviruscolombia'), ('brazil', 'coronaviruscolombia'), ('colombia', 'covidー19'), ('covidー19', 'dataviz'), ('coronaviruscolombia', 'covidー19'), ('colombia', 'dataviz'), ('colombia', 'coronaviruscolombia'), ('coronaviruscolombia', 'dataviz'), ('jornadashcipuebla', 'zelda'), ('breathofthewild', 'jornadashcipuebla'), ('breathofthewild', 'zelda'), ('datascience', 'statistics'), ('bigdata', 'datascience'), ('bigdata', 'statistics'), ('ceo', 'jackdorsey'), ('expocamello2015', 'periscope'), ('d3', 'd3js'), ('dataviz', 'treemaps'), ('d3js', 'dataviz'), ('javascript', 'statistics'), ('bigdata', 'dataviz'), ('feedly', 'technology'), ('datavis', 'datavis'), ('datapoints', 'datavis'), ('datapoints', 'datavis'), ('dataviz', 'infographics'), ('dataviz', 'infographics'), ('d3js', 'dataviz'), ('d3js', 'gis'), ('d3js', 'mapping'), ('gis', 'mapping'), ('bigdata', 'datascience'), ('bigdata', 'dataviz'), ('datascience', 'dataviz'), ('d3js', 'ddj'), ('feedly', 'infovis'), ('flickr', 'goldengatepark'), ('d3js', 'markdown'), ('d3js', 'tufte'), ('markdown', 'tufte'), ('hcil', 'yahoohq'), ('flickr', 'yahoohq'), ('flickr', 'hcil'), ('dataviz', 'europe'), ('dataviz', 'infographics'), ('colombia', 'dataviz'), ('dataviz', 'marriageequaility'), ('ieeevis', 'visualization'), ('distractinglysexy', 'hcil'), ('d3', 'oakland'), ('d3', 'meetup'), ('d3', 'datavis'), ('meetup', 'oakland'), ('datavis', 'oakland'), ('datavis', 'meetup'), ('d3', 'd3js'), ('d3js', 'oakland'), ('d3js', 'meetup'), ('d3', 'oakland'), ('d3', 'meetup'), ('meetup', 'oakland'), ('datavis', 'sanfrancisco'), ('d3js', 'datavis'), ('genverde', 'parquesoft'), ('felicidad', 'muuu'), ('d3', 'dataviz'), ('d3js', 'dataviz'), ('feedly', 'visualizations'), ('bigdata', 'bogotá'), ('bogotá', 'machinelearning'), ('bogotá', 'dataviz'), ('bigdata', 'machinelearning'), ('bigdata', 'dataviz'), ('dataviz', 'machinelearning'), ('cali', 'dataviz'), ('cali', 'insights'), ('cali', 'machinelearning'), ('bigdata', 'cali'), ('dataviz', 'insights'), ('dataviz', 'machinelearning'), ('bigdata', 'dataviz'), ('insights', 'machinelearning'), ('bigdata', 'insights'), ('bigdata', 'machinelearning'), ('feedly', 'infovis'), ('hcil', 'umd'), ('cfar', 'umd'), ('hcil', 'umd'), ('hcil', 'infovis'), ('infovis', 'umd'), ('hcil', 'umd'), ('demandsolutions', 'startup'), ('d3js', 'data'), ('contextualism', 'relativism'), ('andresfelipegiraldo', 'startappsacademic'), ('startappsacademic', 'wingz'), ('andresfelipegiraldo', 'wingz'), ('dataviz', 'scicomm'), ('night', 'sanfrancisco'), ('citysight', 'sanfrancisco'), ('citysight', 'night'), ('advice', 'business'), ('dataviz', 'marriage'), ('hcil', 'infovis'), ('ecoreto', 'nicaragua'), ('nicaragua', 'ticamericas'), ('ecoreto', 'ticamericas'), ('bigthinkers', 'dataviz'), ('hcil', 'umd'), ('dataviz', 'fitness'), ('idea2014', 'kdd2014'), ('dataviz', 'hci'), ('analytics', 'bigdata'), ('bigdata', 'parcforum'), ('analytics', 'parcforum'), ('rstats', 'tidybayes'), ('infovis', 'pi'), ('dataviz', 'worldcup'), ('col', 'jpn'), ('brazil2014', 'col'), ('demandsolutions', 'startup'), ('datatothemac', 'showandtell'), ('nedvsesp', 'worldcup'), ('col', 'worldcup'), ('brazil2014', 'worldcup'), ('brazil2014', 'col'), ('colombiaelige', 'eleccionescolombia'), ('elecciones2014', 'eleccionescolombia'), ('colombiaelige', 'elecciones2014'), ('eleccionescolombia', 'votoenblanco'), ('colombia', 'elecciones2014'), ('chi2014', 'retweetme'), ('measles', 'vaccineswork'), ('boisestate', 'professors'), ('boisestate', 'dataviz'), ('dataviz', 'professors'), ('colombia', 'elecciones2014'), ('colombia', 'elecciones2014'), ('d3js', 'dataviz'), ('dataviz', 'sports'), ('football', 'sports'), ('dataviz', 'football'), ('yabt', 'youngentrepreneurs'), ('eco', 'yabt'), ('business', 'yabt'), ('sustainability', 'yabt'), ('eco', 'youngentrepreneurs'), ('business', 'youngentrepreneurs'), ('sustainability', 'youngentrepreneurs'), ('business', 'eco'), ('eco', 'sustainability'), ('business', 'sustainability'), ('dataviz', 'tapestryconf'), ('keepitfree', 'wikipedia'), ('dataviz', 'strataconf'), ('emprendimiento', 'innovación'), ('emprendimiento', 'iris'), ('ciegos', 'emprendimiento'), ('innovación', 'iris'), ('ciegos', 'innovación'), ('ciegos', 'iris'), ('d3js', 'ona13'), ('hcil', 'ieeevis'), ('hcil', 'treeversity'), ('datavis', 'treeversity'), ('d3js', 'treeversity'), ('datavis', 'hcil'), ('d3js', 'hcil'), ('d3js', 'datavis'), ('openideas', 'somosudi'), ('chi2020', 'hci'), ('academiclife', 'academictwitter'), ('brailleblaster', 'brailleimages'), ('bayd3', 'd3js'), ('dataviz', 'raw'), ('d3', 'raw'), ('diy', 'raw'), ('d3', 'dataviz'), ('dataviz', 'diy'), ('d3', 'diy'), ('dataviz', 'infographics'), ('infovis', 'umcp'), ('infovis', 'umd'), ('umcp', 'umd'), ('hcil', 'umcp'), ('hci', 'hcil'), ('hci', 'umcp'), ('larespuestaescolombia', 'maravillasdecolombia'), ('infovis', 'sna'), ('datavis', 'sna'), ('sna', 'socialmedia'), ('datavis', 'infovis'), ('infovis', 'socialmedia'), ('datavis', 'socialmedia'), ('hcil', 'infovis'), ('hcil', 'infovis'), ('hcil', 'umd'), ('hcil', 'umd'), ('hcil', 'umd'), ('infovis', 'scivis'), ('chi', 'dataviz'), ('analytics', 'dataviz'), ('dataviz', 'football'), ('analytics', 'football'), ('entrepreneurs', 'startup'), ('icdl', 'storykit'), ('dataviz', 'reactjs'), ('datagif', 'visualization'), ('soyparquesoft', 'vivolatecnología'), ('hcil', 'umd'), ('soyparquesoft', 'vivolatecnología'), ('cattlab', 'hcil'), ('nfbtg', 'soyparquesoft'), ('nfbtg', 'soyparquesoft'), ('bigdata', 'fiaumd'), ('hcil', 'ischool'), ('infoviz', 'oscars'), ('dataviz', 'infographics'), ('dataviz', 'visualization'), ('infographics', 'visualization'), ('d3js', 'infovis'), ('d3js', 'infovis'), ('d3js', 'hcil'), ('hcil', 'infovis'), ('hcil', 'umcp'), ('infovis', 'nodexl'), ('hcil', 'infovis'), ('hcil', 'nodexl'), ('ddjbook', 'infovis'), ('machinelearning', 'neurips2019'), ('dataviz', 'visfestunconf'), ('infovis', 'time'), ('hcil', 'treeversity'), ('hcil', 'monotrans'), ('d3', 'processing'), ('convocatoria', 'socent'), ('goodtimeatthelab', 'hcil'), ('fiaumd', 'umd'), ('infovis', 'umd'), ('hcil', 'infovis'), ('hcil', 'umd'), ('infovis', 'umd'), ('visweek', 'visweekposterdemo'), ('chi2012', 'hcil'), ('iamfirst', 'william'), ('google', 'youngminds'), ('google', 'zeitgeist'), ('youngminds', 'zeitgeist'), ('google', 'techcrunch'), ('chi2011', 'deadspace2'), ('deadspace2', 'hcil'), ('chi2011', 'hcil'), ('chi2011', 'iumd'), ('chi2011', 'hcil'), ('hcil', 'iumd'), ('datajournalism', 'dataviz'), ('dataviz', 'tableau'), ('data19', 'dataviz'), ('data19', 'tableau'), ('chi2020', 'hci'), ('assets19', 'assets2019'), ('assets2019', 'dataviz'), ('assets19', 'dataviz'), ('halloween', 'halloween2019'), ('iccv', 'iccv2019'), ('eleccionescolombia', 'eleccionescolombia2019'), ('assets2019', 'machinelearning'), ('network', 'visualization'), ('dataviz', 'network'), ('dataviz', 'visualization'), ('hci', 'ir'), ('datascience', 'ir'), ('ir', 'ischool'), ('datascience', 'hci'), ('hci', 'ischool'), ('datascience', 'ischool'), ('dataviz', 'visualization'), ('ieeevis', 'visualization'), ('dataviz', 'ieeevis'), ('assets2019', 'shameonme'), ('ieeevis', 'tsne'), ('dataviz', 'ieeevis2019'), ('ieeevis', 'ldav'), ('dataviz', 'generative'), ('creativecoding', 'dataviz'), ('d3js', 'dataviz'), ('creativecoding', 'generative'), ('d3js', 'generative'), ('creativecoding', 'd3js'), ('ieeevis2019', 'ieeevis2019'), ('ieeevis', 'vsup'), ('ieeevis', 'ldav'), ('ieeevis', 'vis4dh'), ('digitalhumanities', 'vis4dh'), ('digitalhumanities', 'ieeevis'), ('ieeevis', 'tutorial'), ('ai', 'hci'), ('a11y', 'hci'), ('a11y', 'ai'), ('sanddance', 'vscode'), ('deckgl', 'sanddance'), ('deckgl', 'vscode'), ('japan', 'tactilegraphics'), ('tactilegraphics', 'tactileuniverse'), ('tactilegraphics', 'tactilemaps'), ('japan', 'tactileuniverse'), ('japan', 'tactilemaps'), ('tactilemaps', 'tactileuniverse'), ('dataviz', 'dataviz'), ('dataviz', 'opendata'), ('machinelearning', 'stats'), ('machinelearning', 'openscience'), ('openscience', 'stats'), ('3dmodels', 'microbiology'), ('3dmodels', 'blind'), ('3dmodels', 'visuallyimpaired'), ('blind', 'microbiology'), ('microbiology', 'visuallyimpaired'), ('blind', 'visuallyimpaired'), ('dataviz', 'opendata'), ('foss4g', 'foss4gna'), ('foss4g2019', 'foss4gna'), ('foss4g19', 'foss4gna'), ('foss4g', 'foss4g2019'), ('foss4g', 'foss4g19'), ('foss4g19', 'foss4g2019'), ('dlindaba', 'sautiyetu'), ('dlindaba2019', 'sautiyetu'), ('deepindaba', 'sautiyetu'), ('deeplearningindaba', 'sautiyetu'), ('dlindaba19', 'sautiyetu'), ('dlindaba', 'dlindaba2019'), ('deepindaba', 'dlindaba'), ('deeplearningindaba', 'dlindaba'), ('dlindaba', 'dlindaba19'), ('deepindaba', 'dlindaba2019'), ('deeplearningindaba', 'dlindaba2019'), ('dlindaba19', 'dlindaba2019'), ('deepindaba', 'deeplearningindaba'), ('deepindaba', 'dlindaba19'), ('deeplearningindaba', 'dlindaba19'), ('foss4g', 'foss4gna'), ('foss4g2019', 'foss4gna'), ('foss4g19', 'foss4gna'), ('dataviz', 'foss4gna'), ('foss4g', 'foss4g2019'), ('foss4g', 'foss4g19'), ('dataviz', 'foss4g'), ('foss4g19', 'foss4g2019'), ('dataviz', 'foss4g2019'), ('dataviz', 'foss4g19'), ('foss4gna', 'gis'), ('foss4g', 'gis'), ('foss4g2019', 'gis'), ('foss4g19', 'gis'), ('foss4g', 'foss4gna'), ('foss4g2019', 'foss4gna'), ('foss4g19', 'foss4gna'), ('foss4g', 'foss4g2019'), ('foss4g', 'foss4g19'), ('foss4g19', 'foss4g2019'), ('d3unconf', 'visfestunconf'), ('dataviz', 'visfestunconf'), ('dataviz', 'savethedata'), ('deeplearning', 'machinelearning'), ('dlindaba', 'sautiyetu'), ('dlindaba2019', 'sautiyetu'), ('deeplearningindaba', 'sautiyetu'), ('dataviz', 'sautiyetu'), ('dlindaba', 'dlindaba2019'), ('deeplearningindaba', 'dlindaba'), ('dataviz', 'dlindaba'), ('deeplearningindaba', 'dlindaba2019'), ('dataviz', 'dlindaba2019'), ('dataviz', 'deeplearningindaba'), ('accessibility', 'datavis'), ('datavisualization', 'vega'), ('vega', 'visualization'), ('datavisualization', 'visualization'), ('dataviz', 'siggraph2019'), ('ismb19', 'ismbeccb19'), ('biovis', 'ismbeccb19'), ('ismbeccb19', 'ismbeccb2019'), ('ismb2019', 'ismbeccb19'), ('ismbeccb', 'ismbeccb19'), ('bosc2019', 'ismbeccb19'), ('biovis', 'ismb19'), ('ismb19', 'ismbeccb2019'), ('ismb19', 'ismb2019'), ('ismb19', 'ismbeccb'), ('bosc2019', 'ismb19'), ('biovis', 'ismbeccb2019'), ('biovis', 'ismb2019'), ('biovis', 'ismbeccb'), ('biovis', 'bosc2019'), ('ismb2019', 'ismbeccb2019'), ('ismbeccb', 'ismbeccb2019'), ('bosc2019', 'ismbeccb2019'), ('ismb2019', 'ismbeccb'), ('bosc2019', 'ismb2019'), ('bosc2019', 'ismbeccb'), ('dataviz', 'tdf2019'), ('infographic', 'interactive'), ('react', 'rstats'), ('atlántico', 'covid19'), ('d3js', 'voronoï'), ('ismbeccb2019', 'ismbfollowgreatwomen'), ('ismb19', 'ismbeccb19'), ('ismbeccb19', 'ismbeccb2019'), ('ismb2019', 'ismbeccb19'), ('biovis', 'ismbeccb19'), ('ismb19', 'ismbeccb2019'), ('ismb19', 'ismb2019'), ('biovis', 'ismb19'), ('ismb2019', 'ismbeccb2019'), ('biovis', 'ismbeccb2019'), ('biovis', 'ismb2019'), ('biovis', 'dataviz'), ('biovis', 'netviz'), ('dataviz', 'netviz'), ('biovis', 'ismbeccb2019'), ('biovis', 'ismbeccb2019'), ('biovis', 'ismbeccb'), ('biovis', 'keynote'), ('ismbeccb', 'keynote'), ('dataviz', 'nasa'), ('dataviz', 'user2019'), ('dataviz', 'user2019'), ('dataviz', 'vizrisk'), ('dataviz', 'user2019'), ('d3js', 'dataviz'), ('dataviz', 'nodeconfco'), ('dataviz', 'jsconfco'), ('dataviz', 'opendata'), ('dataviz', 'nodejs'), ('dataviz', 'javascript'), ('jsconfco', 'nodeconfco'), ('nodeconfco', 'opendata'), ('nodeconfco', 'nodejs'), ('javascript', 'nodeconfco'), ('jsconfco', 'opendata'), ('jsconfco', 'nodejs'), ('javascript', 'jsconfco'), ('nodejs', 'opendata'), ('javascript', 'opendata'), ('javascript', 'nodejs'), ('computervision', 'machinelearning'), ('cvpr2019', 'machinelearning'), ('computervision', 'cvpr2019'), ('dataviz', 'openvisconf'), ('dataviz', 'datavizsociety'), ('datavizsociety', 'openvisconf'), ('dataviz', 'eyeo2019'), ('dataviz', 'tapestryconf'), ('eyeo2019', 'tapestryconf'), ('dataviz', 'ieeevis2018'), ('dataviz', 'eurovis2019'), ('eurovis2019', 'ieeevis2018'), ('europeansemester', 'growth'), ('dataviz', 'storytelling'), ('chi2019', 'storytelling'), ('datascience', 'storytelling'), ('chi2019', 'dataviz'), ('datascience', 'dataviz'), ('chi2019', 'datascience'), ('dataviz', 'scrollytelling'), ('datajournalism', 'dj'), ('datajournalism', 'dataviz'), ('dataviz', 'dj'), ('dataviz', 'eyeo2019'), ('dataviz', 'infovis'), ('dataviz', 'poverty'), ('dataviz', 'vizrisk'), ('ai', 'machinelearning'), ('cybersecurity', 'visualization'), ('thewebconf', 'www19'), ('climatechange', 'dataviz'), ('dataviz', 'fridays4future'), ('climatechange', 'fridays4future'), ('eu', 'euelections2019'), ('euelections', 'euelections2019'), ('eu', 'euelections'), ('chi2019', 'sigchi'), ('chi2019', 'chi2020'), ('chi2020', 'sigchi'), ('dataviz', 'netviz'), ('chi2019', 'dataviz'), ('dataviz', 'infographics'), ('dataviz', 'ddj'), ('ddj', 'infographics'), ('javascript', 'stats'), ('customerexperience', 'cx'), ('customerexperience', 'cxsummit2019'), ('customerexperience', 'tipscx'), ('cx', 'cxsummit2019'), ('cx', 'tipscx'), ('cxsummit2019', 'tipscx'), ('dataviz', 'machinelearning'), ('insights', 'machinelearning'), ('cxsummit2019', 'machinelearning'), ('dataviz', 'insights'), ('cxsummit2019', 'dataviz'), ('cxsummit2019', 'insights'), ('chi2019', 'visualization'), ('chi2019', 'ieeevis'), ('dataviz', 'dataviz'), ('pydata', 'python'), ('aframe', 'umap'), ('dataviz', 'naviojs'), ('datascience', 'naviojs'), ('datascience', 'dataviz'), ('datatondelsenado', 'datosabiertos'), ('datatondelsenado', 'datosabiertos'), ('dataviz', 'naviojs'), ('romania', 'tactilegraphics'), ('dataviz', 'rstat'), ('bogota', 'd3js'), ('d3js', 'dataviz'), ('bogota', 'dataviz'), ('dataviz', 'naviojs'), ('dataviz', 'sucosummit'), ('creativecoding', 'dataart'), ('dataviz', 'naviojs'), ('dataviz', 'naviojs'), ('a11y', 'dataviz'), ('d3js', 'javascript'), ('ieeevis', 'networkvisualization'), ('dataviz', 'networkvisualization'), ('dataviz', 'ieeevis'), ('express', 'nodejs'), ('mongodb', 'nodejs'), ('nodejs', 'react'), ('express', 'mongodb'), ('express', 'react'), ('mongodb', 'react'), ('dataviz', 'infographics'), ('hcil', 'machinelearning'), ('ces2019', 'keynote'), ('dataviz', 'neurips2018'), ('ai', 'humancentered'), ('humancentered', 'visualization'), ('ai', 'visualization'), ('knowie', 'tenis'), ('machinelearning', 'neurips'), ('ieeevis2018', 'openvisconf'), ('dataviz', 'tapestryconf'), ('dataviz', 'tapestryconf'), ('charticulator', 'tapestryconf'), ('gandissect', 'ganpaint'), ('infographics', 'iot'), ('infographics', 'internetofthings'), ('digitalmarketing', 'infographics'), ('bigdata', 'infographics'), ('internetofthings', 'iot'), ('digitalmarketing', 'iot'), ('bigdata', 'iot'), ('digitalmarketing', 'internetofthings'), ('bigdata', 'internetofthings'), ('bigdata', 'digitalmarketing'), ('innovación', 'sucolsummit'), ('exponential', 'sucolsummit'), ('innovation', 'sucolsummit'), ('colombia', 'sucolsummit'), ('dataviz', 'sucolsummit'), ('exponential', 'innovation'), ('colombia', 'exponential'), ('dataviz', 'exponential'), ('colombia', 'innovation'), ('dataviz', 'innovation'), ('colombia', 'dataviz'), ('clustergrammer2', 'scipy2020'), ('a11y', 'webdevelopment'), ('dataviz', 'vr'), ('bigdata', 'dataviz'), ('beexponential', 'bigdata'), ('beexponential', 'dataviz'), ('biggan', 'dataviz'), ('biggan', 'ml'), ('dataviz', 'ml'), ('a11y', 'dataviz'), ('dataviz', 'jsconfco'), ('cscw', 'dataviz'), ('dataviz', 'datosabiertos'), ('d3js', 'dataviz'), ('dataviz', 'ieeevis2018'), ('dataviz', 'ieeevis2018'), ('dataviz', 'ieeevis'), ('hcil', 'ieeevis'), ('a11y', 'hcil'), ('a11y', 'ieeevis'), ('dataviz', 'vr'), ('draco', 'ieeevis'), ('hcil', 'ieeevis'), ('dataviz', 'ieeevis'), ('belivws', 'ieeevis'), ('ieeevis', 'latins'), ('col', 'ieeevis'), ('col', 'latins'), ('ieeevis', 'visxai'), ('ieeevis', 'vizsec2018'), ('ieeevis2018', 'machinelearning'), ('dataviz', 'ieeevis'), ('dataviz', 'waterdata'), ('hurricanemichael', 'waterdata'), ('rstats', 'waterdata'), ('dataviz', 'hurricanemichael'), ('dataviz', 'rstats'), ('hurricanemichael', 'rstats'), ('charticulator', 'iibawards'), ('dataviz', 'infographics'), ('dataviz', 'ddj'), ('ddj', 'infographics'), ('accessibility', 'tactilegraphics'), ('machinelearning', 'visualization'), ('nodejs', 'reactjs'), ('florence', 'usgs'), ('covid19', 'dataviz'), ('chi2020', 'research'), ('research', 'tactilegraphics'), ('chi2020', 'tactilegraphics'), ('covid19', 'latinx'), ('covid_19', 'dataviz'), ('datosabiertos', 'opendata'), ('colombia', 'consultaanticorrupción'), ('consultaanticorrupción', 'yovotecontralacorrupción'), ('consultaanticorrupción', 'dataviz'), ('colombia', 'yovotecontralacorrupción'), ('colombia', 'dataviz'), ('dataviz', 'yovotecontralacorrupción'), ('consultaanticoncorrupcion', 'datosabiertos'), ('dataviz', 'siggraph2018'), ('betterpresentations', 'dataviz'), ('datavis', 'ieeevis'), ('dataviz', 'ddj'), ('dataviz', 'ddj'), ('feedly', 'infovis'), ('colombiavsinglaterra', 'rusia2018'), ('rusia2018', 'vamoscolombia'), ('col', 'rusia2018'), ('eng', 'rusia2018'), ('colombiavsinglaterra', 'vamoscolombia'), ('col', 'colombiavsinglaterra'), ('colombiavsinglaterra', 'eng'), ('col', 'vamoscolombia'), ('eng', 'vamoscolombia'), ('col', 'eng'), ('dataviz', 'scrollytelling'), ('dataviz', 'eleccionescolombia'), ('cvpr2018', 'dataviz'), ('copa2018', 'copamundial'), ('copamundial', 'dataviz'), ('arg', 'copamundial'), ('copa2018', 'dataviz'), ('arg', 'copa2018'), ('arg', 'dataviz'), ('cvpr2018', 'dataviz'), ('arg', 'col'), ('bra', 'col'), ('col', 'copamundial2018'), ('col', 'dataviz'), ('arg', 'bra'), ('arg', 'copamundial2018'), ('arg', 'dataviz'), ('bra', 'copamundial2018'), ('bra', 'dataviz'), ('copamundial2018', 'dataviz'), ('colombia', 'eleccionescolombia'), ('colombia', 'colombiadecide'), ('colombia', 'dataviz'), ('colombia', 'dataviz'), ('colombiadecide', 'eleccionescolombia'), ('dataviz', 'eleccionescolombia'), ('dataviz', 'eleccionescolombia'), ('colombiadecide', 'dataviz'), ('colombiadecide', 'dataviz'), ('dataviz', 'dataviz'), ('imagine', 'iwvc'), ('iwvc', 'ml'), ('deeplearning', 'iwvc'), ('a11y', 'dataviz'), ('d3js', 'dataviz'), ('p5', 'webdev'), ('altec', 'eleccionescolombia'), ('datavisualization', 'ir'), ('meteor', 'react'), ('d3', 'meteor'), ('d3', 'react'), ('uncertainty', 'visualizing'), ('uncertainty', 'visinpractice'), ('visinpractice', 'visualizing'), ('d3js', 'datavisualization'), ('a11y', 'aiforaccessibility'), ('d3js', 'networkviz'), ('ai', 'machineleaning'), ('ai', 'iclr2018'), ('ai', 'dataviz'), ('iclr2018', 'machineleaning'), ('dataviz', 'machineleaning'), ('dataviz', 'iclr2018'), ('chi2018', 'chi2018'), ('infovis', 'infovis'), ('feedly', 'infovis'), ('chi2018', 'dataviz'), ('datavisualization', 'reactjs'), ('dataviz', 'hci'), ('a11y', 'w4a18'), ('d3js', 'networkvisualization'), ('d3js', 'dataviz'), ('dataviz', 'networkvisualization'), ('chi2018', 'chi2018'), ('chi2018', 'mobile'), ('chi2018', 'visualization'), ('mobile', 'visualization'), ('dataviz', 'opendata'), ('feedly', 'infovis')]\n"
          ]
        }
      ]
    },
    {
      "cell_type": "markdown",
      "source": [
        "## **Count Edges** Where Two Hashtags Appear Together in a Tweet"
      ],
      "metadata": {
        "id": "I-D_LcdELqcL"
      }
    },
    {
      "cell_type": "code",
      "source": [
        "G = nx.Graph()\n",
        "G.add_edges_from([tuple(l) for l in hashtag_edges])\n",
        "partition = community_louvain.best_partition(G)\n",
        "print('partition: ', partition)\n",
        "# for k,v in partition.items():\n",
        "#   print(k,v )\n",
        "# source_partition = dict(filter(lambda x: partition.items))\n",
        "\n",
        "edge_dict = defaultdict(int)\n",
        "\n",
        "for edge in hashtag_edges:\n",
        "  edge_dict[tuple(edge)] += 1    # count edges\n",
        "# print(edge_dict)\n",
        "\n",
        "data_table =[]\n",
        "for k, v in edge_dict.items():\n",
        "  table_dict = {'source_node': k[0],\n",
        "                'target_node': k[1],\n",
        "                'count_edge': v,\n",
        "                'cluster_source': partition[k[0]],\n",
        "                'cluster_target': partition[k[1]]}\n",
        "\n",
        "\n",
        "  # clusters = {}\n",
        "  # for node, cluster_id in partition.items():\n",
        "  #   if cluster_id not in clusters:\n",
        "  #     clusters[cluster_id] = []\n",
        "  #   clusters[cluster_id].append(node)\n",
        "  # print('clusters: ',clusters)\n",
        "  #   # print('node, cluster_id: ',node, cluster_id)\n",
        "  #   # table_dict['node'] =\n",
        "\n",
        "  #               # 'cluster_source': partition[]}\n",
        "  data_table.append(table_dict)\n",
        "\n",
        "with open('hashtag_nodes_and_edges_v3.json', 'w') as f:\n",
        "  json.dump(data_table, f)\n",
        "\n",
        "data_table[:10]"
      ],
      "metadata": {
        "id": "7Mm_czKtJrv3",
        "outputId": "137e5d35-6f56-44f7-b7fc-9a7a9212f82b",
        "colab": {
          "base_uri": "https://localhost:8080/"
        }
      },
      "execution_count": 257,
      "outputs": [
        {
          "output_type": "stream",
          "name": "stdout",
          "text": [
            "partition:  {'ar': 0, 'uist2020': 0, 'dataviz': 1, 'eurovis': 1, 'a11y': 9, 'tactileart': 3, 'tactiledrawing': 3, 'nicar18': 4, 'rstats': 4, 'datavis': 4, 'infodesign': 4, 'feedly': 6, 'infovis': 2, 'colorpicker': 1, 'd3js': 27, 'rstudioconf': 9, 'datascience': 9, 'blind': 10, 'braille': 10, 'atia18': 10, 'pokeviz': 27, '100daysofdataviz': 1, 'rusia2018': 11, 'visualizacion': 11, 'cfp': 2, 'ieeevis': 2, 'treemap': 27, 'reactjs': 12, 'regl': 12, 'webdev': 12, 'webgl': 12, 'deckgl': 12, 'vegalite': 16, 'proudteacher': 12, 'semiotic': 14, 'starwars': 14, 'covidー19': 29, 'ai': 16, 'machinelearning': 6, 'metoo': 1, 'netviz': 1, 'bogotá': 6, 'revealjs': 27, 'hcil': 9, 'projectlincoln': 1, 'javascript': 12, 'statistics': 9, 'visualization': 16, 'immersive2017': 2, 'testoftime': 2, 'vizsec': 2, 'deeplearning': 2, 'tensorflow': 2, '2q17': 18, 'btw17': 18, 'meteorjs': 12, 'assets2017': 16, 'chi2018': 16, 'elasticsearch': 1, 'matplotlib': 19, 'pandas': 19, 'ggplot2': 19, 'nodejs': 12, 'mongodb': 12, 'bigdata': 6, 'insights': 6, 'react': 12, 'uber': 16, 'bogota': 27, 'openaccess': 2, 'ddj': 4, 'chinese': 27, 'data': 27, 'keras': 22, 'neuralnets': 22, 'storytelling': 9, 'd3': 4, 'gameofthrones': 2, 'infosec': 1, 'includetheuser': 6, 'isrpbl2017': 6, 'visualanalytics': 6, 'bitcoin': 1, 'vega': 16, 'vis': 16, 'datajournalism': 4, 'digitalhumanities': 4, 'msdatasummit': 23, 'powerbi': 23, 'forecasting': 4, 'networkvisualization': 2, 'gd2017': 1, 'networkvisualizations': 1, 'openvisconf': 16, 'iclr2020': 9, 'pml4dc': 9, 'chi2017': 16, 'networks': 27, 'humor': 6, 'vr': 1, 'd3annotation': 27, 'sdgatlas': 1, 'meteor': 12, 'vizbeyond': 1, 'stateofobesity': 1, 'datavisualization': 16, 'csunatc17': 24, 'tactilegraphics': 24, 'manchestercity': 1, 'monaco': 1, 'es2015': 27, 'infographics': 6, 'blackhistory': 25, 'dj3s': 25, 'covid_19': 29, 'covid19': 4, 'sublimetext': 27, 'inauguration': 1, 'classicviz': 16, 'hamilton': 1, 'fakenews': 9, 'msnbc': 9, 'datatiz': 26, 'makeovermonday': 26, 'python': 27, 'tsne': 2, '3da11y': 10, '3dprinting': 10, '3dmodels': 10, 'electionresults': 1, 'scrollytelling': 1, 'opendata': 12, 'condatos2016': 12, 'creativecoding': 27, 'dewey': 27, 'ml': 1, 'ilustrador': 27, 'vds': 2, 'plebiscito': 12, 'datosabiertos': 12, 'debate': 1, 'everychartisjustanotherchart': 27, 'vpdebate': 1, 'cityvis': 28, 'habitat3': 28, 'd3unconf': 1, 'visualizations': 6, 'colombia': 29, 'tbt': 16, 'text': 1, 'clubesdeciencia': 30, 'fórmulasdecambio': 30, 'chart': 31, 'covid': 31, 'coronavirusencolombia': 29, 'visualización': 29, 'innovation': 29, 'measure': 1, 'china': 32, 'india': 32, 'nigeria': 32, 'hackethercamp': 29, 'humanintheloop': 6, 'stats': 6, 'euro2016': 2, 'interactive': 2, 'generative': 27, 'typography': 27, 'tableau': 1, 'zensontour': 1, 'vcworkshop2016': 2, 'clubesdecienciaco': 2, 'avi2016': 33, 'treemaps': 33, 'visualizing': 33, 'conexiónegresados': 30, 'aseutp': 30, 'thebiggest': 6, 'superheroes': 34, 'superviz': 34, 'stratahadoop': 2, 'lcfc': 1, 'bump': 1, 'hospitaluniversitario': 6, 'bestworstviz': 2, 'topojson': 27, 'coronavirus': 29, 'photography': 1, 'football': 16, 'soccer': 16, 'oscars': 1, 'dds2016': 4, 'sb50': 16, 'takeaction': 35, 'virunga': 35, 'chi2016': 6, 'entrepreneurship': 36, 'gecmedellín': 36, 'layout': 27, 'es6': 27, 'merch': 27, 'col': 11, 'canvas': 27, 's': 1, 'network': 16, 'davaviz': 2, 'endrainbow': 9, 'vast2015': 2, 'brazil': 29, 'coronaviruscolombia': 29, 'jornadashcipuebla': 37, 'zelda': 37, 'breathofthewild': 37, 'ceo': 38, 'jackdorsey': 38, 'expocamello2015': 39, 'periscope': 39, 'technology': 6, 'datapoints': 4, 'gis': 27, 'mapping': 27, 'flickr': 9, 'goldengatepark': 9, 'markdown': 27, 'tufte': 27, 'yahoohq': 9, 'europe': 1, 'marriageequaility': 1, 'distractinglysexy': 9, 'oakland': 4, 'meetup': 4, 'sanfrancisco': 4, 'genverde': 40, 'parquesoft': 40, 'felicidad': 41, 'muuu': 41, 'cali': 6, 'umd': 9, 'cfar': 9, 'demandsolutions': 42, 'startup': 42, 'contextualism': 43, 'relativism': 43, 'andresfelipegiraldo': 44, 'startappsacademic': 44, 'wingz': 44, 'scicomm': 1, 'night': 4, 'citysight': 4, 'advice': 45, 'business': 45, 'marriage': 1, 'ecoreto': 46, 'nicaragua': 46, 'ticamericas': 46, 'bigthinkers': 1, 'fitness': 1, 'idea2014': 47, 'kdd2014': 47, 'hci': 9, 'analytics': 6, 'parcforum': 6, 'tidybayes': 4, 'pi': 2, 'worldcup': 11, 'jpn': 11, 'brazil2014': 11, 'datatothemac': 48, 'showandtell': 48, 'nedvsesp': 11, 'colombiaelige': 29, 'eleccionescolombia': 29, 'elecciones2014': 29, 'votoenblanco': 29, 'chi2014': 49, 'retweetme': 49, 'measles': 50, 'vaccineswork': 50, 'boisestate': 1, 'professors': 1, 'sports': 16, 'yabt': 45, 'youngentrepreneurs': 45, 'eco': 45, 'sustainability': 45, 'tapestryconf': 1, 'keepitfree': 51, 'wikipedia': 51, 'strataconf': 1, 'emprendimiento': 29, 'innovación': 29, 'iris': 29, 'ciegos': 29, 'ona13': 27, 'treeversity': 4, 'openideas': 52, 'somosudi': 52, 'chi2020': 9, 'academiclife': 53, 'academictwitter': 53, 'brailleblaster': 54, 'brailleimages': 54, 'bayd3': 27, 'raw': 4, 'diy': 4, 'umcp': 9, 'larespuestaescolombia': 55, 'maravillasdecolombia': 55, 'sna': 4, 'socialmedia': 4, 'scivis': 2, 'chi': 1, 'entrepreneurs': 42, 'icdl': 56, 'storykit': 56, 'datagif': 16, 'soyparquesoft': 57, 'vivolatecnología': 57, 'cattlab': 9, 'nfbtg': 57, 'fiaumd': 9, 'ischool': 9, 'infoviz': 1, 'nodexl': 9, 'ddjbook': 2, 'neurips2019': 6, 'visfestunconf': 1, 'time': 2, 'monotrans': 9, 'processing': 4, 'convocatoria': 58, 'socent': 58, 'goodtimeatthelab': 9, 'visweek': 59, 'visweekposterdemo': 59, 'chi2012': 9, 'iamfirst': 60, 'william': 60, 'google': 61, 'youngminds': 61, 'zeitgeist': 61, 'techcrunch': 61, 'chi2011': 9, 'deadspace2': 9, 'iumd': 9, 'data19': 1, 'assets19': 1, 'assets2019': 1, 'halloween': 62, 'halloween2019': 62, 'iccv': 63, 'iccv2019': 63, 'eleccionescolombia2019': 29, 'ir': 9, 'shameonme': 1, 'ieeevis2019': 1, 'ldav': 2, 'vsup': 2, 'vis4dh': 4, 'tutorial': 2, 'sanddance': 12, 'vscode': 12, 'japan': 24, 'tactileuniverse': 24, 'tactilemaps': 24, 'openscience': 6, 'microbiology': 10, 'visuallyimpaired': 10, 'foss4g': 27, 'foss4gna': 27, 'foss4g2019': 27, 'foss4g19': 27, 'dlindaba': 64, 'sautiyetu': 64, 'dlindaba2019': 64, 'deepindaba': 64, 'deeplearningindaba': 64, 'dlindaba19': 64, 'savethedata': 1, 'accessibility': 24, 'siggraph2019': 1, 'ismb19': 65, 'ismbeccb19': 65, 'biovis': 65, 'ismbeccb2019': 65, 'ismb2019': 65, 'ismbeccb': 65, 'bosc2019': 65, 'tdf2019': 1, 'infographic': 2, 'atlántico': 4, 'voronoï': 27, 'ismbfollowgreatwomen': 65, 'keynote': 65, 'nasa': 1, 'user2019': 1, 'vizrisk': 1, 'nodeconfco': 12, 'jsconfco': 12, 'computervision': 6, 'cvpr2019': 6, 'datavizsociety': 16, 'eyeo2019': 1, 'ieeevis2018': 1, 'eurovis2019': 1, 'europeansemester': 5, 'growth': 5, 'chi2019': 9, 'dj': 4, 'poverty': 1, 'cybersecurity': 16, 'thewebconf': 7, 'www19': 7, 'climatechange': 1, 'fridays4future': 1, 'eu': 8, 'euelections2019': 8, 'euelections': 8, 'sigchi': 9, 'customerexperience': 6, 'cx': 6, 'cxsummit2019': 6, 'tipscx': 6, 'pydata': 27, 'aframe': 13, 'umap': 13, 'naviojs': 9, 'datatondelsenado': 12, 'romania': 24, 'rstat': 1, 'sucosummit': 1, 'dataart': 27, 'express': 12, 'ces2019': 65, 'neurips2018': 1, 'humancentered': 16, 'knowie': 15, 'tenis': 15, 'neurips': 6, 'charticulator': 1, 'gandissect': 17, 'ganpaint': 17, 'iot': 6, 'internetofthings': 6, 'digitalmarketing': 6, 'sucolsummit': 29, 'exponential': 29, 'clustergrammer2': 20, 'scipy2020': 20, 'webdevelopment': 9, 'beexponential': 6, 'biggan': 1, 'cscw': 1, 'draco': 2, 'belivws': 2, 'latins': 11, 'visxai': 2, 'vizsec2018': 2, 'waterdata': 4, 'hurricanemichael': 4, 'iibawards': 1, 'florence': 21, 'usgs': 21, 'research': 24, 'latinx': 4, 'consultaanticorrupción': 29, 'yovotecontralacorrupción': 29, 'consultaanticoncorrupcion': 12, 'siggraph2018': 1, 'betterpresentations': 1, 'colombiavsinglaterra': 11, 'vamoscolombia': 11, 'eng': 11, 'cvpr2018': 1, 'copa2018': 11, 'copamundial': 11, 'arg': 11, 'bra': 11, 'copamundial2018': 11, 'colombiadecide': 29, 'imagine': 2, 'iwvc': 2, 'p5': 12, 'altec': 29, 'uncertainty': 33, 'visinpractice': 33, 'aiforaccessibility': 9, 'networkviz': 27, 'machineleaning': 16, 'iclr2018': 16, 'w4a18': 9, 'mobile': 16}\n"
          ]
        },
        {
          "output_type": "execute_result",
          "data": {
            "text/plain": [
              "[{'source_node': 'ar',\n",
              "  'target_node': 'uist2020',\n",
              "  'count_edge': 1,\n",
              "  'cluster_source': 0,\n",
              "  'cluster_target': 0},\n",
              " {'source_node': 'dataviz',\n",
              "  'target_node': 'eurovis',\n",
              "  'count_edge': 1,\n",
              "  'cluster_source': 1,\n",
              "  'cluster_target': 1},\n",
              " {'source_node': 'a11y',\n",
              "  'target_node': 'dataviz',\n",
              "  'count_edge': 4,\n",
              "  'cluster_source': 9,\n",
              "  'cluster_target': 1},\n",
              " {'source_node': 'tactileart',\n",
              "  'target_node': 'tactiledrawing',\n",
              "  'count_edge': 1,\n",
              "  'cluster_source': 3,\n",
              "  'cluster_target': 3},\n",
              " {'source_node': 'nicar18',\n",
              "  'target_node': 'rstats',\n",
              "  'count_edge': 1,\n",
              "  'cluster_source': 4,\n",
              "  'cluster_target': 4},\n",
              " {'source_node': 'datavis',\n",
              "  'target_node': 'infodesign',\n",
              "  'count_edge': 1,\n",
              "  'cluster_source': 4,\n",
              "  'cluster_target': 4},\n",
              " {'source_node': 'feedly',\n",
              "  'target_node': 'infovis',\n",
              "  'count_edge': 17,\n",
              "  'cluster_source': 6,\n",
              "  'cluster_target': 2},\n",
              " {'source_node': 'colorpicker',\n",
              "  'target_node': 'dataviz',\n",
              "  'count_edge': 1,\n",
              "  'cluster_source': 1,\n",
              "  'cluster_target': 1},\n",
              " {'source_node': 'd3js',\n",
              "  'target_node': 'dataviz',\n",
              "  'count_edge': 32,\n",
              "  'cluster_source': 27,\n",
              "  'cluster_target': 1},\n",
              " {'source_node': 'dataviz',\n",
              "  'target_node': 'rstudioconf',\n",
              "  'count_edge': 1,\n",
              "  'cluster_source': 1,\n",
              "  'cluster_target': 9}]"
            ]
          },
          "metadata": {},
          "execution_count": 257
        }
      ]
    },
    {
      "cell_type": "code",
      "source": [
        "import networkx as nx\n",
        "import community.community_louvain as community_louvain\n",
        "\n",
        "# Example list of tuples representing edges in a network\n",
        "edges = [(1, 2), (2, 3), (3, 4), (4, 5), (5, 1), (3, 6), (6, 7), (7, 3)]\n",
        "\n",
        "# Create a graph from the edges\n",
        "graph = nx.Graph()\n",
        "graph.add_edges_from(edges)\n",
        "\n",
        "# Run the Louvain algorithm\n",
        "partition = community_louvain.best_partition(graph)\n",
        "print('partition: ', partition)\n",
        "# Retrieve the clusters\n",
        "clusters = {}\n",
        "for node, cluster_id in partition.items():\n",
        "    print(f'node = {node}, cluster_id = {cluster_id}')\n",
        "    if cluster_id not in clusters:\n",
        "        clusters[cluster_id] = []\n",
        "    clusters[cluster_id].append(node)\n",
        "\n",
        "# Print the clusters\n",
        "for cluster_id, nodes in clusters.items():\n",
        "    print(f\"Cluster {cluster_id}: {nodes}\")"
      ],
      "metadata": {
        "id": "Tr2fd916elG3",
        "outputId": "2995c706-4f5e-4ee8-85da-c03d56706e9c",
        "colab": {
          "base_uri": "https://localhost:8080/"
        }
      },
      "execution_count": 238,
      "outputs": [
        {
          "output_type": "stream",
          "name": "stdout",
          "text": [
            "partition:  {1: 0, 2: 0, 3: 2, 4: 1, 5: 1, 6: 2, 7: 2}\n",
            "node = 1, cluster_id = 0\n",
            "node = 2, cluster_id = 0\n",
            "node = 3, cluster_id = 2\n",
            "node = 4, cluster_id = 1\n",
            "node = 5, cluster_id = 1\n",
            "node = 6, cluster_id = 2\n",
            "node = 7, cluster_id = 2\n",
            "Cluster 0: [1, 2]\n",
            "Cluster 2: [3, 6, 7]\n",
            "Cluster 1: [4, 5]\n"
          ]
        }
      ]
    },
    {
      "cell_type": "code",
      "source": [
        "G = nx.Graph()\n",
        "\n",
        "# nodes\n",
        "G.add_nodes_from(hashtag_nodes)\n",
        "for hashtag in hashtag_nodes:\n",
        "  # print('hashtag: ',hashtag)\n",
        "  G.nodes[hashtag]['hashtag'] = hashtag\n",
        "\n",
        "# edges\n",
        "\n",
        "for edge in hashtag_edges:\n",
        "  print('edge: ', edge)\n",
        "  G.add_edges_from(edge)\n",
        "\n",
        "edges = []\n",
        "for edge in G.edges(data=True):\n",
        "  print(edge)\n",
        "  # source_node, target_node, weight = edge\n",
        "  # data_table = {\n",
        "  #     'source_node'=source_node,\n",
        "  #     'target_node'=target_node,\n",
        "  #     'weight'=weight[''],\n",
        "  # }\n",
        "\n",
        "\n",
        "# pos = nx.fruchterman_reingold_layout(G)\n",
        "# viz = nxa.draw_networkx(\n",
        "#     G=G,\n",
        "#     pos=pos,\n",
        "#     node_size=100,\n",
        "#     # node_tooltip=[\"hashtag\", 'weight'],\n",
        "#     node_label=\"hashtag\",\n",
        "#     edge_color=\"gray\",\n",
        "#     node_color=\"skyblue\",\n",
        "#     font_size=10\n",
        "\n",
        "#     #     G=G,\n",
        "#     # pos=pos,\n",
        "\n",
        "#     # node_color='steelblue',\n",
        "#     # edge_color='gray',\n",
        "#     # node_size=20,\n",
        "# ).properties(\n",
        "#     width=700,\n",
        "#     height=500,\n",
        "#     title=\"@duto_guerra's Hashtag Co-occurrence (use mouse to zoom in/out)\"\n",
        "# )\n",
        "\n",
        "# viz.interactive()"
      ],
      "metadata": {
        "id": "dP5gtsAbbVzP",
        "outputId": "44cff889-e3f2-4d23-cfc4-4dd97c4060e4",
        "colab": {
          "base_uri": "https://localhost:8080/",
          "height": 374
        }
      },
      "execution_count": null,
      "outputs": [
        {
          "output_type": "stream",
          "name": "stdout",
          "text": [
            "edge:  ['ar', 'uist2020']\n"
          ]
        },
        {
          "output_type": "error",
          "ename": "NetworkXError",
          "evalue": "ignored",
          "traceback": [
            "\u001b[0;31m---------------------------------------------------------------------------\u001b[0m",
            "\u001b[0;31mNetworkXError\u001b[0m                             Traceback (most recent call last)",
            "\u001b[0;32m<ipython-input-155-65566db00c15>\u001b[0m in \u001b[0;36m<cell line: 11>\u001b[0;34m()\u001b[0m\n\u001b[1;32m     11\u001b[0m \u001b[0;32mfor\u001b[0m \u001b[0medge\u001b[0m \u001b[0;32min\u001b[0m \u001b[0mhashtag_edges\u001b[0m\u001b[0;34m:\u001b[0m\u001b[0;34m\u001b[0m\u001b[0;34m\u001b[0m\u001b[0m\n\u001b[1;32m     12\u001b[0m   \u001b[0mprint\u001b[0m\u001b[0;34m(\u001b[0m\u001b[0;34m'edge: '\u001b[0m\u001b[0;34m,\u001b[0m \u001b[0medge\u001b[0m\u001b[0;34m)\u001b[0m\u001b[0;34m\u001b[0m\u001b[0;34m\u001b[0m\u001b[0m\n\u001b[0;32m---> 13\u001b[0;31m   \u001b[0mG\u001b[0m\u001b[0;34m.\u001b[0m\u001b[0madd_edges_from\u001b[0m\u001b[0;34m(\u001b[0m\u001b[0medge\u001b[0m\u001b[0;34m)\u001b[0m\u001b[0;34m\u001b[0m\u001b[0;34m\u001b[0m\u001b[0m\n\u001b[0m\u001b[1;32m     14\u001b[0m \u001b[0;34m\u001b[0m\u001b[0m\n\u001b[1;32m     15\u001b[0m \u001b[0medges\u001b[0m \u001b[0;34m=\u001b[0m \u001b[0;34m[\u001b[0m\u001b[0;34m]\u001b[0m\u001b[0;34m\u001b[0m\u001b[0;34m\u001b[0m\u001b[0m\n",
            "\u001b[0;32m/usr/local/lib/python3.10/dist-packages/networkx/classes/graph.py\u001b[0m in \u001b[0;36madd_edges_from\u001b[0;34m(self, ebunch_to_add, **attr)\u001b[0m\n\u001b[1;32m   1022\u001b[0m                 \u001b[0mdd\u001b[0m \u001b[0;34m=\u001b[0m \u001b[0;34m{\u001b[0m\u001b[0;34m}\u001b[0m  \u001b[0;31m# doesn't need edge_attr_dict_factory\u001b[0m\u001b[0;34m\u001b[0m\u001b[0;34m\u001b[0m\u001b[0m\n\u001b[1;32m   1023\u001b[0m             \u001b[0;32melse\u001b[0m\u001b[0;34m:\u001b[0m\u001b[0;34m\u001b[0m\u001b[0;34m\u001b[0m\u001b[0m\n\u001b[0;32m-> 1024\u001b[0;31m                 \u001b[0;32mraise\u001b[0m \u001b[0mNetworkXError\u001b[0m\u001b[0;34m(\u001b[0m\u001b[0;34mf\"Edge tuple {e} must be a 2-tuple or 3-tuple.\"\u001b[0m\u001b[0;34m)\u001b[0m\u001b[0;34m\u001b[0m\u001b[0;34m\u001b[0m\u001b[0m\n\u001b[0m\u001b[1;32m   1025\u001b[0m             \u001b[0;32mif\u001b[0m \u001b[0mu\u001b[0m \u001b[0;32mnot\u001b[0m \u001b[0;32min\u001b[0m \u001b[0mself\u001b[0m\u001b[0;34m.\u001b[0m\u001b[0m_node\u001b[0m\u001b[0;34m:\u001b[0m\u001b[0;34m\u001b[0m\u001b[0;34m\u001b[0m\u001b[0m\n\u001b[1;32m   1026\u001b[0m                 \u001b[0;32mif\u001b[0m \u001b[0mu\u001b[0m \u001b[0;32mis\u001b[0m \u001b[0;32mNone\u001b[0m\u001b[0;34m:\u001b[0m\u001b[0;34m\u001b[0m\u001b[0;34m\u001b[0m\u001b[0m\n",
            "\u001b[0;31mNetworkXError\u001b[0m: Edge tuple uist2020 must be a 2-tuple or 3-tuple."
          ]
        }
      ]
    },
    {
      "cell_type": "code",
      "source": [
        "print(len(l_lt))"
      ],
      "metadata": {
        "id": "lzmYzRSHbVdb",
        "outputId": "0fa20b2e-1c76-40b4-92e9-732da6193d9a",
        "colab": {
          "base_uri": "https://localhost:8080/"
        }
      },
      "execution_count": null,
      "outputs": [
        {
          "output_type": "stream",
          "name": "stdout",
          "text": [
            "2\n"
          ]
        }
      ]
    },
    {
      "cell_type": "code",
      "source": [
        "lt = list()\n",
        "for inner_list in l_lt:\n",
        "  # if len(inner_list) == 1:\n",
        "  lt.append(list(map(list,inner_list)))\n",
        "print(lt)"
      ],
      "metadata": {
        "id": "TtDNc2j-bVON",
        "outputId": "87ab9509-30a4-4f4f-f9a3-6d574159e958",
        "colab": {
          "base_uri": "https://localhost:8080/"
        }
      },
      "execution_count": null,
      "outputs": [
        {
          "output_type": "stream",
          "name": "stdout",
          "text": [
            "[[['d3js', 'dataviz']], [['rstudioconf', 'DataViz'], ['rstudioconf', 'DataScience'], ['DataViz', 'DataScience']]]\n"
          ]
        }
      ]
    },
    {
      "cell_type": "markdown",
      "source": [
        "### itertools.combinations:\n",
        "itertools.combinations() provides us with **all the possible tuples** a sequence or set of numbers or letters used in the iterator and the elements are assumed to be unique on the basis of their positions which are distinct for all elements."
      ],
      "metadata": {
        "id": "kMnqqhoishvH"
      }
    },
    {
      "cell_type": "code",
      "source": [
        "\n",
        "# for i in range(len(data)-5800):\n",
        "#   if len(data[i]['entities']['hashtags']) == 0:\n",
        "#     continue\n",
        "#   elif\n",
        "\n",
        "hashtag_set = set() # For nodes\n",
        "hashtag_list = list() # For edges\n",
        "\n",
        "for tweet_dict in data[:200]:\n",
        "    # print(tweet_dict)\n",
        "    hashtag_dict = tweet_dict[\"entities\"][\"hashtags\"]\n",
        "    # print('hashtag_dict => ', hashtag_dict)\n",
        "    if len(hashtag_dict) == 0: # No hashtags in this tweet\n",
        "        continue\n",
        "\n",
        "    hashtags = [hashtag[\"text\"] for hashtag in hashtag_dict]\n",
        "    print('hashtags ===> ', hashtags)\n",
        "    # print('hashtag_set.update(hashtags):  ',hashtag_set.update(hashtags))\n",
        "    # print(hashtag_set.update(hashtags))\n",
        "    hashtag_set.update(hashtags)\n",
        "    # hashtag_set.update(hashtags)\n",
        "    if len(hashtags) > 1: # Multilpe hashtags in a tweet\n",
        "        hashtag_list.append(list(itertools.combinations(hashtags, r=2)))\n",
        "        # print('hashtag_list: ', hashtag_list,'\\n')\n",
        "\n",
        "print('\\n========================== RETURN ==========================')\n",
        "print('NODES, hashtag_set: ',hashtag_set)\n",
        "print('EDGES, hashtag_list: ',hashtag_list)\n",
        "\n",
        "# 'hashtags': [{'text': 'WebDev', 'indices': ['16', '23']}, {'text': 'Meteorjs', 'indices': ['96', '105']}, {'text': 'reactjs', 'indices': ['106', '114']}]\n",
        "# three hashtags: ['WebDev','Meteorjs','reactjs']\n",
        "# itertool.combinations: [('WebDev', 'Meteorjs'), ('WebDev', 'reactjs'), ('Meteorjs', 'reactjs')]"
      ],
      "metadata": {
        "id": "w8KGkIqQY4I2",
        "outputId": "af6c3bb3-b845-4550-cc30-9c48a9047c58",
        "colab": {
          "base_uri": "https://localhost:8080/"
        }
      },
      "execution_count": null,
      "outputs": [
        {
          "output_type": "stream",
          "name": "stdout",
          "text": [
            "hashtags ===>  ['dataviz']\n",
            "hashtags ===>  ['dataviz']\n",
            "hashtags ===>  ['dataviz']\n",
            "hashtags ===>  ['dataviz']\n",
            "hashtags ===>  ['dataviz']\n",
            "hashtags ===>  ['d3js']\n",
            "hashtags ===>  ['CSS']\n",
            "hashtags ===>  ['clearviewai']\n",
            "hashtags ===>  ['dataviz']\n",
            "hashtags ===>  ['UIST2020', 'AR']\n",
            "hashtags ===>  ['dataViz']\n",
            "hashtags ===>  ['dataviz']\n",
            "hashtags ===>  ['ieeevis']\n",
            "hashtags ===>  ['dataviz']\n",
            "hashtags ===>  ['eurovis', 'dataviz']\n",
            "hashtags ===>  ['eurovis']\n",
            "hashtags ===>  ['dataviz']\n",
            "hashtags ===>  ['EuroVis2020']\n",
            "hashtags ===>  ['ieeevis']\n",
            "hashtags ===>  ['BigDataMeetup']\n",
            "hashtags ===>  ['dataviz', 'a11y']\n",
            "hashtags ===>  ['proudTeacher']\n",
            "hashtags ===>  ['TactileArt', 'TactileDrawing']\n",
            "hashtags ===>  ['NICAR18', 'rstats']\n",
            "hashtags ===>  ['infodesign', 'datavis']\n",
            "hashtags ===>  ['ML']\n",
            "hashtags ===>  ['infovis', 'feedly']\n",
            "hashtags ===>  ['rstudioconf']\n",
            "hashtags ===>  ['NoVotoXCorruptos']\n",
            "hashtags ===>  ['dataviz']\n",
            "hashtags ===>  ['OpenDataDay']\n",
            "hashtags ===>  ['NiceXAxis']\n",
            "hashtags ===>  ['dataviz', 'colorpicker']\n",
            "hashtags ===>  ['SIGCSE2018']\n",
            "hashtags ===>  ['meta']\n",
            "hashtags ===>  ['dataviz']\n",
            "hashtags ===>  ['rstats']\n",
            "hashtags ===>  ['ML']\n",
            "hashtags ===>  ['dataviz']\n",
            "hashtags ===>  ['datosYGuaroS']\n",
            "hashtags ===>  ['datosYGuaros']\n",
            "hashtags ===>  ['d3js', 'dataviz']\n",
            "hashtags ===>  ['FelizDiaDelPeriodista']\n",
            "hashtags ===>  ['ElasticStack']\n",
            "hashtags ===>  ['rstudioconf', 'DataViz', 'DataScience']\n",
            "hashtags ===>  ['AI']\n",
            "hashtags ===>  ['rstudioconf']\n",
            "hashtags ===>  ['rstudioconf']\n",
            "hashtags ===>  ['rstats']\n",
            "hashtags ===>  ['rstudioconf']\n",
            "\n",
            "========================== RETURN ==========================\n",
            "NODES, hashtag_set:  {'proudTeacher', 'TactileDrawing', 'ElasticStack', 'clearviewai', 'ieeevis', 'infodesign', 'BigDataMeetup', 'EuroVis2020', 'DataViz', 'infovis', 'dataViz', 'ML', 'datosYGuaros', 'FelizDiaDelPeriodista', 'rstudioconf', 'datavis', 'AR', 'NICAR18', 'TactileArt', 'UIST2020', 'NoVotoXCorruptos', 'OpenDataDay', 'datosYGuaroS', 'dataviz', 'colorpicker', 'feedly', 'DataScience', 'a11y', 'meta', 'rstats', 'CSS', 'NiceXAxis', 'eurovis', 'SIGCSE2018', 'd3js', 'AI'}\n",
            "EDGES, hashtag_list:  [[('UIST2020', 'AR')], [('eurovis', 'dataviz')], [('dataviz', 'a11y')], [('TactileArt', 'TactileDrawing')], [('NICAR18', 'rstats')], [('infodesign', 'datavis')], [('infovis', 'feedly')], [('dataviz', 'colorpicker')], [('d3js', 'dataviz')], [('rstudioconf', 'DataViz'), ('rstudioconf', 'DataScience'), ('DataViz', 'DataScience')]]\n"
          ]
        }
      ]
    },
    {
      "cell_type": "code",
      "source": [
        "node_ls = []\n",
        "# for i in range(len(data)-5810):\n",
        "for i in range(len(data)):\n",
        "  # print(i, d[i]['entities']['hashtags'])\n",
        "  for j in range(len(data[i]['entities']['hashtags'])):\n",
        "    # print('j: ', j)\n",
        "    if len(data[i]['entities']['hashtags']) > 0:\n",
        "      # print(\"data[i]['entities']['hashtags'][j]['text'] => \", data[i]['entities']['hashtags'][j]['text'])\n",
        "      node_ls.append(data[i]['entities']['hashtags'][j]['text'])\n",
        "\n",
        "set(node_ls[:25])\n",
        "node_ls[:20]"
      ],
      "metadata": {
        "id": "_62T5DVEvdJa",
        "outputId": "5886914b-d1f9-4dfb-c0b7-666ee0794122",
        "colab": {
          "base_uri": "https://localhost:8080/"
        }
      },
      "execution_count": null,
      "outputs": [
        {
          "output_type": "execute_result",
          "data": {
            "text/plain": [
              "['dataviz',\n",
              " 'dataviz',\n",
              " 'dataviz',\n",
              " 'dataviz',\n",
              " 'dataviz',\n",
              " 'd3js',\n",
              " 'CSS',\n",
              " 'clearviewai',\n",
              " 'dataviz',\n",
              " 'UIST2020',\n",
              " 'AR',\n",
              " 'dataViz',\n",
              " 'dataviz',\n",
              " 'ieeevis',\n",
              " 'dataviz',\n",
              " 'eurovis',\n",
              " 'dataviz',\n",
              " 'eurovis',\n",
              " 'dataviz',\n",
              " 'EuroVis2020']"
            ]
          },
          "metadata": {},
          "execution_count": 30
        }
      ]
    },
    {
      "cell_type": "code",
      "source": [
        "import collections\n",
        "count = dict(collections.Counter(node_ls[:20]))\n",
        "print(f'count.keys() = {count.keys()}\\ncount.values() = {count.values()}\\n')\n",
        "count\n",
        "\n",
        "# defaultdict(int,\n",
        "#             {'dataviz': 11,\n",
        "#              'd3js': 1,\n",
        "#              'css': 1,\n",
        "#              'clearviewai': 1,\n",
        "#              'uist2020': 1,\n",
        "#              'ar': 1,\n",
        "#              'ieeevis': 1,\n",
        "#              'eurovis': 2,\n",
        "#              'eurovis2020': 1})"
      ],
      "metadata": {
        "id": "HgtfEajdxNpC",
        "outputId": "5551d056-c396-45f7-b1d5-1e5b1dd4dbd5",
        "colab": {
          "base_uri": "https://localhost:8080/"
        }
      },
      "execution_count": null,
      "outputs": [
        {
          "output_type": "stream",
          "name": "stdout",
          "text": [
            "count.keys() = dict_keys(['dataviz', 'd3js', 'CSS', 'clearviewai', 'UIST2020', 'AR', 'dataViz', 'ieeevis', 'eurovis', 'EuroVis2020'])\n",
            "count.values() = dict_values([10, 1, 1, 1, 1, 1, 1, 1, 2, 1])\n",
            "\n"
          ]
        },
        {
          "output_type": "execute_result",
          "data": {
            "text/plain": [
              "{'dataviz': 10,\n",
              " 'd3js': 1,\n",
              " 'CSS': 1,\n",
              " 'clearviewai': 1,\n",
              " 'UIST2020': 1,\n",
              " 'AR': 1,\n",
              " 'dataViz': 1,\n",
              " 'ieeevis': 1,\n",
              " 'eurovis': 2,\n",
              " 'EuroVis2020': 1}"
            ]
          },
          "metadata": {},
          "execution_count": 34
        }
      ]
    },
    {
      "cell_type": "code",
      "source": [
        "edge_keys = []\n",
        "for i in range(len(data)):\n",
        "    j = 0\n",
        "    for k in range(1,len(data[i]['entities']['hashtags'])):\n",
        "      edge_keys.append([data[i]['entities']['hashtags'][j]['text'], data[i]['entities']['hashtags'][k]['text']])\n",
        "      if k == len(data[i]['entities']['hashtags']) - 1 and k > j+1:\n",
        "        j += 1\n",
        "        edge_keys.append(sorted([data[i]['entities']['hashtags'][j]['text'], data[i]['entities']['hashtags'][k]['text']]))\n",
        "\n",
        "edge_keys[:30]"
      ],
      "metadata": {
        "id": "V5ckokEzZrwA",
        "outputId": "4b543efa-c4c0-4539-84b3-1602eb1ba0b6",
        "colab": {
          "base_uri": "https://localhost:8080/"
        }
      },
      "execution_count": null,
      "outputs": [
        {
          "output_type": "execute_result",
          "data": {
            "text/plain": [
              "[['UIST2020', 'AR'],\n",
              " ['eurovis', 'dataviz'],\n",
              " ['dataviz', 'a11y'],\n",
              " ['TactileArt', 'TactileDrawing'],\n",
              " ['NICAR18', 'rstats'],\n",
              " ['infodesign', 'datavis'],\n",
              " ['infovis', 'feedly'],\n",
              " ['dataviz', 'colorpicker'],\n",
              " ['d3js', 'dataviz'],\n",
              " ['rstudioconf', 'DataViz'],\n",
              " ['rstudioconf', 'DataScience'],\n",
              " ['DataScience', 'DataViz'],\n",
              " ['Braille', 'Blind'],\n",
              " ['Braille', 'ATIA18'],\n",
              " ['ATIA18', 'Blind'],\n",
              " ['pokeviz', 'd3js'],\n",
              " ['100daysofdataviz', 'dataviz'],\n",
              " ['d3js', 'datascience'],\n",
              " ['Rusia2018', 'dataviz'],\n",
              " ['Rusia2018', 'visualizacion'],\n",
              " ['dataviz', 'visualizacion'],\n",
              " ['dataviz', 'D3js'],\n",
              " ['ieeevis', 'CFP'],\n",
              " ['Treemap', 'dataviz'],\n",
              " ['Treemap', 'D3js'],\n",
              " ['D3js', 'dataviz'],\n",
              " ['regl', 'reactjs'],\n",
              " ['regl', 'WebDev'],\n",
              " ['WebDev', 'reactjs'],\n",
              " ['d3js', 'WebDev']]"
            ]
          },
          "metadata": {},
          "execution_count": 42
        }
      ]
    },
    {
      "cell_type": "code",
      "source": [
        "hashtag_set = set() # For nodes\n",
        "hashtag_list = list() # For edges\n",
        "\n",
        "for tweet_dict in data:\n",
        "    hashtag_dict = tweet_dict[\"entities\"][\"hashtags\"]\n",
        "    if len(hashtag_dict) == 0: # No hashtags in this tweet\n",
        "        continue\n",
        "\n",
        "    hashtags = [hashtag[\"text\"] for hashtag in hashtag_dict]\n",
        "    hashtag_set.update(hashtags)\n",
        "    hashtag_set.update(hashtags)\n",
        "    if len(hashtags) > 1: # Multilpe hashtags in a tweet\n",
        "        hashtag_list.append(list(itertools.combinations(hashtags, r=2)))\n",
        "hashtag_list[:20]"
      ],
      "metadata": {
        "id": "VhTWNZNGaM_I",
        "outputId": "e495f221-160b-4e13-9283-c6a587cf2de5",
        "colab": {
          "base_uri": "https://localhost:8080/"
        }
      },
      "execution_count": null,
      "outputs": [
        {
          "output_type": "execute_result",
          "data": {
            "text/plain": [
              "[[('UIST2020', 'AR')],\n",
              " [('eurovis', 'dataviz')],\n",
              " [('dataviz', 'a11y')],\n",
              " [('TactileArt', 'TactileDrawing')],\n",
              " [('NICAR18', 'rstats')],\n",
              " [('infodesign', 'datavis')],\n",
              " [('infovis', 'feedly')],\n",
              " [('dataviz', 'colorpicker')],\n",
              " [('d3js', 'dataviz')],\n",
              " [('rstudioconf', 'DataViz'),\n",
              "  ('rstudioconf', 'DataScience'),\n",
              "  ('DataViz', 'DataScience')],\n",
              " [('Braille', 'Blind'), ('Braille', 'ATIA18'), ('Blind', 'ATIA18')],\n",
              " [('pokeviz', 'd3js')],\n",
              " [('100daysofdataviz', 'dataviz')],\n",
              " [('d3js', 'datascience')],\n",
              " [('Rusia2018', 'dataviz'),\n",
              "  ('Rusia2018', 'visualizacion'),\n",
              "  ('dataviz', 'visualizacion')],\n",
              " [('dataviz', 'D3js')],\n",
              " [('ieeevis', 'CFP')],\n",
              " [('Treemap', 'dataviz'), ('Treemap', 'D3js'), ('dataviz', 'D3js')],\n",
              " [('regl', 'reactjs'), ('regl', 'WebDev'), ('reactjs', 'WebDev')],\n",
              " [('d3js', 'WebDev')]]"
            ]
          },
          "metadata": {},
          "execution_count": 38
        }
      ]
    },
    {
      "cell_type": "code",
      "source": [
        "from collections import defaultdict\n",
        "node_dic = defaultdict(int)\n",
        "for node in node_ls[:20]:\n",
        "    print('node: ', node)\n",
        "    node_dic[node] += 1\n",
        "    print('node_dic[node]: ', node_dic[node], '\\n')\n",
        "node_dic"
      ],
      "metadata": {
        "id": "eZj2fHtMvq62",
        "outputId": "431f38f8-586f-462d-8bda-7f14ac4f130e",
        "colab": {
          "base_uri": "https://localhost:8080/"
        }
      },
      "execution_count": null,
      "outputs": [
        {
          "output_type": "stream",
          "name": "stdout",
          "text": [
            "node:  dataviz\n",
            "node_dic[node]:  1 \n",
            "\n",
            "node:  dataviz\n",
            "node_dic[node]:  2 \n",
            "\n",
            "node:  dataviz\n",
            "node_dic[node]:  3 \n",
            "\n",
            "node:  dataviz\n",
            "node_dic[node]:  4 \n",
            "\n",
            "node:  dataviz\n",
            "node_dic[node]:  5 \n",
            "\n",
            "node:  d3js\n",
            "node_dic[node]:  1 \n",
            "\n",
            "node:  css\n",
            "node_dic[node]:  1 \n",
            "\n",
            "node:  clearviewai\n",
            "node_dic[node]:  1 \n",
            "\n",
            "node:  dataviz\n",
            "node_dic[node]:  6 \n",
            "\n",
            "node:  uist2020\n",
            "node_dic[node]:  1 \n",
            "\n",
            "node:  ar\n",
            "node_dic[node]:  1 \n",
            "\n",
            "node:  dataviz\n",
            "node_dic[node]:  7 \n",
            "\n",
            "node:  dataviz\n",
            "node_dic[node]:  8 \n",
            "\n",
            "node:  ieeevis\n",
            "node_dic[node]:  1 \n",
            "\n",
            "node:  dataviz\n",
            "node_dic[node]:  9 \n",
            "\n",
            "node:  eurovis\n",
            "node_dic[node]:  1 \n",
            "\n",
            "node:  dataviz\n",
            "node_dic[node]:  10 \n",
            "\n",
            "node:  eurovis\n",
            "node_dic[node]:  2 \n",
            "\n",
            "node:  dataviz\n",
            "node_dic[node]:  11 \n",
            "\n",
            "node:  eurovis2020\n",
            "node_dic[node]:  1 \n",
            "\n"
          ]
        },
        {
          "output_type": "execute_result",
          "data": {
            "text/plain": [
              "defaultdict(int,\n",
              "            {'dataviz': 11,\n",
              "             'd3js': 1,\n",
              "             'css': 1,\n",
              "             'clearviewai': 1,\n",
              "             'uist2020': 1,\n",
              "             'ar': 1,\n",
              "             'ieeevis': 1,\n",
              "             'eurovis': 2,\n",
              "             'eurovis2020': 1})"
            ]
          },
          "metadata": {},
          "execution_count": 14
        }
      ]
    },
    {
      "cell_type": "code",
      "source": [
        "[hashtag['text'] for hashtag in data[21]['entities']['hashtags']]"
      ],
      "metadata": {
        "colab": {
          "base_uri": "https://localhost:8080/"
        },
        "id": "yDnQ9EV3toSv",
        "outputId": "edc91710-4e23-4416-ae0d-eed07f76fe00"
      },
      "execution_count": null,
      "outputs": [
        {
          "output_type": "execute_result",
          "data": {
            "text/plain": [
              "['dataviz']"
            ]
          },
          "metadata": {},
          "execution_count": 15
        }
      ]
    },
    {
      "cell_type": "code",
      "source": [
        "# question: do we need to consider different letter case hashtags as two different hashtags? i.e. css vs CSS\n",
        "nodes_ht = []\n",
        "for i in range(len(data)-5810):\n",
        "  if len(data[i]['entities']['hashtags']) > 0:\n",
        "    ht = [hashtag['text'] for hashtag in data[i]['entities']['hashtags']]\n",
        "    nodes_ht.extend(ht)\n",
        "set(nodes_ht)"
      ],
      "metadata": {
        "colab": {
          "base_uri": "https://localhost:8080/"
        },
        "id": "uhHtmJtZ9Vgb",
        "outputId": "1c6169e3-2a92-43ec-92af-062437e5df3e"
      },
      "execution_count": null,
      "outputs": [
        {
          "output_type": "execute_result",
          "data": {
            "text/plain": [
              "{'AR',\n",
              " 'CSS',\n",
              " 'UIST2020',\n",
              " 'clearviewai',\n",
              " 'd3js',\n",
              " 'dataViz',\n",
              " 'dataviz',\n",
              " 'eurovis',\n",
              " 'ieeevis'}"
            ]
          },
          "metadata": {},
          "execution_count": 16
        }
      ]
    },
    {
      "cell_type": "code",
      "source": [],
      "metadata": {
        "id": "ucCJv7XgP3NZ"
      },
      "execution_count": null,
      "outputs": []
    }
  ]
}