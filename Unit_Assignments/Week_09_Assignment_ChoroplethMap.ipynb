{
  "nbformat": 4,
  "nbformat_minor": 0,
  "metadata": {
    "colab": {
      "provenance": [],
      "include_colab_link": true
    },
    "kernelspec": {
      "name": "python3",
      "display_name": "Python 3"
    }
  },
  "cells": [
    {
      "cell_type": "markdown",
      "metadata": {
        "id": "view-in-github",
        "colab_type": "text"
      },
      "source": [
        "<a href=\"https://colab.research.google.com/github/heesukjang/W209_DataViz_Summer2023/blob/main/Unit_Assignments/Week_09_Assignment_ChoroplethMap.ipynb\" target=\"_parent\"><img src=\"https://colab.research.google.com/assets/colab-badge.svg\" alt=\"Open In Colab\"/></a>"
      ]
    },
    {
      "cell_type": "markdown",
      "source": [
        "## W209 Data Visualization, Summer 2023\n",
        "**Week 9 Assignment<br>\n",
        "Heesuk Jang**\n",
        "\n",
        "### All tracks<br>\n",
        "\n",
        "This weeks assignment is to plot a county-level choropleth using the \"unemployment\" dataset available here: https://cdn.jsdelivr.net/npm/vega-datasets@1.29.0/data/.\n",
        "\n",
        "You can load this dataset in Observable by importing the JS package, see example here.\n",
        "\n",
        "In Python, you can load this dataset directly from\n",
        "\n",
        "**from vega_datasets import data<br>\n",
        "source = data.unemployment.url**\n",
        "\n",
        "**For Tableau**, you can download the TSV file from the link."
      ],
      "metadata": {
        "id": "9KD9N6x4Dyd-"
      }
    },
    {
      "cell_type": "code",
      "source": [
        "!pip install nx_altair"
      ],
      "metadata": {
        "colab": {
          "base_uri": "https://localhost:8080/"
        },
        "id": "Kz_AjBzVgjYq",
        "outputId": "a74ee479-3c94-41aa-e11e-5839c97e5e4f"
      },
      "execution_count": 1,
      "outputs": [
        {
          "output_type": "stream",
          "name": "stdout",
          "text": [
            "Looking in indexes: https://pypi.org/simple, https://us-python.pkg.dev/colab-wheels/public/simple/\n",
            "Collecting nx_altair\n",
            "  Downloading nx_altair-0.1.6-py3-none-any.whl (7.9 kB)\n",
            "Requirement already satisfied: pandas in /usr/local/lib/python3.10/dist-packages (from nx_altair) (1.5.3)\n",
            "Requirement already satisfied: networkx in /usr/local/lib/python3.10/dist-packages (from nx_altair) (3.1)\n",
            "Requirement already satisfied: altair in /usr/local/lib/python3.10/dist-packages (from nx_altair) (4.2.2)\n",
            "Requirement already satisfied: entrypoints in /usr/local/lib/python3.10/dist-packages (from altair->nx_altair) (0.4)\n",
            "Requirement already satisfied: jinja2 in /usr/local/lib/python3.10/dist-packages (from altair->nx_altair) (3.1.2)\n",
            "Requirement already satisfied: jsonschema>=3.0 in /usr/local/lib/python3.10/dist-packages (from altair->nx_altair) (4.3.3)\n",
            "Requirement already satisfied: numpy in /usr/local/lib/python3.10/dist-packages (from altair->nx_altair) (1.22.4)\n",
            "Requirement already satisfied: toolz in /usr/local/lib/python3.10/dist-packages (from altair->nx_altair) (0.12.0)\n",
            "Requirement already satisfied: python-dateutil>=2.8.1 in /usr/local/lib/python3.10/dist-packages (from pandas->nx_altair) (2.8.2)\n",
            "Requirement already satisfied: pytz>=2020.1 in /usr/local/lib/python3.10/dist-packages (from pandas->nx_altair) (2022.7.1)\n",
            "Requirement already satisfied: attrs>=17.4.0 in /usr/local/lib/python3.10/dist-packages (from jsonschema>=3.0->altair->nx_altair) (23.1.0)\n",
            "Requirement already satisfied: pyrsistent!=0.17.0,!=0.17.1,!=0.17.2,>=0.14.0 in /usr/local/lib/python3.10/dist-packages (from jsonschema>=3.0->altair->nx_altair) (0.19.3)\n",
            "Requirement already satisfied: six>=1.5 in /usr/local/lib/python3.10/dist-packages (from python-dateutil>=2.8.1->pandas->nx_altair) (1.16.0)\n",
            "Requirement already satisfied: MarkupSafe>=2.0 in /usr/local/lib/python3.10/dist-packages (from jinja2->altair->nx_altair) (2.1.3)\n",
            "Installing collected packages: nx_altair\n",
            "Successfully installed nx_altair-0.1.6\n"
          ]
        }
      ]
    },
    {
      "cell_type": "code",
      "source": [
        "from vega_datasets import data\n",
        "source = data.unemployment.url\n",
        "source"
      ],
      "metadata": {
        "id": "ij4vtHPy9MP2",
        "outputId": "9d77bbbb-1707-4cc7-a6cc-137340658a3c",
        "colab": {
          "base_uri": "https://localhost:8080/",
          "height": 35
        }
      },
      "execution_count": 11,
      "outputs": [
        {
          "output_type": "execute_result",
          "data": {
            "text/plain": [
              "'https://cdn.jsdelivr.net/npm/vega-datasets@v1.29.0/data/unemployment.tsv'"
            ],
            "application/vnd.google.colaboratory.intrinsic+json": {
              "type": "string"
            }
          },
          "metadata": {},
          "execution_count": 11
        }
      ]
    },
    {
      "cell_type": "code",
      "metadata": {
        "colab": {
          "base_uri": "https://localhost:8080/",
          "height": 52
        },
        "id": "pYi8D8Zs6F_T",
        "outputId": "4dc3736f-3821-4197-cbdc-6df6bac0f252"
      },
      "source": [
        "import altair as alt\n",
        "import pandas as pd\n",
        "import numpy as np\n",
        "import networkx as nx\n",
        "import nx_altair as nxa\n",
        "from itertools import combinations\n",
        "import json\n",
        "from collections import defaultdict\n",
        "import community.community_louvain as community_louvain\n",
        "\n",
        "# Gdrive Mount using gmail account\n",
        "from google.colab import drive\n",
        "drive.mount('/content/gdrive')\n",
        "\n",
        "pd.options.display.float_format = '{:.0f}'.format\n",
        "pd.__version__"
      ],
      "execution_count": 2,
      "outputs": [
        {
          "output_type": "stream",
          "name": "stdout",
          "text": [
            "Mounted at /content/gdrive\n"
          ]
        },
        {
          "output_type": "execute_result",
          "data": {
            "text/plain": [
              "'1.5.3'"
            ],
            "application/vnd.google.colaboratory.intrinsic+json": {
              "type": "string"
            }
          },
          "metadata": {},
          "execution_count": 2
        }
      ]
    },
    {
      "cell_type": "markdown",
      "source": [
        "## Read JSON file from Google Drive (Gmail Account)"
      ],
      "metadata": {
        "id": "dcscmoZ5KcFy"
      }
    },
    {
      "cell_type": "code",
      "source": [
        "with open('/content/gdrive/MyDrive/W209_DataViz/duto_guerra_tweets.json') as f:\n",
        "  file = f.read()\n",
        "  data = json.loads(file)\n",
        "\n",
        "# two hashtags appear together in a tweet\n",
        "print(f\"len(data) = {len(data)}\\nhashtags: count_edges = {len(data[181]['entities']['hashtags'])}, {data[181]['entities']['hashtags']}\\n\")\n",
        "data[181]"
      ],
      "metadata": {
        "colab": {
          "base_uri": "https://localhost:8080/"
        },
        "id": "xbwkUggAAsi6",
        "outputId": "78c29cd2-e23c-4794-fb0b-f4b682e82c78"
      },
      "execution_count": 3,
      "outputs": [
        {
          "output_type": "stream",
          "name": "stdout",
          "text": [
            "len(data) = 5872\n",
            "hashtags: count_edges = 3, [{'text': 'rstudioconf', 'indices': ['59', '71']}, {'text': 'DataViz', 'indices': ['138', '146']}, {'text': 'DataScience', 'indices': ['147', '159']}]\n",
            "\n"
          ]
        },
        {
          "output_type": "execute_result",
          "data": {
            "text/plain": [
              "{'retweeted': False,\n",
              " 'source': '<a href=\"http://twitter.com\" rel=\"nofollow\">Twitter Web Client</a>',\n",
              " 'entities': {'user_mentions': [{'name': 'RStudio',\n",
              "    'screen_name': 'rstudio',\n",
              "    'indices': ['18', '26'],\n",
              "    'id_str': '235261861',\n",
              "    'id': '235261861'}],\n",
              "  'urls': [{'url': 'https://t.co/sN6CjOYIhH',\n",
              "    'expanded_url': 'http://johnguerra.co/viz/influentials/RStudioConf2018/',\n",
              "    'display_url': 'johnguerra.co/viz/influentia…',\n",
              "    'indices': ['114', '137']}],\n",
              "  'symbols': [],\n",
              "  'media': [{'expanded_url': 'https://twitter.com/duto_guerra/status/959841361070567425/photo/1',\n",
              "    'indices': ['160', '183'],\n",
              "    'url': 'https://t.co/FzHtxIYfVP',\n",
              "    'media_url': 'http://pbs.twimg.com/tweet_video_thumb/DVIKSrBWkAAJuEG.jpg',\n",
              "    'id_str': '959840986485657600',\n",
              "    'id': '959840986485657600',\n",
              "    'media_url_https': 'https://pbs.twimg.com/tweet_video_thumb/DVIKSrBWkAAJuEG.jpg',\n",
              "    'sizes': {'medium': {'w': '600', 'h': '558', 'resize': 'fit'},\n",
              "     'thumb': {'w': '150', 'h': '150', 'resize': 'crop'},\n",
              "     'small': {'w': '600', 'h': '558', 'resize': 'fit'},\n",
              "     'large': {'w': '600', 'h': '558', 'resize': 'fit'}},\n",
              "    'type': 'photo',\n",
              "    'display_url': 'pic.twitter.com/FzHtxIYfVP'}],\n",
              "  'hashtags': [{'text': 'rstudioconf', 'indices': ['59', '71']},\n",
              "   {'text': 'DataViz', 'indices': ['138', '146']},\n",
              "   {'text': 'DataScience', 'indices': ['147', '159']}]},\n",
              " 'display_text_range': ['0', '183'],\n",
              " 'favorite_count': 24,\n",
              " 'id_str': '959841361070567425',\n",
              " 'truncated': False,\n",
              " 'retweet_count': 7,\n",
              " 'id': '959841361070567425',\n",
              " 'possibly_sensitive': False,\n",
              " 'created_at': '2018-02-03T17:29:48.000Z',\n",
              " 'favorited': False,\n",
              " 'full_text': 'Do you like R and @rstudio? Here are the accounts that the #rstudioconf community thinks you should be following. https://t.co/sN6CjOYIhH #DataViz #DataScience https://t.co/FzHtxIYfVP',\n",
              " 'lang': 'en',\n",
              " 'extended_entities': {'media': [{'expanded_url': 'https://twitter.com/duto_guerra/status/959841361070567425/photo/1',\n",
              "    'indices': ['160', '183'],\n",
              "    'url': 'https://t.co/FzHtxIYfVP',\n",
              "    'media_url': 'http://pbs.twimg.com/tweet_video_thumb/DVIKSrBWkAAJuEG.jpg',\n",
              "    'id_str': '959840986485657600',\n",
              "    'video_info': {'aspect_ratio': ['100', '93'],\n",
              "     'variants': [{'bitrate': '0',\n",
              "       'content_type': 'video/mp4',\n",
              "       'url': 'https://video.twimg.com/tweet_video/DVIKSrBWkAAJuEG.mp4'}]},\n",
              "    'id': '959840986485657600',\n",
              "    'media_url_https': 'https://pbs.twimg.com/tweet_video_thumb/DVIKSrBWkAAJuEG.jpg',\n",
              "    'sizes': {'medium': {'w': '600', 'h': '558', 'resize': 'fit'},\n",
              "     'thumb': {'w': '150', 'h': '150', 'resize': 'crop'},\n",
              "     'small': {'w': '600', 'h': '558', 'resize': 'fit'},\n",
              "     'large': {'w': '600', 'h': '558', 'resize': 'fit'}},\n",
              "    'type': 'animated_gif',\n",
              "    'display_url': 'pic.twitter.com/FzHtxIYfVP'}]},\n",
              " 'hour': 12,\n",
              " 'selected': True,\n",
              " '__seqId': 181,\n",
              " '__i': [5773, 595, 595]}"
            ]
          },
          "metadata": {},
          "execution_count": 3
        }
      ]
    },
    {
      "cell_type": "code",
      "source": [
        "lt = data[181]['entities']['hashtags']\n",
        "print(\"A tweet that contains three hashtags (=>'rstudioconf','DataViz','DataScience'):\\n\\n\",lt)"
      ],
      "metadata": {
        "id": "4nFKhJsSPCSh",
        "outputId": "535b4b13-4a30-44c3-9a69-e46bc0356491",
        "colab": {
          "base_uri": "https://localhost:8080/"
        }
      },
      "execution_count": 4,
      "outputs": [
        {
          "output_type": "stream",
          "name": "stdout",
          "text": [
            "A tweet that contains three hashtags (=>'rstudioconf','DataViz','DataScience'):\n",
            "\n",
            " [{'text': 'rstudioconf', 'indices': ['59', '71']}, {'text': 'DataViz', 'indices': ['138', '146']}, {'text': 'DataScience', 'indices': ['147', '159']}]\n"
          ]
        }
      ]
    },
    {
      "cell_type": "code",
      "source": [
        "# [{'text': 'dataviz', 'indices': ['109', '117']}]\n",
        "# [{'text': 'UIST2020', 'indices': ['13', '22']}, {'text': 'AR', 'indices': ['101', '104']}]\n",
        "# [{'text': 'dataViz', 'indices': ['119', '127']}]\n",
        "# [{'text': 'deckgl', 'indices': ['82', '89']}, {'text': 'dataviz', 'indices': ['169', '177']}, {'text': 'WebDev', 'indices': ['178', '185']}]\n",
        "# [{'text': 'vegaLite', 'indices': ['107', '116']}, {'text': 'WebDev', 'indices': ['136', '143']}]"
      ],
      "metadata": {
        "id": "wI24HZgqTeNZ"
      },
      "execution_count": 5,
      "outputs": []
    },
    {
      "cell_type": "code",
      "source": [
        "for i in range(len(data)-5800):\n",
        "  if len(data[i]['entities']['hashtags']) > 0:\n",
        "    print(i, data[i]['entities']['hashtags'])"
      ],
      "metadata": {
        "id": "v32aKcaoPR4s",
        "outputId": "df8d42fb-8772-46fa-b4fa-73e0503134e7",
        "colab": {
          "base_uri": "https://localhost:8080/"
        }
      },
      "execution_count": 6,
      "outputs": [
        {
          "output_type": "stream",
          "name": "stdout",
          "text": [
            "4 [{'text': 'dataviz', 'indices': ['40', '48']}]\n",
            "17 [{'text': 'dataviz', 'indices': ['225', '233']}]\n",
            "18 [{'text': 'dataviz', 'indices': ['267', '275']}]\n",
            "20 [{'text': 'dataviz', 'indices': ['230', '238']}]\n",
            "21 [{'text': 'dataviz', 'indices': ['96', '104']}]\n",
            "23 [{'text': 'd3js', 'indices': ['60', '65']}]\n",
            "26 [{'text': 'CSS', 'indices': ['92', '96']}]\n",
            "36 [{'text': 'clearviewai', 'indices': ['51', '63']}]\n",
            "44 [{'text': 'dataviz', 'indices': ['109', '117']}]\n",
            "47 [{'text': 'UIST2020', 'indices': ['13', '22']}, {'text': 'AR', 'indices': ['101', '104']}]\n",
            "50 [{'text': 'dataViz', 'indices': ['119', '127']}]\n",
            "52 [{'text': 'dataviz', 'indices': ['121', '129']}]\n",
            "56 [{'text': 'ieeevis', 'indices': ['33', '41']}]\n",
            "57 [{'text': 'dataviz', 'indices': ['79', '87']}]\n",
            "58 [{'text': 'eurovis', 'indices': ['48', '56']}, {'text': 'dataviz', 'indices': ['272', '280']}]\n",
            "63 [{'text': 'eurovis', 'indices': ['31', '39']}]\n",
            "66 [{'text': 'dataviz', 'indices': ['77', '85']}]\n",
            "70 [{'text': 'EuroVis2020', 'indices': ['74', '86']}]\n"
          ]
        }
      ]
    },
    {
      "cell_type": "markdown",
      "source": [
        "## Extract **Nodes** (= Hashtags) and **Edges** between Two Hashtags at a Time\n",
        "\n",
        "**itertools.combinations:**\n",
        "itertools.combinations() provides us with **all the possible tuples** a sequence or set of numbers or letters used in the iterator and the elements are assumed to be unique on the basis of their positions which are distinct for all elements."
      ],
      "metadata": {
        "id": "w4rK63b-LPGg"
      }
    },
    {
      "cell_type": "code",
      "source": [
        "# https://stackoverflow.com/questions/49274565/create-2-tuples-from-a-list\n",
        "\n",
        "hashtag_edges = []\n",
        "\n",
        "# for i in range(len(data)-5800):\n",
        "for i in range(len(data)):\n",
        "  # extract hashtag from each tweet\n",
        "  hashtag = data[i]['entities']['hashtags']\n",
        "\n",
        "  # if the hashtag field is not empty, pull the name of hashtag from a tweet, using the key, 'text'\n",
        "  if len(hashtag) > 0:\n",
        "    hashtags = [ht['text'].lower() for ht in hashtag]\n",
        "\n",
        "    # if there are more than one hashtag in a tweet,\n",
        "    if len(hashtag) > 1:\n",
        "      hashtag_edge = combinations(hashtags, 2)   # create a list of tuples of two hashtags, representing an edge\n",
        "      hashtag_edges.extend(sorted(e) for e in hashtag_edge)  # create a master list of sorted edges\n",
        "\n",
        "print('hashtag_edges: ',hashtag_edges)\n",
        "print([tuple(l) for l in hashtag_edges])"
      ],
      "metadata": {
        "id": "HNuS2qrCshAN",
        "outputId": "ff5f5ab2-fb00-4aac-8605-2ae2c32d0d3f",
        "colab": {
          "base_uri": "https://localhost:8080/"
        }
      },
      "execution_count": 7,
      "outputs": [
        {
          "output_type": "stream",
          "name": "stdout",
          "text": [
            "hashtag_edges:  [['ar', 'uist2020'], ['dataviz', 'eurovis'], ['a11y', 'dataviz'], ['tactileart', 'tactiledrawing'], ['nicar18', 'rstats'], ['datavis', 'infodesign'], ['feedly', 'infovis'], ['colorpicker', 'dataviz'], ['d3js', 'dataviz'], ['dataviz', 'rstudioconf'], ['datascience', 'rstudioconf'], ['datascience', 'dataviz'], ['blind', 'braille'], ['atia18', 'braille'], ['atia18', 'blind'], ['d3js', 'pokeviz'], ['100daysofdataviz', 'dataviz'], ['d3js', 'datascience'], ['dataviz', 'rusia2018'], ['rusia2018', 'visualizacion'], ['dataviz', 'visualizacion'], ['d3js', 'dataviz'], ['cfp', 'ieeevis'], ['dataviz', 'treemap'], ['d3js', 'treemap'], ['d3js', 'dataviz'], ['reactjs', 'regl'], ['regl', 'webdev'], ['reactjs', 'webdev'], ['d3js', 'webdev'], ['webdev', 'webgl'], ['dataviz', 'deckgl'], ['deckgl', 'webdev'], ['dataviz', 'webdev'], ['vegalite', 'webdev'], ['vegalite', 'webdev'], ['proudteacher', 'webdev'], ['semiotic', 'starwars'], ['covidー19', 'dataviz'], ['ai', 'machinelearning'], ['ai', 'dataviz'], ['dataviz', 'machinelearning'], ['dataviz', 'webdev'], ['metoo', 'netviz'], ['d3js', 'dataviz'], ['bogotá', 'dataviz'], ['dataviz', 'revealjs'], ['d3js', 'revealjs'], ['d3js', 'dataviz'], ['dataviz', 'hcil'], ['dataviz', 'hcil'], ['dataviz', 'infovis'], ['dataviz', 'projectlincoln'], ['javascript', 'statistics'], ['dataviz', 'statistics'], ['dataviz', 'javascript'], ['dataviz', 'ieeevis'], ['ieeevis', 'visualization'], ['datascience', 'dataviz'], ['dataviz', 'hcil'], ['dataviz', 'ieeevis'], ['datascience', 'hcil'], ['datascience', 'ieeevis'], ['hcil', 'ieeevis'], ['ieeevis', 'immersive2017'], ['infovis', 'testoftime'], ['ieeevis', 'infovis'], ['ieeevis', 'testoftime'], ['dataviz', 'ieeevis'], ['ieeevis', 'vizsec'], ['ieeevis', 'infovis'], ['deeplearning', 'infovis'], ['infovis', 'tensorflow'], ['deeplearning', 'ieeevis'], ['ieeevis', 'tensorflow'], ['deeplearning', 'tensorflow'], ['datavis', 'ieeevis'], ['dataviz', 'ieeevis'], ['2q17', 'btw17'], ['meteorjs', 'webdev'], ['assets2017', 'chi2018'], ['dataviz', 'elasticsearch'], ['matplotlib', 'pandas'], ['ggplot2', 'pandas'], ['ggplot2', 'matplotlib'], ['nodejs', 'reactjs'], ['mongodb', 'reactjs'], ['reactjs', 'webdev'], ['mongodb', 'nodejs'], ['nodejs', 'webdev'], ['mongodb', 'webdev'], ['bigdata', 'insights'], ['reactjs', 'webdev'], ['d3js', 'react'], ['uber', 'visualization'], ['ieeevis', 'infovis'], ['bogota', 'dataviz'], ['bogota', 'dataviz'], ['d3js', 'dataviz'], ['datascience', 'dataviz'], ['ieeevis', 'openaccess'], ['dataviz', 'machinelearning'], ['feedly', 'infovis'], ['datavis', 'ddj'], ['ddj', 'rstats'], ['datavis', 'rstats'], ['chinese', 'data'], ['keras', 'neuralnets'], ['d3js', 'dataviz'], ['d3js', 'dataviz'], ['ieeevis', 'storytelling'], ['d3', 'gameofthrones'], ['gameofthrones', 'visualization'], ['d3', 'visualization'], ['dataviz', 'infosec'], ['includetheuser', 'machinelearning'], ['datascience', 'machinelearning'], ['datascience', 'includetheuser'], ['d3js', 'dataviz'], ['isrpbl2017', 'visualanalytics'], ['bitcoin', 'dataviz'], ['vega', 'vegalite'], ['vega', 'vis'], ['vegalite', 'vis'], ['datajournalism', 'digitalhumanities'], ['ddj', 'digitalhumanities'], ['datajournalism', 'ddj'], ['d3', 'dataviz'], ['ai', 'd3'], ['ai', 'dataviz'], ['d3js', 'rstats'], ['msdatasummit', 'powerbi'], ['forecasting', 'rstats'], ['d3js', 'networkvisualization'], ['feedly', 'infovis'], ['d3js', 'dataviz'], ['dataviz', 'netviz'], ['dataviz', 'visualanalytics'], ['datascience', 'dataviz'], ['meteorjs', 'webdev'], ['reactjs', 'webdev'], ['meteorjs', 'reactjs'], ['gd2017', 'networkvisualizations'], ['dataviz', 'networkvisualizations'], ['dataviz', 'gd2017'], ['d3js', 'openvisconf'], ['d3js', 'dataviz'], ['openvisconf', 'openvisconf'], ['iclr2020', 'pml4dc'], ['datascience', 'pml4dc'], ['datascience', 'iclr2020'], ['iclr2020', 'pml4dc'], ['chi2017', 'openvisconf'], ['d3js', 'dataviz'], ['d3js', 'networks'], ['dataviz', 'networks'], ['d3js', 'react'], ['feedly', 'humor'], ['dataviz', 'vr'], ['feedly', 'infovis'], ['dataviz', 'openvisconf'], ['dataviz', 'openvisconf'], ['hcil', 'openvisconf'], ['dataviz', 'openvisconf'], ['d3js', 'openvisconf'], ['dataviz', 'netviz'], ['dataviz', 'openvisconf'], ['d3annotation', 'd3js'], ['dataviz', 'sdgatlas'], ['dataviz', 'rusia2018'], ['d3js', 'react'], ['meteor', 'react'], ['meteor', 'webdev'], ['react', 'webdev'], ['d3js', 'dataviz'], ['dataviz', 'vizbeyond'], ['dataviz', 'stateofobesity'], ['d3js', 'datavisualization'], ['csunatc17', 'tactilegraphics'], ['feedly', 'infovis'], ['manchestercity', 'monaco'], ['dataviz', 'manchestercity'], ['dataviz', 'monaco'], ['d3js', 'es2015'], ['dataviz', 'infographics'], ['dataviz', 'ddj'], ['ddj', 'infographics'], ['blackhistory', 'dj3s'], ['covidー19', 'dataviz'], ['covid_19', 'datavis'], ['covid19', 'datavis'], ['dataviz', 'infovis'], ['datascience', 'machinelearning'], ['d3js', 'sublimetext'], ['dataviz', 'inauguration'], ['dataviz', 'visualization'], ['machinelearning', 'visualization'], ['dataviz', 'machinelearning'], ['datascience', 'dataviz'], ['classicviz', 'datavisualization'], ['datavisualization', 'dataviz'], ['classicviz', 'dataviz'], ['dataviz', 'hamilton'], ['infovis', 'visualanalytics'], ['fakenews', 'msnbc'], ['fakenews', 'hcil'], ['hcil', 'msnbc'], ['datatiz', 'makeovermonday'], ['feedly', 'infovis'], ['feedly', 'infovis'], ['data', 'python'], ['feedly', 'infovis'], ['dataviz', 'javascript'], ['dataviz', 'tsne'], ['3da11y', '3dprinting'], ['3dmodels', '3dprinting'], ['3da11y', '3dmodels'], ['feedly', 'infovis'], ['dataviz', 'infographics'], ['dataviz', 'ddj'], ['datajournalism', 'dataviz'], ['ddj', 'infographics'], ['datajournalism', 'infographics'], ['datajournalism', 'ddj'], ['d3js', 'dataviz'], ['dataviz', 'electionresults'], ['dataviz', 'infographics'], ['dataviz', 'infographics'], ['dataviz', 'ddj'], ['ddj', 'infographics'], ['dataviz', 'scrollytelling'], ['d3js', 'reactjs'], ['dataviz', 'opendata'], ['condatos2016', 'dataviz'], ['condatos2016', 'opendata'], ['creativecoding', 'javascript'], ['d3js', 'dataviz'], ['d3js', 'dewey'], ['ieeevis', 'infovis'], ['dataviz', 'ml'], ['d3js', 'ilustrador'], ['ieeevis', 'infovis'], ['ieeevis', 'infovis'], ['ieeevis', 'vds'], ['dataviz', 'plebiscito'], ['dataviz', 'datosabiertos'], ['datosabiertos', 'plebiscito'], ['dataviz', 'datosabiertos'], ['dataviz', 'debate'], ['d3js', 'dataviz'], ['d3js', 'everychartisjustanotherchart'], ['dataviz', 'vpdebate'], ['cityvis', 'habitat3'], ['d3unconf', 'dataviz'], ['feedly', 'visualizations'], ['colombia', 'dataviz'], ['datavisualization', 'tbt'], ['datascience', 'datascience'], ['ai', 'deeplearning'], ['datascience', 'deeplearning'], ['ai', 'datascience'], ['d3js', 'javascript'], ['dataviz', 'hcil'], ['dataviz', 'text'], ['d3js', 'dataviz'], ['d3js', 'datascience'], ['datascience', 'dataviz'], ['clubesdeciencia', 'fórmulasdecambio'], ['bigdata', 'insights'], ['chart', 'covid'], ['coronavirusencolombia', 'visualización'], ['covidー19', 'visualización'], ['coronavirusencolombia', 'covidー19'], ['ai', 'ml'], ['covid_19', 'covidー19'], ['covid_19', 'datavis'], ['datavis', 'opendata'], ['covid_19', 'opendata'], ['colombia', 'dataviz'], ['dataviz', 'infographics'], ['colombia', 'innovation'], ['dataviz', 'measure'], ['china', 'india'], ['india', 'nigeria'], ['china', 'nigeria'], ['colombia', 'hackethercamp'], ['humanintheloop', 'machinelearning'], ['dataviz', 'infographics'], ['stats', 'visualization'], ['dataviz', 'statistics'], ['dataviz', 'infographics'], ['datajournalism', 'dataviz'], ['datajournalism', 'infographics'], ['euro2016', 'interactive'], ['euro2016', 'infovis'], ['infovis', 'interactive'], ['generative', 'typography'], ['tableau', 'zensontour'], ['infovis', 'vcworkshop2016'], ['clubesdecienciaco', 'infovis'], ['avi2016', 'infovis'], ['avi2016', 'dataviz'], ['treemaps', 'visualizing'], ['avi2016', 'visualizing'], ['avi2016', 'treemaps'], ['gameofthrones', 'infovis'], ['infovis', 'interactive'], ['gameofthrones', 'interactive'], ['clubesdeciencia', 'conexiónegresados'], ['aseutp', 'conexiónegresados'], ['aseutp', 'clubesdeciencia'], ['bigdata', 'thebiggest'], ['superheroes', 'superviz'], ['deeplearning', 'stratahadoop'], ['bigdata', 'stratahadoop'], ['machinelearning', 'stratahadoop'], ['bigdata', 'deeplearning'], ['deeplearning', 'machinelearning'], ['bigdata', 'machinelearning'], ['dataviz', 'infosec'], ['dataviz', 'lcfc'], ['bump', 'lcfc'], ['bump', 'dataviz'], ['infovis', 'openvisconf'], ['bigdata', 'hospitaluniversitario'], ['openvisconf', 'vega'], ['infovis', 'openvisconf'], ['infovis', 'openvisconf'], ['deeplearning', 'infovis'], ['bestworstviz', 'infovis'], ['dataviz', 'infographics'], ['bigdata', 'infovis'], ['feedly', 'infovis'], ['datavis', 'ieeevis'], ['dataviz', 'infographics'], ['datajournalism', 'dataviz'], ['datajournalism', 'infographics'], ['d3js', 'topojson'], ['colombia', 'coronavirus'], ['dataviz', 'photography'], ['ieeevis', 'infovis'], ['football', 'soccer'], ['football', 'visualization'], ['soccer', 'visualization'], ['bigdata', 'infovis'], ['bigdata', 'feedly'], ['feedly', 'infovis'], ['dataviz', 'oscars'], ['ddj', 'dds2016'], ['sb50', 'visualization'], ['datavis', 'ieeevis'], ['datavisualization', 'dataviz'], ['bigdata', 'dataviz'], ['bigdata', 'datavisualization'], ['datavis', 'ieeevis'], ['takeaction', 'virunga'], ['d3js', 'dataviz'], ['chi2016', 'visualanalytics'], ['chi2016', 'machinelearning'], ['machinelearning', 'visualanalytics'], ['datavis', 'ieeevis'], ['feedly', 'infovis'], ['entrepreneurship', 'gecmedellín'], ['dataviz', 'infographics'], ['datajournalism', 'dataviz'], ['datajournalism', 'infographics'], ['d3js', 'layout'], ['d3js', 'dataviz'], ['d3js', 'es6'], ['dataviz', 'layout'], ['es6', 'layout'], ['dataviz', 'es6'], ['d3js', 'merch'], ['col', 'colombia'], ['d3js', 'dataviz'], ['d3js', 'netviz'], ['d3unconf', 'netviz'], ['d3js', 'd3unconf'], ['canvas', 'd3js'], ['d3js', 'javascript'], ['dataviz', 'machinelearning'], ['datajournalism', 'dataviz'], ['dataviz', 's'], ['dataviz', 'network'], ['d3js', 'network'], ['d3js', 'dataviz'], ['dataviz', 'ieeevis'], ['dataviz', 'ieeevis'], ['d3js', 'dataviz'], ['dataviz', 'ieeevis'], ['ieeevis', 'infovis'], ['davaviz', 'ieeevis'], ['ieeevis', 'infovis'], ['dataviz', 'ieeevis'], ['hcil', 'ieeevis'], ['dataviz', 'endrainbow'], ['datascience', 'endrainbow'], ['datascience', 'dataviz'], ['ieeevis', 'vast2015'], ['dataviz', 'ieeevis'], ['ieeevis', 'vds'], ['dataviz', 'ieeevis'], ['ieeevis', 'vds'], ['datajournalism', 'dataviz'], ['colombia', 'covidー19'], ['brazil', 'covidー19'], ['coronaviruscolombia', 'covidー19'], ['brazil', 'colombia'], ['colombia', 'coronaviruscolombia'], ['brazil', 'coronaviruscolombia'], ['colombia', 'covidー19'], ['covidー19', 'dataviz'], ['coronaviruscolombia', 'covidー19'], ['colombia', 'dataviz'], ['colombia', 'coronaviruscolombia'], ['coronaviruscolombia', 'dataviz'], ['jornadashcipuebla', 'zelda'], ['breathofthewild', 'jornadashcipuebla'], ['breathofthewild', 'zelda'], ['datascience', 'statistics'], ['bigdata', 'datascience'], ['bigdata', 'statistics'], ['ceo', 'jackdorsey'], ['expocamello2015', 'periscope'], ['d3', 'd3js'], ['dataviz', 'treemaps'], ['d3js', 'dataviz'], ['javascript', 'statistics'], ['bigdata', 'dataviz'], ['feedly', 'technology'], ['datavis', 'datavis'], ['datapoints', 'datavis'], ['datapoints', 'datavis'], ['dataviz', 'infographics'], ['dataviz', 'infographics'], ['d3js', 'dataviz'], ['d3js', 'gis'], ['d3js', 'mapping'], ['gis', 'mapping'], ['bigdata', 'datascience'], ['bigdata', 'dataviz'], ['datascience', 'dataviz'], ['d3js', 'ddj'], ['feedly', 'infovis'], ['flickr', 'goldengatepark'], ['d3js', 'markdown'], ['d3js', 'tufte'], ['markdown', 'tufte'], ['hcil', 'yahoohq'], ['flickr', 'yahoohq'], ['flickr', 'hcil'], ['dataviz', 'europe'], ['dataviz', 'infographics'], ['colombia', 'dataviz'], ['dataviz', 'marriageequaility'], ['ieeevis', 'visualization'], ['distractinglysexy', 'hcil'], ['d3', 'oakland'], ['d3', 'meetup'], ['d3', 'datavis'], ['meetup', 'oakland'], ['datavis', 'oakland'], ['datavis', 'meetup'], ['d3', 'd3js'], ['d3js', 'oakland'], ['d3js', 'meetup'], ['d3', 'oakland'], ['d3', 'meetup'], ['meetup', 'oakland'], ['datavis', 'sanfrancisco'], ['d3js', 'datavis'], ['genverde', 'parquesoft'], ['felicidad', 'muuu'], ['d3', 'dataviz'], ['d3js', 'dataviz'], ['feedly', 'visualizations'], ['bigdata', 'bogotá'], ['bogotá', 'machinelearning'], ['bogotá', 'dataviz'], ['bigdata', 'machinelearning'], ['bigdata', 'dataviz'], ['dataviz', 'machinelearning'], ['cali', 'dataviz'], ['cali', 'insights'], ['cali', 'machinelearning'], ['bigdata', 'cali'], ['dataviz', 'insights'], ['dataviz', 'machinelearning'], ['bigdata', 'dataviz'], ['insights', 'machinelearning'], ['bigdata', 'insights'], ['bigdata', 'machinelearning'], ['feedly', 'infovis'], ['hcil', 'umd'], ['cfar', 'umd'], ['hcil', 'umd'], ['hcil', 'infovis'], ['infovis', 'umd'], ['hcil', 'umd'], ['demandsolutions', 'startup'], ['d3js', 'data'], ['contextualism', 'relativism'], ['andresfelipegiraldo', 'startappsacademic'], ['startappsacademic', 'wingz'], ['andresfelipegiraldo', 'wingz'], ['dataviz', 'scicomm'], ['night', 'sanfrancisco'], ['citysight', 'sanfrancisco'], ['citysight', 'night'], ['advice', 'business'], ['dataviz', 'marriage'], ['hcil', 'infovis'], ['ecoreto', 'nicaragua'], ['nicaragua', 'ticamericas'], ['ecoreto', 'ticamericas'], ['bigthinkers', 'dataviz'], ['hcil', 'umd'], ['dataviz', 'fitness'], ['idea2014', 'kdd2014'], ['dataviz', 'hci'], ['analytics', 'bigdata'], ['bigdata', 'parcforum'], ['analytics', 'parcforum'], ['rstats', 'tidybayes'], ['infovis', 'pi'], ['dataviz', 'worldcup'], ['col', 'jpn'], ['brazil2014', 'col'], ['demandsolutions', 'startup'], ['datatothemac', 'showandtell'], ['nedvsesp', 'worldcup'], ['col', 'worldcup'], ['brazil2014', 'worldcup'], ['brazil2014', 'col'], ['colombiaelige', 'eleccionescolombia'], ['elecciones2014', 'eleccionescolombia'], ['colombiaelige', 'elecciones2014'], ['eleccionescolombia', 'votoenblanco'], ['colombia', 'elecciones2014'], ['chi2014', 'retweetme'], ['measles', 'vaccineswork'], ['boisestate', 'professors'], ['boisestate', 'dataviz'], ['dataviz', 'professors'], ['colombia', 'elecciones2014'], ['colombia', 'elecciones2014'], ['d3js', 'dataviz'], ['dataviz', 'sports'], ['football', 'sports'], ['dataviz', 'football'], ['yabt', 'youngentrepreneurs'], ['eco', 'yabt'], ['business', 'yabt'], ['sustainability', 'yabt'], ['eco', 'youngentrepreneurs'], ['business', 'youngentrepreneurs'], ['sustainability', 'youngentrepreneurs'], ['business', 'eco'], ['eco', 'sustainability'], ['business', 'sustainability'], ['dataviz', 'tapestryconf'], ['keepitfree', 'wikipedia'], ['dataviz', 'strataconf'], ['emprendimiento', 'innovación'], ['emprendimiento', 'iris'], ['ciegos', 'emprendimiento'], ['innovación', 'iris'], ['ciegos', 'innovación'], ['ciegos', 'iris'], ['d3js', 'ona13'], ['hcil', 'ieeevis'], ['hcil', 'treeversity'], ['datavis', 'treeversity'], ['d3js', 'treeversity'], ['datavis', 'hcil'], ['d3js', 'hcil'], ['d3js', 'datavis'], ['openideas', 'somosudi'], ['chi2020', 'hci'], ['academiclife', 'academictwitter'], ['brailleblaster', 'brailleimages'], ['bayd3', 'd3js'], ['dataviz', 'raw'], ['d3', 'raw'], ['diy', 'raw'], ['d3', 'dataviz'], ['dataviz', 'diy'], ['d3', 'diy'], ['dataviz', 'infographics'], ['infovis', 'umcp'], ['infovis', 'umd'], ['umcp', 'umd'], ['hcil', 'umcp'], ['hci', 'hcil'], ['hci', 'umcp'], ['larespuestaescolombia', 'maravillasdecolombia'], ['infovis', 'sna'], ['datavis', 'sna'], ['sna', 'socialmedia'], ['datavis', 'infovis'], ['infovis', 'socialmedia'], ['datavis', 'socialmedia'], ['hcil', 'infovis'], ['hcil', 'infovis'], ['hcil', 'umd'], ['hcil', 'umd'], ['hcil', 'umd'], ['infovis', 'scivis'], ['chi', 'dataviz'], ['analytics', 'dataviz'], ['dataviz', 'football'], ['analytics', 'football'], ['entrepreneurs', 'startup'], ['icdl', 'storykit'], ['dataviz', 'reactjs'], ['datagif', 'visualization'], ['soyparquesoft', 'vivolatecnología'], ['hcil', 'umd'], ['soyparquesoft', 'vivolatecnología'], ['cattlab', 'hcil'], ['nfbtg', 'soyparquesoft'], ['nfbtg', 'soyparquesoft'], ['bigdata', 'fiaumd'], ['hcil', 'ischool'], ['infoviz', 'oscars'], ['dataviz', 'infographics'], ['dataviz', 'visualization'], ['infographics', 'visualization'], ['d3js', 'infovis'], ['d3js', 'infovis'], ['d3js', 'hcil'], ['hcil', 'infovis'], ['hcil', 'umcp'], ['infovis', 'nodexl'], ['hcil', 'infovis'], ['hcil', 'nodexl'], ['ddjbook', 'infovis'], ['machinelearning', 'neurips2019'], ['dataviz', 'visfestunconf'], ['infovis', 'time'], ['hcil', 'treeversity'], ['hcil', 'monotrans'], ['d3', 'processing'], ['convocatoria', 'socent'], ['goodtimeatthelab', 'hcil'], ['fiaumd', 'umd'], ['infovis', 'umd'], ['hcil', 'infovis'], ['hcil', 'umd'], ['infovis', 'umd'], ['visweek', 'visweekposterdemo'], ['chi2012', 'hcil'], ['iamfirst', 'william'], ['google', 'youngminds'], ['google', 'zeitgeist'], ['youngminds', 'zeitgeist'], ['google', 'techcrunch'], ['chi2011', 'deadspace2'], ['deadspace2', 'hcil'], ['chi2011', 'hcil'], ['chi2011', 'iumd'], ['chi2011', 'hcil'], ['hcil', 'iumd'], ['datajournalism', 'dataviz'], ['dataviz', 'tableau'], ['data19', 'dataviz'], ['data19', 'tableau'], ['chi2020', 'hci'], ['assets19', 'assets2019'], ['assets2019', 'dataviz'], ['assets19', 'dataviz'], ['halloween', 'halloween2019'], ['iccv', 'iccv2019'], ['eleccionescolombia', 'eleccionescolombia2019'], ['assets2019', 'machinelearning'], ['network', 'visualization'], ['dataviz', 'network'], ['dataviz', 'visualization'], ['hci', 'ir'], ['datascience', 'ir'], ['ir', 'ischool'], ['datascience', 'hci'], ['hci', 'ischool'], ['datascience', 'ischool'], ['dataviz', 'visualization'], ['ieeevis', 'visualization'], ['dataviz', 'ieeevis'], ['assets2019', 'shameonme'], ['ieeevis', 'tsne'], ['dataviz', 'ieeevis2019'], ['ieeevis', 'ldav'], ['dataviz', 'generative'], ['creativecoding', 'dataviz'], ['d3js', 'dataviz'], ['creativecoding', 'generative'], ['d3js', 'generative'], ['creativecoding', 'd3js'], ['ieeevis2019', 'ieeevis2019'], ['ieeevis', 'vsup'], ['ieeevis', 'ldav'], ['ieeevis', 'vis4dh'], ['digitalhumanities', 'vis4dh'], ['digitalhumanities', 'ieeevis'], ['ieeevis', 'tutorial'], ['ai', 'hci'], ['a11y', 'hci'], ['a11y', 'ai'], ['sanddance', 'vscode'], ['deckgl', 'sanddance'], ['deckgl', 'vscode'], ['japan', 'tactilegraphics'], ['tactilegraphics', 'tactileuniverse'], ['tactilegraphics', 'tactilemaps'], ['japan', 'tactileuniverse'], ['japan', 'tactilemaps'], ['tactilemaps', 'tactileuniverse'], ['dataviz', 'dataviz'], ['dataviz', 'opendata'], ['machinelearning', 'stats'], ['machinelearning', 'openscience'], ['openscience', 'stats'], ['3dmodels', 'microbiology'], ['3dmodels', 'blind'], ['3dmodels', 'visuallyimpaired'], ['blind', 'microbiology'], ['microbiology', 'visuallyimpaired'], ['blind', 'visuallyimpaired'], ['dataviz', 'opendata'], ['foss4g', 'foss4gna'], ['foss4g2019', 'foss4gna'], ['foss4g19', 'foss4gna'], ['foss4g', 'foss4g2019'], ['foss4g', 'foss4g19'], ['foss4g19', 'foss4g2019'], ['dlindaba', 'sautiyetu'], ['dlindaba2019', 'sautiyetu'], ['deepindaba', 'sautiyetu'], ['deeplearningindaba', 'sautiyetu'], ['dlindaba19', 'sautiyetu'], ['dlindaba', 'dlindaba2019'], ['deepindaba', 'dlindaba'], ['deeplearningindaba', 'dlindaba'], ['dlindaba', 'dlindaba19'], ['deepindaba', 'dlindaba2019'], ['deeplearningindaba', 'dlindaba2019'], ['dlindaba19', 'dlindaba2019'], ['deepindaba', 'deeplearningindaba'], ['deepindaba', 'dlindaba19'], ['deeplearningindaba', 'dlindaba19'], ['foss4g', 'foss4gna'], ['foss4g2019', 'foss4gna'], ['foss4g19', 'foss4gna'], ['dataviz', 'foss4gna'], ['foss4g', 'foss4g2019'], ['foss4g', 'foss4g19'], ['dataviz', 'foss4g'], ['foss4g19', 'foss4g2019'], ['dataviz', 'foss4g2019'], ['dataviz', 'foss4g19'], ['foss4gna', 'gis'], ['foss4g', 'gis'], ['foss4g2019', 'gis'], ['foss4g19', 'gis'], ['foss4g', 'foss4gna'], ['foss4g2019', 'foss4gna'], ['foss4g19', 'foss4gna'], ['foss4g', 'foss4g2019'], ['foss4g', 'foss4g19'], ['foss4g19', 'foss4g2019'], ['d3unconf', 'visfestunconf'], ['dataviz', 'visfestunconf'], ['dataviz', 'savethedata'], ['deeplearning', 'machinelearning'], ['dlindaba', 'sautiyetu'], ['dlindaba2019', 'sautiyetu'], ['deeplearningindaba', 'sautiyetu'], ['dataviz', 'sautiyetu'], ['dlindaba', 'dlindaba2019'], ['deeplearningindaba', 'dlindaba'], ['dataviz', 'dlindaba'], ['deeplearningindaba', 'dlindaba2019'], ['dataviz', 'dlindaba2019'], ['dataviz', 'deeplearningindaba'], ['accessibility', 'datavis'], ['datavisualization', 'vega'], ['vega', 'visualization'], ['datavisualization', 'visualization'], ['dataviz', 'siggraph2019'], ['ismb19', 'ismbeccb19'], ['biovis', 'ismbeccb19'], ['ismbeccb19', 'ismbeccb2019'], ['ismb2019', 'ismbeccb19'], ['ismbeccb', 'ismbeccb19'], ['bosc2019', 'ismbeccb19'], ['biovis', 'ismb19'], ['ismb19', 'ismbeccb2019'], ['ismb19', 'ismb2019'], ['ismb19', 'ismbeccb'], ['bosc2019', 'ismb19'], ['biovis', 'ismbeccb2019'], ['biovis', 'ismb2019'], ['biovis', 'ismbeccb'], ['biovis', 'bosc2019'], ['ismb2019', 'ismbeccb2019'], ['ismbeccb', 'ismbeccb2019'], ['bosc2019', 'ismbeccb2019'], ['ismb2019', 'ismbeccb'], ['bosc2019', 'ismb2019'], ['bosc2019', 'ismbeccb'], ['dataviz', 'tdf2019'], ['infographic', 'interactive'], ['react', 'rstats'], ['atlántico', 'covid19'], ['d3js', 'voronoï'], ['ismbeccb2019', 'ismbfollowgreatwomen'], ['ismb19', 'ismbeccb19'], ['ismbeccb19', 'ismbeccb2019'], ['ismb2019', 'ismbeccb19'], ['biovis', 'ismbeccb19'], ['ismb19', 'ismbeccb2019'], ['ismb19', 'ismb2019'], ['biovis', 'ismb19'], ['ismb2019', 'ismbeccb2019'], ['biovis', 'ismbeccb2019'], ['biovis', 'ismb2019'], ['biovis', 'dataviz'], ['biovis', 'netviz'], ['dataviz', 'netviz'], ['biovis', 'ismbeccb2019'], ['biovis', 'ismbeccb2019'], ['biovis', 'ismbeccb'], ['biovis', 'keynote'], ['ismbeccb', 'keynote'], ['dataviz', 'nasa'], ['dataviz', 'user2019'], ['dataviz', 'user2019'], ['dataviz', 'vizrisk'], ['dataviz', 'user2019'], ['d3js', 'dataviz'], ['dataviz', 'nodeconfco'], ['dataviz', 'jsconfco'], ['dataviz', 'opendata'], ['dataviz', 'nodejs'], ['dataviz', 'javascript'], ['jsconfco', 'nodeconfco'], ['nodeconfco', 'opendata'], ['nodeconfco', 'nodejs'], ['javascript', 'nodeconfco'], ['jsconfco', 'opendata'], ['jsconfco', 'nodejs'], ['javascript', 'jsconfco'], ['nodejs', 'opendata'], ['javascript', 'opendata'], ['javascript', 'nodejs'], ['computervision', 'machinelearning'], ['cvpr2019', 'machinelearning'], ['computervision', 'cvpr2019'], ['dataviz', 'openvisconf'], ['dataviz', 'datavizsociety'], ['datavizsociety', 'openvisconf'], ['dataviz', 'eyeo2019'], ['dataviz', 'tapestryconf'], ['eyeo2019', 'tapestryconf'], ['dataviz', 'ieeevis2018'], ['dataviz', 'eurovis2019'], ['eurovis2019', 'ieeevis2018'], ['europeansemester', 'growth'], ['dataviz', 'storytelling'], ['chi2019', 'storytelling'], ['datascience', 'storytelling'], ['chi2019', 'dataviz'], ['datascience', 'dataviz'], ['chi2019', 'datascience'], ['dataviz', 'scrollytelling'], ['datajournalism', 'dj'], ['datajournalism', 'dataviz'], ['dataviz', 'dj'], ['dataviz', 'eyeo2019'], ['dataviz', 'infovis'], ['dataviz', 'poverty'], ['dataviz', 'vizrisk'], ['ai', 'machinelearning'], ['cybersecurity', 'visualization'], ['thewebconf', 'www19'], ['climatechange', 'dataviz'], ['dataviz', 'fridays4future'], ['climatechange', 'fridays4future'], ['eu', 'euelections2019'], ['euelections', 'euelections2019'], ['eu', 'euelections'], ['chi2019', 'sigchi'], ['chi2019', 'chi2020'], ['chi2020', 'sigchi'], ['dataviz', 'netviz'], ['chi2019', 'dataviz'], ['dataviz', 'infographics'], ['dataviz', 'ddj'], ['ddj', 'infographics'], ['javascript', 'stats'], ['customerexperience', 'cx'], ['customerexperience', 'cxsummit2019'], ['customerexperience', 'tipscx'], ['cx', 'cxsummit2019'], ['cx', 'tipscx'], ['cxsummit2019', 'tipscx'], ['dataviz', 'machinelearning'], ['insights', 'machinelearning'], ['cxsummit2019', 'machinelearning'], ['dataviz', 'insights'], ['cxsummit2019', 'dataviz'], ['cxsummit2019', 'insights'], ['chi2019', 'visualization'], ['chi2019', 'ieeevis'], ['dataviz', 'dataviz'], ['pydata', 'python'], ['aframe', 'umap'], ['dataviz', 'naviojs'], ['datascience', 'naviojs'], ['datascience', 'dataviz'], ['datatondelsenado', 'datosabiertos'], ['datatondelsenado', 'datosabiertos'], ['dataviz', 'naviojs'], ['romania', 'tactilegraphics'], ['dataviz', 'rstat'], ['bogota', 'd3js'], ['d3js', 'dataviz'], ['bogota', 'dataviz'], ['dataviz', 'naviojs'], ['dataviz', 'sucosummit'], ['creativecoding', 'dataart'], ['dataviz', 'naviojs'], ['dataviz', 'naviojs'], ['a11y', 'dataviz'], ['d3js', 'javascript'], ['ieeevis', 'networkvisualization'], ['dataviz', 'networkvisualization'], ['dataviz', 'ieeevis'], ['express', 'nodejs'], ['mongodb', 'nodejs'], ['nodejs', 'react'], ['express', 'mongodb'], ['express', 'react'], ['mongodb', 'react'], ['dataviz', 'infographics'], ['hcil', 'machinelearning'], ['ces2019', 'keynote'], ['dataviz', 'neurips2018'], ['ai', 'humancentered'], ['humancentered', 'visualization'], ['ai', 'visualization'], ['knowie', 'tenis'], ['machinelearning', 'neurips'], ['ieeevis2018', 'openvisconf'], ['dataviz', 'tapestryconf'], ['dataviz', 'tapestryconf'], ['charticulator', 'tapestryconf'], ['gandissect', 'ganpaint'], ['infographics', 'iot'], ['infographics', 'internetofthings'], ['digitalmarketing', 'infographics'], ['bigdata', 'infographics'], ['internetofthings', 'iot'], ['digitalmarketing', 'iot'], ['bigdata', 'iot'], ['digitalmarketing', 'internetofthings'], ['bigdata', 'internetofthings'], ['bigdata', 'digitalmarketing'], ['innovación', 'sucolsummit'], ['exponential', 'sucolsummit'], ['innovation', 'sucolsummit'], ['colombia', 'sucolsummit'], ['dataviz', 'sucolsummit'], ['exponential', 'innovation'], ['colombia', 'exponential'], ['dataviz', 'exponential'], ['colombia', 'innovation'], ['dataviz', 'innovation'], ['colombia', 'dataviz'], ['clustergrammer2', 'scipy2020'], ['a11y', 'webdevelopment'], ['dataviz', 'vr'], ['bigdata', 'dataviz'], ['beexponential', 'bigdata'], ['beexponential', 'dataviz'], ['biggan', 'dataviz'], ['biggan', 'ml'], ['dataviz', 'ml'], ['a11y', 'dataviz'], ['dataviz', 'jsconfco'], ['cscw', 'dataviz'], ['dataviz', 'datosabiertos'], ['d3js', 'dataviz'], ['dataviz', 'ieeevis2018'], ['dataviz', 'ieeevis2018'], ['dataviz', 'ieeevis'], ['hcil', 'ieeevis'], ['a11y', 'hcil'], ['a11y', 'ieeevis'], ['dataviz', 'vr'], ['draco', 'ieeevis'], ['hcil', 'ieeevis'], ['dataviz', 'ieeevis'], ['belivws', 'ieeevis'], ['ieeevis', 'latins'], ['col', 'ieeevis'], ['col', 'latins'], ['ieeevis', 'visxai'], ['ieeevis', 'vizsec2018'], ['ieeevis2018', 'machinelearning'], ['dataviz', 'ieeevis'], ['dataviz', 'waterdata'], ['hurricanemichael', 'waterdata'], ['rstats', 'waterdata'], ['dataviz', 'hurricanemichael'], ['dataviz', 'rstats'], ['hurricanemichael', 'rstats'], ['charticulator', 'iibawards'], ['dataviz', 'infographics'], ['dataviz', 'ddj'], ['ddj', 'infographics'], ['accessibility', 'tactilegraphics'], ['machinelearning', 'visualization'], ['nodejs', 'reactjs'], ['florence', 'usgs'], ['covid19', 'dataviz'], ['chi2020', 'research'], ['research', 'tactilegraphics'], ['chi2020', 'tactilegraphics'], ['covid19', 'latinx'], ['covid_19', 'dataviz'], ['datosabiertos', 'opendata'], ['colombia', 'consultaanticorrupción'], ['consultaanticorrupción', 'yovotecontralacorrupción'], ['consultaanticorrupción', 'dataviz'], ['colombia', 'yovotecontralacorrupción'], ['colombia', 'dataviz'], ['dataviz', 'yovotecontralacorrupción'], ['consultaanticoncorrupcion', 'datosabiertos'], ['dataviz', 'siggraph2018'], ['betterpresentations', 'dataviz'], ['datavis', 'ieeevis'], ['dataviz', 'ddj'], ['dataviz', 'ddj'], ['feedly', 'infovis'], ['colombiavsinglaterra', 'rusia2018'], ['rusia2018', 'vamoscolombia'], ['col', 'rusia2018'], ['eng', 'rusia2018'], ['colombiavsinglaterra', 'vamoscolombia'], ['col', 'colombiavsinglaterra'], ['colombiavsinglaterra', 'eng'], ['col', 'vamoscolombia'], ['eng', 'vamoscolombia'], ['col', 'eng'], ['dataviz', 'scrollytelling'], ['dataviz', 'eleccionescolombia'], ['cvpr2018', 'dataviz'], ['copa2018', 'copamundial'], ['copamundial', 'dataviz'], ['arg', 'copamundial'], ['copa2018', 'dataviz'], ['arg', 'copa2018'], ['arg', 'dataviz'], ['cvpr2018', 'dataviz'], ['arg', 'col'], ['bra', 'col'], ['col', 'copamundial2018'], ['col', 'dataviz'], ['arg', 'bra'], ['arg', 'copamundial2018'], ['arg', 'dataviz'], ['bra', 'copamundial2018'], ['bra', 'dataviz'], ['copamundial2018', 'dataviz'], ['colombia', 'eleccionescolombia'], ['colombia', 'colombiadecide'], ['colombia', 'dataviz'], ['colombia', 'dataviz'], ['colombiadecide', 'eleccionescolombia'], ['dataviz', 'eleccionescolombia'], ['dataviz', 'eleccionescolombia'], ['colombiadecide', 'dataviz'], ['colombiadecide', 'dataviz'], ['dataviz', 'dataviz'], ['imagine', 'iwvc'], ['iwvc', 'ml'], ['deeplearning', 'iwvc'], ['a11y', 'dataviz'], ['d3js', 'dataviz'], ['p5', 'webdev'], ['altec', 'eleccionescolombia'], ['datavisualization', 'ir'], ['meteor', 'react'], ['d3', 'meteor'], ['d3', 'react'], ['uncertainty', 'visualizing'], ['uncertainty', 'visinpractice'], ['visinpractice', 'visualizing'], ['d3js', 'datavisualization'], ['a11y', 'aiforaccessibility'], ['d3js', 'networkviz'], ['ai', 'machineleaning'], ['ai', 'iclr2018'], ['ai', 'dataviz'], ['iclr2018', 'machineleaning'], ['dataviz', 'machineleaning'], ['dataviz', 'iclr2018'], ['chi2018', 'chi2018'], ['infovis', 'infovis'], ['feedly', 'infovis'], ['chi2018', 'dataviz'], ['datavisualization', 'reactjs'], ['dataviz', 'hci'], ['a11y', 'w4a18'], ['d3js', 'networkvisualization'], ['d3js', 'dataviz'], ['dataviz', 'networkvisualization'], ['chi2018', 'chi2018'], ['chi2018', 'mobile'], ['chi2018', 'visualization'], ['mobile', 'visualization'], ['dataviz', 'opendata'], ['feedly', 'infovis']]\n",
            "[('ar', 'uist2020'), ('dataviz', 'eurovis'), ('a11y', 'dataviz'), ('tactileart', 'tactiledrawing'), ('nicar18', 'rstats'), ('datavis', 'infodesign'), ('feedly', 'infovis'), ('colorpicker', 'dataviz'), ('d3js', 'dataviz'), ('dataviz', 'rstudioconf'), ('datascience', 'rstudioconf'), ('datascience', 'dataviz'), ('blind', 'braille'), ('atia18', 'braille'), ('atia18', 'blind'), ('d3js', 'pokeviz'), ('100daysofdataviz', 'dataviz'), ('d3js', 'datascience'), ('dataviz', 'rusia2018'), ('rusia2018', 'visualizacion'), ('dataviz', 'visualizacion'), ('d3js', 'dataviz'), ('cfp', 'ieeevis'), ('dataviz', 'treemap'), ('d3js', 'treemap'), ('d3js', 'dataviz'), ('reactjs', 'regl'), ('regl', 'webdev'), ('reactjs', 'webdev'), ('d3js', 'webdev'), ('webdev', 'webgl'), ('dataviz', 'deckgl'), ('deckgl', 'webdev'), ('dataviz', 'webdev'), ('vegalite', 'webdev'), ('vegalite', 'webdev'), ('proudteacher', 'webdev'), ('semiotic', 'starwars'), ('covidー19', 'dataviz'), ('ai', 'machinelearning'), ('ai', 'dataviz'), ('dataviz', 'machinelearning'), ('dataviz', 'webdev'), ('metoo', 'netviz'), ('d3js', 'dataviz'), ('bogotá', 'dataviz'), ('dataviz', 'revealjs'), ('d3js', 'revealjs'), ('d3js', 'dataviz'), ('dataviz', 'hcil'), ('dataviz', 'hcil'), ('dataviz', 'infovis'), ('dataviz', 'projectlincoln'), ('javascript', 'statistics'), ('dataviz', 'statistics'), ('dataviz', 'javascript'), ('dataviz', 'ieeevis'), ('ieeevis', 'visualization'), ('datascience', 'dataviz'), ('dataviz', 'hcil'), ('dataviz', 'ieeevis'), ('datascience', 'hcil'), ('datascience', 'ieeevis'), ('hcil', 'ieeevis'), ('ieeevis', 'immersive2017'), ('infovis', 'testoftime'), ('ieeevis', 'infovis'), ('ieeevis', 'testoftime'), ('dataviz', 'ieeevis'), ('ieeevis', 'vizsec'), ('ieeevis', 'infovis'), ('deeplearning', 'infovis'), ('infovis', 'tensorflow'), ('deeplearning', 'ieeevis'), ('ieeevis', 'tensorflow'), ('deeplearning', 'tensorflow'), ('datavis', 'ieeevis'), ('dataviz', 'ieeevis'), ('2q17', 'btw17'), ('meteorjs', 'webdev'), ('assets2017', 'chi2018'), ('dataviz', 'elasticsearch'), ('matplotlib', 'pandas'), ('ggplot2', 'pandas'), ('ggplot2', 'matplotlib'), ('nodejs', 'reactjs'), ('mongodb', 'reactjs'), ('reactjs', 'webdev'), ('mongodb', 'nodejs'), ('nodejs', 'webdev'), ('mongodb', 'webdev'), ('bigdata', 'insights'), ('reactjs', 'webdev'), ('d3js', 'react'), ('uber', 'visualization'), ('ieeevis', 'infovis'), ('bogota', 'dataviz'), ('bogota', 'dataviz'), ('d3js', 'dataviz'), ('datascience', 'dataviz'), ('ieeevis', 'openaccess'), ('dataviz', 'machinelearning'), ('feedly', 'infovis'), ('datavis', 'ddj'), ('ddj', 'rstats'), ('datavis', 'rstats'), ('chinese', 'data'), ('keras', 'neuralnets'), ('d3js', 'dataviz'), ('d3js', 'dataviz'), ('ieeevis', 'storytelling'), ('d3', 'gameofthrones'), ('gameofthrones', 'visualization'), ('d3', 'visualization'), ('dataviz', 'infosec'), ('includetheuser', 'machinelearning'), ('datascience', 'machinelearning'), ('datascience', 'includetheuser'), ('d3js', 'dataviz'), ('isrpbl2017', 'visualanalytics'), ('bitcoin', 'dataviz'), ('vega', 'vegalite'), ('vega', 'vis'), ('vegalite', 'vis'), ('datajournalism', 'digitalhumanities'), ('ddj', 'digitalhumanities'), ('datajournalism', 'ddj'), ('d3', 'dataviz'), ('ai', 'd3'), ('ai', 'dataviz'), ('d3js', 'rstats'), ('msdatasummit', 'powerbi'), ('forecasting', 'rstats'), ('d3js', 'networkvisualization'), ('feedly', 'infovis'), ('d3js', 'dataviz'), ('dataviz', 'netviz'), ('dataviz', 'visualanalytics'), ('datascience', 'dataviz'), ('meteorjs', 'webdev'), ('reactjs', 'webdev'), ('meteorjs', 'reactjs'), ('gd2017', 'networkvisualizations'), ('dataviz', 'networkvisualizations'), ('dataviz', 'gd2017'), ('d3js', 'openvisconf'), ('d3js', 'dataviz'), ('openvisconf', 'openvisconf'), ('iclr2020', 'pml4dc'), ('datascience', 'pml4dc'), ('datascience', 'iclr2020'), ('iclr2020', 'pml4dc'), ('chi2017', 'openvisconf'), ('d3js', 'dataviz'), ('d3js', 'networks'), ('dataviz', 'networks'), ('d3js', 'react'), ('feedly', 'humor'), ('dataviz', 'vr'), ('feedly', 'infovis'), ('dataviz', 'openvisconf'), ('dataviz', 'openvisconf'), ('hcil', 'openvisconf'), ('dataviz', 'openvisconf'), ('d3js', 'openvisconf'), ('dataviz', 'netviz'), ('dataviz', 'openvisconf'), ('d3annotation', 'd3js'), ('dataviz', 'sdgatlas'), ('dataviz', 'rusia2018'), ('d3js', 'react'), ('meteor', 'react'), ('meteor', 'webdev'), ('react', 'webdev'), ('d3js', 'dataviz'), ('dataviz', 'vizbeyond'), ('dataviz', 'stateofobesity'), ('d3js', 'datavisualization'), ('csunatc17', 'tactilegraphics'), ('feedly', 'infovis'), ('manchestercity', 'monaco'), ('dataviz', 'manchestercity'), ('dataviz', 'monaco'), ('d3js', 'es2015'), ('dataviz', 'infographics'), ('dataviz', 'ddj'), ('ddj', 'infographics'), ('blackhistory', 'dj3s'), ('covidー19', 'dataviz'), ('covid_19', 'datavis'), ('covid19', 'datavis'), ('dataviz', 'infovis'), ('datascience', 'machinelearning'), ('d3js', 'sublimetext'), ('dataviz', 'inauguration'), ('dataviz', 'visualization'), ('machinelearning', 'visualization'), ('dataviz', 'machinelearning'), ('datascience', 'dataviz'), ('classicviz', 'datavisualization'), ('datavisualization', 'dataviz'), ('classicviz', 'dataviz'), ('dataviz', 'hamilton'), ('infovis', 'visualanalytics'), ('fakenews', 'msnbc'), ('fakenews', 'hcil'), ('hcil', 'msnbc'), ('datatiz', 'makeovermonday'), ('feedly', 'infovis'), ('feedly', 'infovis'), ('data', 'python'), ('feedly', 'infovis'), ('dataviz', 'javascript'), ('dataviz', 'tsne'), ('3da11y', '3dprinting'), ('3dmodels', '3dprinting'), ('3da11y', '3dmodels'), ('feedly', 'infovis'), ('dataviz', 'infographics'), ('dataviz', 'ddj'), ('datajournalism', 'dataviz'), ('ddj', 'infographics'), ('datajournalism', 'infographics'), ('datajournalism', 'ddj'), ('d3js', 'dataviz'), ('dataviz', 'electionresults'), ('dataviz', 'infographics'), ('dataviz', 'infographics'), ('dataviz', 'ddj'), ('ddj', 'infographics'), ('dataviz', 'scrollytelling'), ('d3js', 'reactjs'), ('dataviz', 'opendata'), ('condatos2016', 'dataviz'), ('condatos2016', 'opendata'), ('creativecoding', 'javascript'), ('d3js', 'dataviz'), ('d3js', 'dewey'), ('ieeevis', 'infovis'), ('dataviz', 'ml'), ('d3js', 'ilustrador'), ('ieeevis', 'infovis'), ('ieeevis', 'infovis'), ('ieeevis', 'vds'), ('dataviz', 'plebiscito'), ('dataviz', 'datosabiertos'), ('datosabiertos', 'plebiscito'), ('dataviz', 'datosabiertos'), ('dataviz', 'debate'), ('d3js', 'dataviz'), ('d3js', 'everychartisjustanotherchart'), ('dataviz', 'vpdebate'), ('cityvis', 'habitat3'), ('d3unconf', 'dataviz'), ('feedly', 'visualizations'), ('colombia', 'dataviz'), ('datavisualization', 'tbt'), ('datascience', 'datascience'), ('ai', 'deeplearning'), ('datascience', 'deeplearning'), ('ai', 'datascience'), ('d3js', 'javascript'), ('dataviz', 'hcil'), ('dataviz', 'text'), ('d3js', 'dataviz'), ('d3js', 'datascience'), ('datascience', 'dataviz'), ('clubesdeciencia', 'fórmulasdecambio'), ('bigdata', 'insights'), ('chart', 'covid'), ('coronavirusencolombia', 'visualización'), ('covidー19', 'visualización'), ('coronavirusencolombia', 'covidー19'), ('ai', 'ml'), ('covid_19', 'covidー19'), ('covid_19', 'datavis'), ('datavis', 'opendata'), ('covid_19', 'opendata'), ('colombia', 'dataviz'), ('dataviz', 'infographics'), ('colombia', 'innovation'), ('dataviz', 'measure'), ('china', 'india'), ('india', 'nigeria'), ('china', 'nigeria'), ('colombia', 'hackethercamp'), ('humanintheloop', 'machinelearning'), ('dataviz', 'infographics'), ('stats', 'visualization'), ('dataviz', 'statistics'), ('dataviz', 'infographics'), ('datajournalism', 'dataviz'), ('datajournalism', 'infographics'), ('euro2016', 'interactive'), ('euro2016', 'infovis'), ('infovis', 'interactive'), ('generative', 'typography'), ('tableau', 'zensontour'), ('infovis', 'vcworkshop2016'), ('clubesdecienciaco', 'infovis'), ('avi2016', 'infovis'), ('avi2016', 'dataviz'), ('treemaps', 'visualizing'), ('avi2016', 'visualizing'), ('avi2016', 'treemaps'), ('gameofthrones', 'infovis'), ('infovis', 'interactive'), ('gameofthrones', 'interactive'), ('clubesdeciencia', 'conexiónegresados'), ('aseutp', 'conexiónegresados'), ('aseutp', 'clubesdeciencia'), ('bigdata', 'thebiggest'), ('superheroes', 'superviz'), ('deeplearning', 'stratahadoop'), ('bigdata', 'stratahadoop'), ('machinelearning', 'stratahadoop'), ('bigdata', 'deeplearning'), ('deeplearning', 'machinelearning'), ('bigdata', 'machinelearning'), ('dataviz', 'infosec'), ('dataviz', 'lcfc'), ('bump', 'lcfc'), ('bump', 'dataviz'), ('infovis', 'openvisconf'), ('bigdata', 'hospitaluniversitario'), ('openvisconf', 'vega'), ('infovis', 'openvisconf'), ('infovis', 'openvisconf'), ('deeplearning', 'infovis'), ('bestworstviz', 'infovis'), ('dataviz', 'infographics'), ('bigdata', 'infovis'), ('feedly', 'infovis'), ('datavis', 'ieeevis'), ('dataviz', 'infographics'), ('datajournalism', 'dataviz'), ('datajournalism', 'infographics'), ('d3js', 'topojson'), ('colombia', 'coronavirus'), ('dataviz', 'photography'), ('ieeevis', 'infovis'), ('football', 'soccer'), ('football', 'visualization'), ('soccer', 'visualization'), ('bigdata', 'infovis'), ('bigdata', 'feedly'), ('feedly', 'infovis'), ('dataviz', 'oscars'), ('ddj', 'dds2016'), ('sb50', 'visualization'), ('datavis', 'ieeevis'), ('datavisualization', 'dataviz'), ('bigdata', 'dataviz'), ('bigdata', 'datavisualization'), ('datavis', 'ieeevis'), ('takeaction', 'virunga'), ('d3js', 'dataviz'), ('chi2016', 'visualanalytics'), ('chi2016', 'machinelearning'), ('machinelearning', 'visualanalytics'), ('datavis', 'ieeevis'), ('feedly', 'infovis'), ('entrepreneurship', 'gecmedellín'), ('dataviz', 'infographics'), ('datajournalism', 'dataviz'), ('datajournalism', 'infographics'), ('d3js', 'layout'), ('d3js', 'dataviz'), ('d3js', 'es6'), ('dataviz', 'layout'), ('es6', 'layout'), ('dataviz', 'es6'), ('d3js', 'merch'), ('col', 'colombia'), ('d3js', 'dataviz'), ('d3js', 'netviz'), ('d3unconf', 'netviz'), ('d3js', 'd3unconf'), ('canvas', 'd3js'), ('d3js', 'javascript'), ('dataviz', 'machinelearning'), ('datajournalism', 'dataviz'), ('dataviz', 's'), ('dataviz', 'network'), ('d3js', 'network'), ('d3js', 'dataviz'), ('dataviz', 'ieeevis'), ('dataviz', 'ieeevis'), ('d3js', 'dataviz'), ('dataviz', 'ieeevis'), ('ieeevis', 'infovis'), ('davaviz', 'ieeevis'), ('ieeevis', 'infovis'), ('dataviz', 'ieeevis'), ('hcil', 'ieeevis'), ('dataviz', 'endrainbow'), ('datascience', 'endrainbow'), ('datascience', 'dataviz'), ('ieeevis', 'vast2015'), ('dataviz', 'ieeevis'), ('ieeevis', 'vds'), ('dataviz', 'ieeevis'), ('ieeevis', 'vds'), ('datajournalism', 'dataviz'), ('colombia', 'covidー19'), ('brazil', 'covidー19'), ('coronaviruscolombia', 'covidー19'), ('brazil', 'colombia'), ('colombia', 'coronaviruscolombia'), ('brazil', 'coronaviruscolombia'), ('colombia', 'covidー19'), ('covidー19', 'dataviz'), ('coronaviruscolombia', 'covidー19'), ('colombia', 'dataviz'), ('colombia', 'coronaviruscolombia'), ('coronaviruscolombia', 'dataviz'), ('jornadashcipuebla', 'zelda'), ('breathofthewild', 'jornadashcipuebla'), ('breathofthewild', 'zelda'), ('datascience', 'statistics'), ('bigdata', 'datascience'), ('bigdata', 'statistics'), ('ceo', 'jackdorsey'), ('expocamello2015', 'periscope'), ('d3', 'd3js'), ('dataviz', 'treemaps'), ('d3js', 'dataviz'), ('javascript', 'statistics'), ('bigdata', 'dataviz'), ('feedly', 'technology'), ('datavis', 'datavis'), ('datapoints', 'datavis'), ('datapoints', 'datavis'), ('dataviz', 'infographics'), ('dataviz', 'infographics'), ('d3js', 'dataviz'), ('d3js', 'gis'), ('d3js', 'mapping'), ('gis', 'mapping'), ('bigdata', 'datascience'), ('bigdata', 'dataviz'), ('datascience', 'dataviz'), ('d3js', 'ddj'), ('feedly', 'infovis'), ('flickr', 'goldengatepark'), ('d3js', 'markdown'), ('d3js', 'tufte'), ('markdown', 'tufte'), ('hcil', 'yahoohq'), ('flickr', 'yahoohq'), ('flickr', 'hcil'), ('dataviz', 'europe'), ('dataviz', 'infographics'), ('colombia', 'dataviz'), ('dataviz', 'marriageequaility'), ('ieeevis', 'visualization'), ('distractinglysexy', 'hcil'), ('d3', 'oakland'), ('d3', 'meetup'), ('d3', 'datavis'), ('meetup', 'oakland'), ('datavis', 'oakland'), ('datavis', 'meetup'), ('d3', 'd3js'), ('d3js', 'oakland'), ('d3js', 'meetup'), ('d3', 'oakland'), ('d3', 'meetup'), ('meetup', 'oakland'), ('datavis', 'sanfrancisco'), ('d3js', 'datavis'), ('genverde', 'parquesoft'), ('felicidad', 'muuu'), ('d3', 'dataviz'), ('d3js', 'dataviz'), ('feedly', 'visualizations'), ('bigdata', 'bogotá'), ('bogotá', 'machinelearning'), ('bogotá', 'dataviz'), ('bigdata', 'machinelearning'), ('bigdata', 'dataviz'), ('dataviz', 'machinelearning'), ('cali', 'dataviz'), ('cali', 'insights'), ('cali', 'machinelearning'), ('bigdata', 'cali'), ('dataviz', 'insights'), ('dataviz', 'machinelearning'), ('bigdata', 'dataviz'), ('insights', 'machinelearning'), ('bigdata', 'insights'), ('bigdata', 'machinelearning'), ('feedly', 'infovis'), ('hcil', 'umd'), ('cfar', 'umd'), ('hcil', 'umd'), ('hcil', 'infovis'), ('infovis', 'umd'), ('hcil', 'umd'), ('demandsolutions', 'startup'), ('d3js', 'data'), ('contextualism', 'relativism'), ('andresfelipegiraldo', 'startappsacademic'), ('startappsacademic', 'wingz'), ('andresfelipegiraldo', 'wingz'), ('dataviz', 'scicomm'), ('night', 'sanfrancisco'), ('citysight', 'sanfrancisco'), ('citysight', 'night'), ('advice', 'business'), ('dataviz', 'marriage'), ('hcil', 'infovis'), ('ecoreto', 'nicaragua'), ('nicaragua', 'ticamericas'), ('ecoreto', 'ticamericas'), ('bigthinkers', 'dataviz'), ('hcil', 'umd'), ('dataviz', 'fitness'), ('idea2014', 'kdd2014'), ('dataviz', 'hci'), ('analytics', 'bigdata'), ('bigdata', 'parcforum'), ('analytics', 'parcforum'), ('rstats', 'tidybayes'), ('infovis', 'pi'), ('dataviz', 'worldcup'), ('col', 'jpn'), ('brazil2014', 'col'), ('demandsolutions', 'startup'), ('datatothemac', 'showandtell'), ('nedvsesp', 'worldcup'), ('col', 'worldcup'), ('brazil2014', 'worldcup'), ('brazil2014', 'col'), ('colombiaelige', 'eleccionescolombia'), ('elecciones2014', 'eleccionescolombia'), ('colombiaelige', 'elecciones2014'), ('eleccionescolombia', 'votoenblanco'), ('colombia', 'elecciones2014'), ('chi2014', 'retweetme'), ('measles', 'vaccineswork'), ('boisestate', 'professors'), ('boisestate', 'dataviz'), ('dataviz', 'professors'), ('colombia', 'elecciones2014'), ('colombia', 'elecciones2014'), ('d3js', 'dataviz'), ('dataviz', 'sports'), ('football', 'sports'), ('dataviz', 'football'), ('yabt', 'youngentrepreneurs'), ('eco', 'yabt'), ('business', 'yabt'), ('sustainability', 'yabt'), ('eco', 'youngentrepreneurs'), ('business', 'youngentrepreneurs'), ('sustainability', 'youngentrepreneurs'), ('business', 'eco'), ('eco', 'sustainability'), ('business', 'sustainability'), ('dataviz', 'tapestryconf'), ('keepitfree', 'wikipedia'), ('dataviz', 'strataconf'), ('emprendimiento', 'innovación'), ('emprendimiento', 'iris'), ('ciegos', 'emprendimiento'), ('innovación', 'iris'), ('ciegos', 'innovación'), ('ciegos', 'iris'), ('d3js', 'ona13'), ('hcil', 'ieeevis'), ('hcil', 'treeversity'), ('datavis', 'treeversity'), ('d3js', 'treeversity'), ('datavis', 'hcil'), ('d3js', 'hcil'), ('d3js', 'datavis'), ('openideas', 'somosudi'), ('chi2020', 'hci'), ('academiclife', 'academictwitter'), ('brailleblaster', 'brailleimages'), ('bayd3', 'd3js'), ('dataviz', 'raw'), ('d3', 'raw'), ('diy', 'raw'), ('d3', 'dataviz'), ('dataviz', 'diy'), ('d3', 'diy'), ('dataviz', 'infographics'), ('infovis', 'umcp'), ('infovis', 'umd'), ('umcp', 'umd'), ('hcil', 'umcp'), ('hci', 'hcil'), ('hci', 'umcp'), ('larespuestaescolombia', 'maravillasdecolombia'), ('infovis', 'sna'), ('datavis', 'sna'), ('sna', 'socialmedia'), ('datavis', 'infovis'), ('infovis', 'socialmedia'), ('datavis', 'socialmedia'), ('hcil', 'infovis'), ('hcil', 'infovis'), ('hcil', 'umd'), ('hcil', 'umd'), ('hcil', 'umd'), ('infovis', 'scivis'), ('chi', 'dataviz'), ('analytics', 'dataviz'), ('dataviz', 'football'), ('analytics', 'football'), ('entrepreneurs', 'startup'), ('icdl', 'storykit'), ('dataviz', 'reactjs'), ('datagif', 'visualization'), ('soyparquesoft', 'vivolatecnología'), ('hcil', 'umd'), ('soyparquesoft', 'vivolatecnología'), ('cattlab', 'hcil'), ('nfbtg', 'soyparquesoft'), ('nfbtg', 'soyparquesoft'), ('bigdata', 'fiaumd'), ('hcil', 'ischool'), ('infoviz', 'oscars'), ('dataviz', 'infographics'), ('dataviz', 'visualization'), ('infographics', 'visualization'), ('d3js', 'infovis'), ('d3js', 'infovis'), ('d3js', 'hcil'), ('hcil', 'infovis'), ('hcil', 'umcp'), ('infovis', 'nodexl'), ('hcil', 'infovis'), ('hcil', 'nodexl'), ('ddjbook', 'infovis'), ('machinelearning', 'neurips2019'), ('dataviz', 'visfestunconf'), ('infovis', 'time'), ('hcil', 'treeversity'), ('hcil', 'monotrans'), ('d3', 'processing'), ('convocatoria', 'socent'), ('goodtimeatthelab', 'hcil'), ('fiaumd', 'umd'), ('infovis', 'umd'), ('hcil', 'infovis'), ('hcil', 'umd'), ('infovis', 'umd'), ('visweek', 'visweekposterdemo'), ('chi2012', 'hcil'), ('iamfirst', 'william'), ('google', 'youngminds'), ('google', 'zeitgeist'), ('youngminds', 'zeitgeist'), ('google', 'techcrunch'), ('chi2011', 'deadspace2'), ('deadspace2', 'hcil'), ('chi2011', 'hcil'), ('chi2011', 'iumd'), ('chi2011', 'hcil'), ('hcil', 'iumd'), ('datajournalism', 'dataviz'), ('dataviz', 'tableau'), ('data19', 'dataviz'), ('data19', 'tableau'), ('chi2020', 'hci'), ('assets19', 'assets2019'), ('assets2019', 'dataviz'), ('assets19', 'dataviz'), ('halloween', 'halloween2019'), ('iccv', 'iccv2019'), ('eleccionescolombia', 'eleccionescolombia2019'), ('assets2019', 'machinelearning'), ('network', 'visualization'), ('dataviz', 'network'), ('dataviz', 'visualization'), ('hci', 'ir'), ('datascience', 'ir'), ('ir', 'ischool'), ('datascience', 'hci'), ('hci', 'ischool'), ('datascience', 'ischool'), ('dataviz', 'visualization'), ('ieeevis', 'visualization'), ('dataviz', 'ieeevis'), ('assets2019', 'shameonme'), ('ieeevis', 'tsne'), ('dataviz', 'ieeevis2019'), ('ieeevis', 'ldav'), ('dataviz', 'generative'), ('creativecoding', 'dataviz'), ('d3js', 'dataviz'), ('creativecoding', 'generative'), ('d3js', 'generative'), ('creativecoding', 'd3js'), ('ieeevis2019', 'ieeevis2019'), ('ieeevis', 'vsup'), ('ieeevis', 'ldav'), ('ieeevis', 'vis4dh'), ('digitalhumanities', 'vis4dh'), ('digitalhumanities', 'ieeevis'), ('ieeevis', 'tutorial'), ('ai', 'hci'), ('a11y', 'hci'), ('a11y', 'ai'), ('sanddance', 'vscode'), ('deckgl', 'sanddance'), ('deckgl', 'vscode'), ('japan', 'tactilegraphics'), ('tactilegraphics', 'tactileuniverse'), ('tactilegraphics', 'tactilemaps'), ('japan', 'tactileuniverse'), ('japan', 'tactilemaps'), ('tactilemaps', 'tactileuniverse'), ('dataviz', 'dataviz'), ('dataviz', 'opendata'), ('machinelearning', 'stats'), ('machinelearning', 'openscience'), ('openscience', 'stats'), ('3dmodels', 'microbiology'), ('3dmodels', 'blind'), ('3dmodels', 'visuallyimpaired'), ('blind', 'microbiology'), ('microbiology', 'visuallyimpaired'), ('blind', 'visuallyimpaired'), ('dataviz', 'opendata'), ('foss4g', 'foss4gna'), ('foss4g2019', 'foss4gna'), ('foss4g19', 'foss4gna'), ('foss4g', 'foss4g2019'), ('foss4g', 'foss4g19'), ('foss4g19', 'foss4g2019'), ('dlindaba', 'sautiyetu'), ('dlindaba2019', 'sautiyetu'), ('deepindaba', 'sautiyetu'), ('deeplearningindaba', 'sautiyetu'), ('dlindaba19', 'sautiyetu'), ('dlindaba', 'dlindaba2019'), ('deepindaba', 'dlindaba'), ('deeplearningindaba', 'dlindaba'), ('dlindaba', 'dlindaba19'), ('deepindaba', 'dlindaba2019'), ('deeplearningindaba', 'dlindaba2019'), ('dlindaba19', 'dlindaba2019'), ('deepindaba', 'deeplearningindaba'), ('deepindaba', 'dlindaba19'), ('deeplearningindaba', 'dlindaba19'), ('foss4g', 'foss4gna'), ('foss4g2019', 'foss4gna'), ('foss4g19', 'foss4gna'), ('dataviz', 'foss4gna'), ('foss4g', 'foss4g2019'), ('foss4g', 'foss4g19'), ('dataviz', 'foss4g'), ('foss4g19', 'foss4g2019'), ('dataviz', 'foss4g2019'), ('dataviz', 'foss4g19'), ('foss4gna', 'gis'), ('foss4g', 'gis'), ('foss4g2019', 'gis'), ('foss4g19', 'gis'), ('foss4g', 'foss4gna'), ('foss4g2019', 'foss4gna'), ('foss4g19', 'foss4gna'), ('foss4g', 'foss4g2019'), ('foss4g', 'foss4g19'), ('foss4g19', 'foss4g2019'), ('d3unconf', 'visfestunconf'), ('dataviz', 'visfestunconf'), ('dataviz', 'savethedata'), ('deeplearning', 'machinelearning'), ('dlindaba', 'sautiyetu'), ('dlindaba2019', 'sautiyetu'), ('deeplearningindaba', 'sautiyetu'), ('dataviz', 'sautiyetu'), ('dlindaba', 'dlindaba2019'), ('deeplearningindaba', 'dlindaba'), ('dataviz', 'dlindaba'), ('deeplearningindaba', 'dlindaba2019'), ('dataviz', 'dlindaba2019'), ('dataviz', 'deeplearningindaba'), ('accessibility', 'datavis'), ('datavisualization', 'vega'), ('vega', 'visualization'), ('datavisualization', 'visualization'), ('dataviz', 'siggraph2019'), ('ismb19', 'ismbeccb19'), ('biovis', 'ismbeccb19'), ('ismbeccb19', 'ismbeccb2019'), ('ismb2019', 'ismbeccb19'), ('ismbeccb', 'ismbeccb19'), ('bosc2019', 'ismbeccb19'), ('biovis', 'ismb19'), ('ismb19', 'ismbeccb2019'), ('ismb19', 'ismb2019'), ('ismb19', 'ismbeccb'), ('bosc2019', 'ismb19'), ('biovis', 'ismbeccb2019'), ('biovis', 'ismb2019'), ('biovis', 'ismbeccb'), ('biovis', 'bosc2019'), ('ismb2019', 'ismbeccb2019'), ('ismbeccb', 'ismbeccb2019'), ('bosc2019', 'ismbeccb2019'), ('ismb2019', 'ismbeccb'), ('bosc2019', 'ismb2019'), ('bosc2019', 'ismbeccb'), ('dataviz', 'tdf2019'), ('infographic', 'interactive'), ('react', 'rstats'), ('atlántico', 'covid19'), ('d3js', 'voronoï'), ('ismbeccb2019', 'ismbfollowgreatwomen'), ('ismb19', 'ismbeccb19'), ('ismbeccb19', 'ismbeccb2019'), ('ismb2019', 'ismbeccb19'), ('biovis', 'ismbeccb19'), ('ismb19', 'ismbeccb2019'), ('ismb19', 'ismb2019'), ('biovis', 'ismb19'), ('ismb2019', 'ismbeccb2019'), ('biovis', 'ismbeccb2019'), ('biovis', 'ismb2019'), ('biovis', 'dataviz'), ('biovis', 'netviz'), ('dataviz', 'netviz'), ('biovis', 'ismbeccb2019'), ('biovis', 'ismbeccb2019'), ('biovis', 'ismbeccb'), ('biovis', 'keynote'), ('ismbeccb', 'keynote'), ('dataviz', 'nasa'), ('dataviz', 'user2019'), ('dataviz', 'user2019'), ('dataviz', 'vizrisk'), ('dataviz', 'user2019'), ('d3js', 'dataviz'), ('dataviz', 'nodeconfco'), ('dataviz', 'jsconfco'), ('dataviz', 'opendata'), ('dataviz', 'nodejs'), ('dataviz', 'javascript'), ('jsconfco', 'nodeconfco'), ('nodeconfco', 'opendata'), ('nodeconfco', 'nodejs'), ('javascript', 'nodeconfco'), ('jsconfco', 'opendata'), ('jsconfco', 'nodejs'), ('javascript', 'jsconfco'), ('nodejs', 'opendata'), ('javascript', 'opendata'), ('javascript', 'nodejs'), ('computervision', 'machinelearning'), ('cvpr2019', 'machinelearning'), ('computervision', 'cvpr2019'), ('dataviz', 'openvisconf'), ('dataviz', 'datavizsociety'), ('datavizsociety', 'openvisconf'), ('dataviz', 'eyeo2019'), ('dataviz', 'tapestryconf'), ('eyeo2019', 'tapestryconf'), ('dataviz', 'ieeevis2018'), ('dataviz', 'eurovis2019'), ('eurovis2019', 'ieeevis2018'), ('europeansemester', 'growth'), ('dataviz', 'storytelling'), ('chi2019', 'storytelling'), ('datascience', 'storytelling'), ('chi2019', 'dataviz'), ('datascience', 'dataviz'), ('chi2019', 'datascience'), ('dataviz', 'scrollytelling'), ('datajournalism', 'dj'), ('datajournalism', 'dataviz'), ('dataviz', 'dj'), ('dataviz', 'eyeo2019'), ('dataviz', 'infovis'), ('dataviz', 'poverty'), ('dataviz', 'vizrisk'), ('ai', 'machinelearning'), ('cybersecurity', 'visualization'), ('thewebconf', 'www19'), ('climatechange', 'dataviz'), ('dataviz', 'fridays4future'), ('climatechange', 'fridays4future'), ('eu', 'euelections2019'), ('euelections', 'euelections2019'), ('eu', 'euelections'), ('chi2019', 'sigchi'), ('chi2019', 'chi2020'), ('chi2020', 'sigchi'), ('dataviz', 'netviz'), ('chi2019', 'dataviz'), ('dataviz', 'infographics'), ('dataviz', 'ddj'), ('ddj', 'infographics'), ('javascript', 'stats'), ('customerexperience', 'cx'), ('customerexperience', 'cxsummit2019'), ('customerexperience', 'tipscx'), ('cx', 'cxsummit2019'), ('cx', 'tipscx'), ('cxsummit2019', 'tipscx'), ('dataviz', 'machinelearning'), ('insights', 'machinelearning'), ('cxsummit2019', 'machinelearning'), ('dataviz', 'insights'), ('cxsummit2019', 'dataviz'), ('cxsummit2019', 'insights'), ('chi2019', 'visualization'), ('chi2019', 'ieeevis'), ('dataviz', 'dataviz'), ('pydata', 'python'), ('aframe', 'umap'), ('dataviz', 'naviojs'), ('datascience', 'naviojs'), ('datascience', 'dataviz'), ('datatondelsenado', 'datosabiertos'), ('datatondelsenado', 'datosabiertos'), ('dataviz', 'naviojs'), ('romania', 'tactilegraphics'), ('dataviz', 'rstat'), ('bogota', 'd3js'), ('d3js', 'dataviz'), ('bogota', 'dataviz'), ('dataviz', 'naviojs'), ('dataviz', 'sucosummit'), ('creativecoding', 'dataart'), ('dataviz', 'naviojs'), ('dataviz', 'naviojs'), ('a11y', 'dataviz'), ('d3js', 'javascript'), ('ieeevis', 'networkvisualization'), ('dataviz', 'networkvisualization'), ('dataviz', 'ieeevis'), ('express', 'nodejs'), ('mongodb', 'nodejs'), ('nodejs', 'react'), ('express', 'mongodb'), ('express', 'react'), ('mongodb', 'react'), ('dataviz', 'infographics'), ('hcil', 'machinelearning'), ('ces2019', 'keynote'), ('dataviz', 'neurips2018'), ('ai', 'humancentered'), ('humancentered', 'visualization'), ('ai', 'visualization'), ('knowie', 'tenis'), ('machinelearning', 'neurips'), ('ieeevis2018', 'openvisconf'), ('dataviz', 'tapestryconf'), ('dataviz', 'tapestryconf'), ('charticulator', 'tapestryconf'), ('gandissect', 'ganpaint'), ('infographics', 'iot'), ('infographics', 'internetofthings'), ('digitalmarketing', 'infographics'), ('bigdata', 'infographics'), ('internetofthings', 'iot'), ('digitalmarketing', 'iot'), ('bigdata', 'iot'), ('digitalmarketing', 'internetofthings'), ('bigdata', 'internetofthings'), ('bigdata', 'digitalmarketing'), ('innovación', 'sucolsummit'), ('exponential', 'sucolsummit'), ('innovation', 'sucolsummit'), ('colombia', 'sucolsummit'), ('dataviz', 'sucolsummit'), ('exponential', 'innovation'), ('colombia', 'exponential'), ('dataviz', 'exponential'), ('colombia', 'innovation'), ('dataviz', 'innovation'), ('colombia', 'dataviz'), ('clustergrammer2', 'scipy2020'), ('a11y', 'webdevelopment'), ('dataviz', 'vr'), ('bigdata', 'dataviz'), ('beexponential', 'bigdata'), ('beexponential', 'dataviz'), ('biggan', 'dataviz'), ('biggan', 'ml'), ('dataviz', 'ml'), ('a11y', 'dataviz'), ('dataviz', 'jsconfco'), ('cscw', 'dataviz'), ('dataviz', 'datosabiertos'), ('d3js', 'dataviz'), ('dataviz', 'ieeevis2018'), ('dataviz', 'ieeevis2018'), ('dataviz', 'ieeevis'), ('hcil', 'ieeevis'), ('a11y', 'hcil'), ('a11y', 'ieeevis'), ('dataviz', 'vr'), ('draco', 'ieeevis'), ('hcil', 'ieeevis'), ('dataviz', 'ieeevis'), ('belivws', 'ieeevis'), ('ieeevis', 'latins'), ('col', 'ieeevis'), ('col', 'latins'), ('ieeevis', 'visxai'), ('ieeevis', 'vizsec2018'), ('ieeevis2018', 'machinelearning'), ('dataviz', 'ieeevis'), ('dataviz', 'waterdata'), ('hurricanemichael', 'waterdata'), ('rstats', 'waterdata'), ('dataviz', 'hurricanemichael'), ('dataviz', 'rstats'), ('hurricanemichael', 'rstats'), ('charticulator', 'iibawards'), ('dataviz', 'infographics'), ('dataviz', 'ddj'), ('ddj', 'infographics'), ('accessibility', 'tactilegraphics'), ('machinelearning', 'visualization'), ('nodejs', 'reactjs'), ('florence', 'usgs'), ('covid19', 'dataviz'), ('chi2020', 'research'), ('research', 'tactilegraphics'), ('chi2020', 'tactilegraphics'), ('covid19', 'latinx'), ('covid_19', 'dataviz'), ('datosabiertos', 'opendata'), ('colombia', 'consultaanticorrupción'), ('consultaanticorrupción', 'yovotecontralacorrupción'), ('consultaanticorrupción', 'dataviz'), ('colombia', 'yovotecontralacorrupción'), ('colombia', 'dataviz'), ('dataviz', 'yovotecontralacorrupción'), ('consultaanticoncorrupcion', 'datosabiertos'), ('dataviz', 'siggraph2018'), ('betterpresentations', 'dataviz'), ('datavis', 'ieeevis'), ('dataviz', 'ddj'), ('dataviz', 'ddj'), ('feedly', 'infovis'), ('colombiavsinglaterra', 'rusia2018'), ('rusia2018', 'vamoscolombia'), ('col', 'rusia2018'), ('eng', 'rusia2018'), ('colombiavsinglaterra', 'vamoscolombia'), ('col', 'colombiavsinglaterra'), ('colombiavsinglaterra', 'eng'), ('col', 'vamoscolombia'), ('eng', 'vamoscolombia'), ('col', 'eng'), ('dataviz', 'scrollytelling'), ('dataviz', 'eleccionescolombia'), ('cvpr2018', 'dataviz'), ('copa2018', 'copamundial'), ('copamundial', 'dataviz'), ('arg', 'copamundial'), ('copa2018', 'dataviz'), ('arg', 'copa2018'), ('arg', 'dataviz'), ('cvpr2018', 'dataviz'), ('arg', 'col'), ('bra', 'col'), ('col', 'copamundial2018'), ('col', 'dataviz'), ('arg', 'bra'), ('arg', 'copamundial2018'), ('arg', 'dataviz'), ('bra', 'copamundial2018'), ('bra', 'dataviz'), ('copamundial2018', 'dataviz'), ('colombia', 'eleccionescolombia'), ('colombia', 'colombiadecide'), ('colombia', 'dataviz'), ('colombia', 'dataviz'), ('colombiadecide', 'eleccionescolombia'), ('dataviz', 'eleccionescolombia'), ('dataviz', 'eleccionescolombia'), ('colombiadecide', 'dataviz'), ('colombiadecide', 'dataviz'), ('dataviz', 'dataviz'), ('imagine', 'iwvc'), ('iwvc', 'ml'), ('deeplearning', 'iwvc'), ('a11y', 'dataviz'), ('d3js', 'dataviz'), ('p5', 'webdev'), ('altec', 'eleccionescolombia'), ('datavisualization', 'ir'), ('meteor', 'react'), ('d3', 'meteor'), ('d3', 'react'), ('uncertainty', 'visualizing'), ('uncertainty', 'visinpractice'), ('visinpractice', 'visualizing'), ('d3js', 'datavisualization'), ('a11y', 'aiforaccessibility'), ('d3js', 'networkviz'), ('ai', 'machineleaning'), ('ai', 'iclr2018'), ('ai', 'dataviz'), ('iclr2018', 'machineleaning'), ('dataviz', 'machineleaning'), ('dataviz', 'iclr2018'), ('chi2018', 'chi2018'), ('infovis', 'infovis'), ('feedly', 'infovis'), ('chi2018', 'dataviz'), ('datavisualization', 'reactjs'), ('dataviz', 'hci'), ('a11y', 'w4a18'), ('d3js', 'networkvisualization'), ('d3js', 'dataviz'), ('dataviz', 'networkvisualization'), ('chi2018', 'chi2018'), ('chi2018', 'mobile'), ('chi2018', 'visualization'), ('mobile', 'visualization'), ('dataviz', 'opendata'), ('feedly', 'infovis')]\n"
          ]
        }
      ]
    },
    {
      "cell_type": "markdown",
      "source": [
        "## **Count Edges** Where Two Hashtags Appear Together in a Tweet"
      ],
      "metadata": {
        "id": "I-D_LcdELqcL"
      }
    },
    {
      "cell_type": "code",
      "source": [
        "# Assign clusters using \"community_louvain.best_partition(G)\"\n",
        "G = nx.Graph()\n",
        "G.add_edges_from([tuple(l) for l in hashtag_edges])\n",
        "partition = community_louvain.best_partition(G)\n",
        "print('partition: ', partition)\n",
        "\n",
        "# Count edges\n",
        "edge_dict = defaultdict(int)\n",
        "for edge in hashtag_edges:\n",
        "  edge_dict[tuple(edge)] += 1\n",
        "# print(edge_dict)\n",
        "\n",
        "# Create a data table to create a bubble chart in Tableau\n",
        "data_table =[]\n",
        "for k, v in edge_dict.items():\n",
        "  table_dict = {'source_node': k[0],\n",
        "                'target_node': k[1],\n",
        "                'count_edge': v,\n",
        "                'cluster_source': partition[k[0]],\n",
        "                'cluster_target': partition[k[1]]}\n",
        "\n",
        "  data_table.append(table_dict)\n",
        "\n",
        "# Save the output data into a JSON and then import this file to Tableau for the plot\n",
        "with open('hashtag_nodes_and_edges_v3.json', 'w') as f:\n",
        "  json.dump(data_table, f)\n",
        "\n",
        "data_table[:10]"
      ],
      "metadata": {
        "id": "7Mm_czKtJrv3",
        "outputId": "135d2152-9a22-46a3-920f-dbe549558387",
        "colab": {
          "base_uri": "https://localhost:8080/"
        }
      },
      "execution_count": 8,
      "outputs": [
        {
          "output_type": "stream",
          "name": "stdout",
          "text": [
            "partition:  {'ar': 0, 'uist2020': 0, 'dataviz': 27, 'eurovis': 27, 'a11y': 8, 'tactileart': 3, 'tactiledrawing': 3, 'nicar18': 4, 'rstats': 4, 'datavis': 6, 'infodesign': 6, 'feedly': 6, 'infovis': 6, 'colorpicker': 27, 'd3js': 7, 'rstudioconf': 8, 'datascience': 8, 'blind': 9, 'braille': 9, 'atia18': 9, 'pokeviz': 7, '100daysofdataviz': 27, 'rusia2018': 10, 'visualizacion': 10, 'cfp': 4, 'ieeevis': 4, 'treemap': 7, 'reactjs': 12, 'regl': 12, 'webdev': 12, 'webgl': 12, 'deckgl': 12, 'vegalite': 16, 'proudteacher': 12, 'semiotic': 14, 'starwars': 14, 'covidー19': 48, 'ai': 16, 'machinelearning': 18, 'metoo': 27, 'netviz': 27, 'bogotá': 18, 'revealjs': 7, 'hcil': 8, 'projectlincoln': 27, 'javascript': 12, 'statistics': 18, 'visualization': 16, 'immersive2017': 4, 'testoftime': 6, 'vizsec': 4, 'deeplearning': 18, 'tensorflow': 18, '2q17': 19, 'btw17': 19, 'meteorjs': 12, 'assets2017': 16, 'chi2018': 16, 'elasticsearch': 27, 'matplotlib': 20, 'pandas': 20, 'ggplot2': 20, 'nodejs': 12, 'mongodb': 12, 'bigdata': 18, 'insights': 18, 'react': 12, 'uber': 16, 'bogota': 7, 'openaccess': 4, 'ddj': 4, 'chinese': 7, 'data': 7, 'keras': 22, 'neuralnets': 22, 'storytelling': 8, 'd3': 6, 'gameofthrones': 6, 'infosec': 27, 'includetheuser': 18, 'isrpbl2017': 18, 'visualanalytics': 18, 'bitcoin': 27, 'vega': 16, 'vis': 16, 'datajournalism': 4, 'digitalhumanities': 4, 'msdatasummit': 23, 'powerbi': 23, 'forecasting': 4, 'networkvisualization': 4, 'gd2017': 27, 'networkvisualizations': 27, 'openvisconf': 16, 'iclr2020': 8, 'pml4dc': 8, 'chi2017': 16, 'networks': 7, 'humor': 6, 'vr': 27, 'd3annotation': 7, 'sdgatlas': 27, 'meteor': 12, 'vizbeyond': 27, 'stateofobesity': 27, 'datavisualization': 16, 'csunatc17': 8, 'tactilegraphics': 8, 'manchestercity': 27, 'monaco': 27, 'es2015': 7, 'infographics': 18, 'blackhistory': 24, 'dj3s': 24, 'covid_19': 48, 'covid19': 6, 'sublimetext': 7, 'inauguration': 27, 'classicviz': 16, 'hamilton': 27, 'fakenews': 8, 'msnbc': 8, 'datatiz': 25, 'makeovermonday': 25, 'python': 7, 'tsne': 4, '3da11y': 9, '3dprinting': 9, '3dmodels': 9, 'electionresults': 27, 'scrollytelling': 27, 'opendata': 12, 'condatos2016': 12, 'creativecoding': 7, 'dewey': 7, 'ml': 16, 'ilustrador': 7, 'vds': 4, 'plebiscito': 12, 'datosabiertos': 12, 'debate': 27, 'everychartisjustanotherchart': 7, 'vpdebate': 27, 'cityvis': 28, 'habitat3': 28, 'd3unconf': 27, 'visualizations': 6, 'colombia': 48, 'tbt': 16, 'text': 27, 'clubesdeciencia': 29, 'fórmulasdecambio': 29, 'chart': 30, 'covid': 30, 'coronavirusencolombia': 48, 'visualización': 48, 'innovation': 48, 'measure': 27, 'china': 31, 'india': 31, 'nigeria': 31, 'hackethercamp': 48, 'humanintheloop': 18, 'stats': 18, 'euro2016': 6, 'interactive': 6, 'generative': 7, 'typography': 7, 'tableau': 27, 'zensontour': 27, 'vcworkshop2016': 6, 'clubesdecienciaco': 6, 'avi2016': 32, 'treemaps': 32, 'visualizing': 32, 'conexiónegresados': 29, 'aseutp': 29, 'thebiggest': 18, 'superheroes': 33, 'superviz': 33, 'stratahadoop': 18, 'lcfc': 27, 'bump': 27, 'hospitaluniversitario': 18, 'bestworstviz': 6, 'topojson': 7, 'coronavirus': 48, 'photography': 27, 'football': 16, 'soccer': 16, 'oscars': 27, 'dds2016': 4, 'sb50': 16, 'takeaction': 34, 'virunga': 34, 'chi2016': 18, 'entrepreneurship': 35, 'gecmedellín': 35, 'layout': 7, 'es6': 7, 'merch': 7, 'col': 10, 'canvas': 7, 's': 27, 'network': 16, 'davaviz': 4, 'endrainbow': 8, 'vast2015': 4, 'brazil': 48, 'coronaviruscolombia': 48, 'jornadashcipuebla': 36, 'zelda': 36, 'breathofthewild': 36, 'ceo': 37, 'jackdorsey': 37, 'expocamello2015': 38, 'periscope': 38, 'technology': 6, 'datapoints': 6, 'gis': 7, 'mapping': 7, 'flickr': 8, 'goldengatepark': 8, 'markdown': 7, 'tufte': 7, 'yahoohq': 8, 'europe': 27, 'marriageequaility': 27, 'distractinglysexy': 8, 'oakland': 6, 'meetup': 6, 'sanfrancisco': 6, 'genverde': 39, 'parquesoft': 39, 'felicidad': 40, 'muuu': 40, 'cali': 18, 'umd': 6, 'cfar': 6, 'demandsolutions': 41, 'startup': 41, 'contextualism': 42, 'relativism': 42, 'andresfelipegiraldo': 43, 'startappsacademic': 43, 'wingz': 43, 'scicomm': 27, 'night': 6, 'citysight': 6, 'advice': 44, 'business': 44, 'marriage': 27, 'ecoreto': 45, 'nicaragua': 45, 'ticamericas': 45, 'bigthinkers': 27, 'fitness': 27, 'idea2014': 46, 'kdd2014': 46, 'hci': 8, 'analytics': 18, 'parcforum': 18, 'tidybayes': 4, 'pi': 6, 'worldcup': 10, 'jpn': 10, 'brazil2014': 10, 'datatothemac': 47, 'showandtell': 47, 'nedvsesp': 10, 'colombiaelige': 48, 'eleccionescolombia': 48, 'elecciones2014': 48, 'votoenblanco': 48, 'chi2014': 49, 'retweetme': 49, 'measles': 50, 'vaccineswork': 50, 'boisestate': 27, 'professors': 27, 'sports': 16, 'yabt': 44, 'youngentrepreneurs': 44, 'eco': 44, 'sustainability': 44, 'tapestryconf': 27, 'keepitfree': 51, 'wikipedia': 51, 'strataconf': 27, 'emprendimiento': 48, 'innovación': 48, 'iris': 48, 'ciegos': 48, 'ona13': 7, 'treeversity': 6, 'openideas': 52, 'somosudi': 52, 'chi2020': 8, 'academiclife': 53, 'academictwitter': 53, 'brailleblaster': 54, 'brailleimages': 54, 'bayd3': 7, 'raw': 6, 'diy': 6, 'umcp': 6, 'larespuestaescolombia': 55, 'maravillasdecolombia': 55, 'sna': 6, 'socialmedia': 6, 'scivis': 6, 'chi': 27, 'entrepreneurs': 41, 'icdl': 56, 'storykit': 56, 'datagif': 16, 'soyparquesoft': 57, 'vivolatecnología': 57, 'cattlab': 8, 'nfbtg': 57, 'fiaumd': 6, 'ischool': 8, 'infoviz': 27, 'nodexl': 8, 'ddjbook': 6, 'neurips2019': 18, 'visfestunconf': 27, 'time': 6, 'monotrans': 8, 'processing': 6, 'convocatoria': 58, 'socent': 58, 'goodtimeatthelab': 8, 'visweek': 59, 'visweekposterdemo': 59, 'chi2012': 8, 'iamfirst': 60, 'william': 60, 'google': 61, 'youngminds': 61, 'zeitgeist': 61, 'techcrunch': 61, 'chi2011': 8, 'deadspace2': 8, 'iumd': 8, 'data19': 27, 'assets19': 27, 'assets2019': 27, 'halloween': 62, 'halloween2019': 62, 'iccv': 63, 'iccv2019': 63, 'eleccionescolombia2019': 48, 'ir': 8, 'shameonme': 27, 'ieeevis2019': 27, 'ldav': 4, 'vsup': 4, 'vis4dh': 4, 'tutorial': 4, 'sanddance': 12, 'vscode': 12, 'japan': 8, 'tactileuniverse': 8, 'tactilemaps': 8, 'openscience': 18, 'microbiology': 9, 'visuallyimpaired': 9, 'foss4g': 7, 'foss4gna': 7, 'foss4g2019': 7, 'foss4g19': 7, 'dlindaba': 64, 'sautiyetu': 64, 'dlindaba2019': 64, 'deepindaba': 64, 'deeplearningindaba': 64, 'dlindaba19': 64, 'savethedata': 27, 'accessibility': 8, 'siggraph2019': 27, 'ismb19': 1, 'ismbeccb19': 1, 'biovis': 1, 'ismbeccb2019': 1, 'ismb2019': 1, 'ismbeccb': 1, 'bosc2019': 1, 'tdf2019': 27, 'infographic': 6, 'atlántico': 6, 'voronoï': 7, 'ismbfollowgreatwomen': 1, 'keynote': 1, 'nasa': 27, 'user2019': 27, 'vizrisk': 27, 'nodeconfco': 12, 'jsconfco': 12, 'computervision': 18, 'cvpr2019': 18, 'datavizsociety': 16, 'eyeo2019': 27, 'ieeevis2018': 27, 'eurovis2019': 27, 'europeansemester': 2, 'growth': 2, 'chi2019': 8, 'dj': 4, 'poverty': 27, 'cybersecurity': 16, 'thewebconf': 5, 'www19': 5, 'climatechange': 27, 'fridays4future': 27, 'eu': 11, 'euelections2019': 11, 'euelections': 11, 'sigchi': 8, 'customerexperience': 18, 'cx': 18, 'cxsummit2019': 18, 'tipscx': 18, 'pydata': 7, 'aframe': 13, 'umap': 13, 'naviojs': 8, 'datatondelsenado': 12, 'romania': 8, 'rstat': 27, 'sucosummit': 27, 'dataart': 7, 'express': 12, 'ces2019': 1, 'neurips2018': 27, 'humancentered': 16, 'knowie': 15, 'tenis': 15, 'neurips': 18, 'charticulator': 27, 'gandissect': 17, 'ganpaint': 17, 'iot': 18, 'internetofthings': 18, 'digitalmarketing': 18, 'sucolsummit': 48, 'exponential': 48, 'clustergrammer2': 21, 'scipy2020': 21, 'webdevelopment': 8, 'beexponential': 18, 'biggan': 16, 'cscw': 27, 'draco': 4, 'belivws': 4, 'latins': 10, 'visxai': 4, 'vizsec2018': 4, 'waterdata': 4, 'hurricanemichael': 4, 'iibawards': 27, 'florence': 26, 'usgs': 26, 'research': 8, 'latinx': 6, 'consultaanticorrupción': 48, 'yovotecontralacorrupción': 48, 'consultaanticoncorrupcion': 12, 'siggraph2018': 27, 'betterpresentations': 27, 'colombiavsinglaterra': 10, 'vamoscolombia': 10, 'eng': 10, 'cvpr2018': 27, 'copa2018': 10, 'copamundial': 10, 'arg': 10, 'bra': 10, 'copamundial2018': 10, 'colombiadecide': 48, 'imagine': 16, 'iwvc': 16, 'p5': 12, 'altec': 48, 'uncertainty': 32, 'visinpractice': 32, 'aiforaccessibility': 8, 'networkviz': 7, 'machineleaning': 16, 'iclr2018': 16, 'w4a18': 8, 'mobile': 16}\n"
          ]
        },
        {
          "output_type": "execute_result",
          "data": {
            "text/plain": [
              "[{'source_node': 'ar',\n",
              "  'target_node': 'uist2020',\n",
              "  'count_edge': 1,\n",
              "  'cluster_source': 0,\n",
              "  'cluster_target': 0},\n",
              " {'source_node': 'dataviz',\n",
              "  'target_node': 'eurovis',\n",
              "  'count_edge': 1,\n",
              "  'cluster_source': 27,\n",
              "  'cluster_target': 27},\n",
              " {'source_node': 'a11y',\n",
              "  'target_node': 'dataviz',\n",
              "  'count_edge': 4,\n",
              "  'cluster_source': 8,\n",
              "  'cluster_target': 27},\n",
              " {'source_node': 'tactileart',\n",
              "  'target_node': 'tactiledrawing',\n",
              "  'count_edge': 1,\n",
              "  'cluster_source': 3,\n",
              "  'cluster_target': 3},\n",
              " {'source_node': 'nicar18',\n",
              "  'target_node': 'rstats',\n",
              "  'count_edge': 1,\n",
              "  'cluster_source': 4,\n",
              "  'cluster_target': 4},\n",
              " {'source_node': 'datavis',\n",
              "  'target_node': 'infodesign',\n",
              "  'count_edge': 1,\n",
              "  'cluster_source': 6,\n",
              "  'cluster_target': 6},\n",
              " {'source_node': 'feedly',\n",
              "  'target_node': 'infovis',\n",
              "  'count_edge': 17,\n",
              "  'cluster_source': 6,\n",
              "  'cluster_target': 6},\n",
              " {'source_node': 'colorpicker',\n",
              "  'target_node': 'dataviz',\n",
              "  'count_edge': 1,\n",
              "  'cluster_source': 27,\n",
              "  'cluster_target': 27},\n",
              " {'source_node': 'd3js',\n",
              "  'target_node': 'dataviz',\n",
              "  'count_edge': 32,\n",
              "  'cluster_source': 7,\n",
              "  'cluster_target': 27},\n",
              " {'source_node': 'dataviz',\n",
              "  'target_node': 'rstudioconf',\n",
              "  'count_edge': 1,\n",
              "  'cluster_source': 27,\n",
              "  'cluster_target': 8}]"
            ]
          },
          "metadata": {},
          "execution_count": 8
        }
      ]
    },
    {
      "cell_type": "markdown",
      "source": [
        "## Testing Code"
      ],
      "metadata": {
        "id": "qjtz8sA54Wcs"
      }
    },
    {
      "cell_type": "code",
      "source": [
        "# import networkx as nx\n",
        "# import community.community_louvain as community_louvain\n",
        "\n",
        "# # Example list of tuples representing edges in a network\n",
        "# edges = [(1, 2), (2, 3), (3, 4), (4, 5), (5, 1), (3, 6), (6, 7), (7, 3)]\n",
        "\n",
        "# # Create a graph from the edges\n",
        "# graph = nx.Graph()\n",
        "# graph.add_edges_from(edges)\n",
        "\n",
        "# # Run the Louvain algorithm\n",
        "# partition = community_louvain.best_partition(graph)\n",
        "# print('partition: ', partition)\n",
        "# # Retrieve the clusters\n",
        "# clusters = {}\n",
        "# for node, cluster_id in partition.items():\n",
        "#     print(f'node = {node}, cluster_id = {cluster_id}')\n",
        "#     if cluster_id not in clusters:\n",
        "#         clusters[cluster_id] = []\n",
        "#     clusters[cluster_id].append(node)\n",
        "\n",
        "# # Print the clusters\n",
        "# for cluster_id, nodes in clusters.items():\n",
        "#     print(f\"Cluster {cluster_id}: {nodes}\")"
      ],
      "metadata": {
        "id": "Tr2fd916elG3"
      },
      "execution_count": 9,
      "outputs": []
    }
  ]
}