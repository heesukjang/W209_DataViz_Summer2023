{
  "nbformat": 4,
  "nbformat_minor": 0,
  "metadata": {
    "colab": {
      "provenance": [],
      "include_colab_link": true
    },
    "kernelspec": {
      "name": "python3",
      "display_name": "Python 3"
    }
  },
  "cells": [
    {
      "cell_type": "markdown",
      "metadata": {
        "id": "view-in-github",
        "colab_type": "text"
      },
      "source": [
        "<a href=\"https://colab.research.google.com/github/heesukjang/W209_DataViz_Summer2023/blob/main/Unit_Assignments/Week_09_Assignment_ChoroplethMap.ipynb\" target=\"_parent\"><img src=\"https://colab.research.google.com/assets/colab-badge.svg\" alt=\"Open In Colab\"/></a>"
      ]
    },
    {
      "cell_type": "markdown",
      "source": [
        "## W209 Data Visualization, Summer 2023\n",
        "**Week 9 Assignment<br>\n",
        "Heesuk Jang**\n",
        "\n",
        "### All tracks<br>\n",
        "\n",
        "This weeks assignment is to plot a county-level choropleth using the \"unemployment\" dataset available here: https://cdn.jsdelivr.net/npm/vega-datasets@1.29.0/data/.\n",
        "\n",
        "You can load this dataset in Observable by importing the JS package, see example here.\n",
        "\n",
        "In Python, you can load this dataset directly from\n",
        "\n",
        "**from vega_datasets import data<br>\n",
        "source = data.unemployment.url**\n",
        "\n",
        "**For Tableau**, you can download the TSV file from the link."
      ],
      "metadata": {
        "id": "9KD9N6x4Dyd-"
      }
    },
    {
      "cell_type": "code",
      "source": [
        "!pip install nx_altair"
      ],
      "metadata": {
        "colab": {
          "base_uri": "https://localhost:8080/"
        },
        "id": "Kz_AjBzVgjYq",
        "outputId": "a74ee479-3c94-41aa-e11e-5839c97e5e4f"
      },
      "execution_count": null,
      "outputs": [
        {
          "output_type": "stream",
          "name": "stdout",
          "text": [
            "Looking in indexes: https://pypi.org/simple, https://us-python.pkg.dev/colab-wheels/public/simple/\n",
            "Collecting nx_altair\n",
            "  Downloading nx_altair-0.1.6-py3-none-any.whl (7.9 kB)\n",
            "Requirement already satisfied: pandas in /usr/local/lib/python3.10/dist-packages (from nx_altair) (1.5.3)\n",
            "Requirement already satisfied: networkx in /usr/local/lib/python3.10/dist-packages (from nx_altair) (3.1)\n",
            "Requirement already satisfied: altair in /usr/local/lib/python3.10/dist-packages (from nx_altair) (4.2.2)\n",
            "Requirement already satisfied: entrypoints in /usr/local/lib/python3.10/dist-packages (from altair->nx_altair) (0.4)\n",
            "Requirement already satisfied: jinja2 in /usr/local/lib/python3.10/dist-packages (from altair->nx_altair) (3.1.2)\n",
            "Requirement already satisfied: jsonschema>=3.0 in /usr/local/lib/python3.10/dist-packages (from altair->nx_altair) (4.3.3)\n",
            "Requirement already satisfied: numpy in /usr/local/lib/python3.10/dist-packages (from altair->nx_altair) (1.22.4)\n",
            "Requirement already satisfied: toolz in /usr/local/lib/python3.10/dist-packages (from altair->nx_altair) (0.12.0)\n",
            "Requirement already satisfied: python-dateutil>=2.8.1 in /usr/local/lib/python3.10/dist-packages (from pandas->nx_altair) (2.8.2)\n",
            "Requirement already satisfied: pytz>=2020.1 in /usr/local/lib/python3.10/dist-packages (from pandas->nx_altair) (2022.7.1)\n",
            "Requirement already satisfied: attrs>=17.4.0 in /usr/local/lib/python3.10/dist-packages (from jsonschema>=3.0->altair->nx_altair) (23.1.0)\n",
            "Requirement already satisfied: pyrsistent!=0.17.0,!=0.17.1,!=0.17.2,>=0.14.0 in /usr/local/lib/python3.10/dist-packages (from jsonschema>=3.0->altair->nx_altair) (0.19.3)\n",
            "Requirement already satisfied: six>=1.5 in /usr/local/lib/python3.10/dist-packages (from python-dateutil>=2.8.1->pandas->nx_altair) (1.16.0)\n",
            "Requirement already satisfied: MarkupSafe>=2.0 in /usr/local/lib/python3.10/dist-packages (from jinja2->altair->nx_altair) (2.1.3)\n",
            "Installing collected packages: nx_altair\n",
            "Successfully installed nx_altair-0.1.6\n"
          ]
        }
      ]
    },
    {
      "cell_type": "code",
      "source": [
        "import altair as alt\n",
        "import pandas as pd\n",
        "from vega_datasets import data\n",
        "\n",
        "source = data.unemployment.url\n",
        "source"
      ],
      "metadata": {
        "id": "ij4vtHPy9MP2",
        "outputId": "7418453c-7112-4d1b-f625-7728794f7d0e",
        "colab": {
          "base_uri": "https://localhost:8080/",
          "height": 35
        }
      },
      "execution_count": 4,
      "outputs": [
        {
          "output_type": "execute_result",
          "data": {
            "text/plain": [
              "'https://cdn.jsdelivr.net/npm/vega-datasets@v1.29.0/data/unemployment.tsv'"
            ],
            "application/vnd.google.colaboratory.intrinsic+json": {
              "type": "string"
            }
          },
          "metadata": {},
          "execution_count": 4
        }
      ]
    },
    {
      "cell_type": "code",
      "source": [
        "counties = alt.topo_feature(data.us_10m.url, 'counties')\n",
        "\n",
        "choropleth_map = alt.Chart(counties).mark_geoshape().encode(\n",
        "    color=alt.Color('rate:Q', scale=alt.Scale(range=['snow', 'red'])),\n",
        "    tooltip=[alt.Tooltip('id:O', title='County Code'),\n",
        "             alt.Tooltip('rate:Q', title='Unemployment Rate(%)')]\n",
        ").transform_lookup(\n",
        "    lookup='id',\n",
        "    from_=alt.LookupData(source, 'id',['rate'])\n",
        ").transform_calculate(\n",
        "    rate='datum.rate * 100'  # Convert rate to percentage\n",
        ").properties(\n",
        "    width=1080,\n",
        "    height=720,\n",
        "    title='US Unemployment Rate by County'\n",
        ").project(\n",
        "    type='albersUsa'\n",
        ")\n",
        "\n",
        "choropleth_map"
      ],
      "metadata": {
        "colab": {
          "base_uri": "https://localhost:8080/",
          "height": 768
        },
        "id": "CHGsGePGFJUR",
        "outputId": "941046c6-4456-46f9-b186-bd57199f9911"
      },
      "execution_count": 6,
      "outputs": [
        {
          "output_type": "execute_result",
          "data": {
            "text/html": [
              "\n",
              "<div id=\"altair-viz-636de3734d4a4f67b29082a5154b3835\"></div>\n",
              "<script type=\"text/javascript\">\n",
              "  var VEGA_DEBUG = (typeof VEGA_DEBUG == \"undefined\") ? {} : VEGA_DEBUG;\n",
              "  (function(spec, embedOpt){\n",
              "    let outputDiv = document.currentScript.previousElementSibling;\n",
              "    if (outputDiv.id !== \"altair-viz-636de3734d4a4f67b29082a5154b3835\") {\n",
              "      outputDiv = document.getElementById(\"altair-viz-636de3734d4a4f67b29082a5154b3835\");\n",
              "    }\n",
              "    const paths = {\n",
              "      \"vega\": \"https://cdn.jsdelivr.net/npm//vega@5?noext\",\n",
              "      \"vega-lib\": \"https://cdn.jsdelivr.net/npm//vega-lib?noext\",\n",
              "      \"vega-lite\": \"https://cdn.jsdelivr.net/npm//vega-lite@4.17.0?noext\",\n",
              "      \"vega-embed\": \"https://cdn.jsdelivr.net/npm//vega-embed@6?noext\",\n",
              "    };\n",
              "\n",
              "    function maybeLoadScript(lib, version) {\n",
              "      var key = `${lib.replace(\"-\", \"\")}_version`;\n",
              "      return (VEGA_DEBUG[key] == version) ?\n",
              "        Promise.resolve(paths[lib]) :\n",
              "        new Promise(function(resolve, reject) {\n",
              "          var s = document.createElement('script');\n",
              "          document.getElementsByTagName(\"head\")[0].appendChild(s);\n",
              "          s.async = true;\n",
              "          s.onload = () => {\n",
              "            VEGA_DEBUG[key] = version;\n",
              "            return resolve(paths[lib]);\n",
              "          };\n",
              "          s.onerror = () => reject(`Error loading script: ${paths[lib]}`);\n",
              "          s.src = paths[lib];\n",
              "        });\n",
              "    }\n",
              "\n",
              "    function showError(err) {\n",
              "      outputDiv.innerHTML = `<div class=\"error\" style=\"color:red;\">${err}</div>`;\n",
              "      throw err;\n",
              "    }\n",
              "\n",
              "    function displayChart(vegaEmbed) {\n",
              "      vegaEmbed(outputDiv, spec, embedOpt)\n",
              "        .catch(err => showError(`Javascript Error: ${err.message}<br>This usually means there's a typo in your chart specification. See the javascript console for the full traceback.`));\n",
              "    }\n",
              "\n",
              "    if(typeof define === \"function\" && define.amd) {\n",
              "      requirejs.config({paths});\n",
              "      require([\"vega-embed\"], displayChart, err => showError(`Error loading script: ${err.message}`));\n",
              "    } else {\n",
              "      maybeLoadScript(\"vega\", \"5\")\n",
              "        .then(() => maybeLoadScript(\"vega-lite\", \"4.17.0\"))\n",
              "        .then(() => maybeLoadScript(\"vega-embed\", \"6\"))\n",
              "        .catch(showError)\n",
              "        .then(() => displayChart(vegaEmbed));\n",
              "    }\n",
              "  })({\"config\": {\"view\": {\"continuousWidth\": 400, \"continuousHeight\": 300}}, \"data\": {\"url\": \"https://cdn.jsdelivr.net/npm/vega-datasets@v1.29.0/data/us-10m.json\", \"format\": {\"feature\": \"counties\", \"type\": \"topojson\"}}, \"mark\": \"geoshape\", \"encoding\": {\"color\": {\"field\": \"rate\", \"scale\": {\"range\": [\"snow\", \"red\"]}, \"type\": \"quantitative\"}, \"tooltip\": [{\"field\": \"id\", \"title\": \"County Code\", \"type\": \"ordinal\"}, {\"field\": \"rate\", \"title\": \"Unemployment Rate(%)\", \"type\": \"quantitative\"}]}, \"height\": 720, \"projection\": {\"type\": \"albersUsa\"}, \"title\": \"US Unemployment Rate by County\", \"transform\": [{\"lookup\": \"id\", \"from\": {\"data\": {\"url\": \"https://cdn.jsdelivr.net/npm/vega-datasets@v1.29.0/data/unemployment.tsv\"}, \"key\": \"id\", \"fields\": [\"rate\"]}}, {\"calculate\": \"datum.rate * 100\", \"as\": \"rate\"}], \"width\": 1080, \"$schema\": \"https://vega.github.io/schema/vega-lite/v4.17.0.json\"}, {\"mode\": \"vega-lite\"});\n",
              "</script>"
            ],
            "text/plain": [
              "alt.Chart(...)"
            ]
          },
          "metadata": {},
          "execution_count": 6
        }
      ]
    },
    {
      "cell_type": "code",
      "source": [
        "counties"
      ],
      "metadata": {
        "colab": {
          "base_uri": "https://localhost:8080/"
        },
        "id": "8iyXWI4tHBbd",
        "outputId": "585574cb-cd83-4a81-9b7e-538e74bfe85a"
      },
      "execution_count": 7,
      "outputs": [
        {
          "output_type": "execute_result",
          "data": {
            "text/plain": [
              "UrlData({\n",
              "  format: TopoDataFormat({\n",
              "    feature: 'counties',\n",
              "    type: 'topojson'\n",
              "  }),\n",
              "  url: 'https://cdn.jsdelivr.net/npm/vega-datasets@v1.29.0/data/us-10m.json'\n",
              "})"
            ]
          },
          "metadata": {},
          "execution_count": 7
        }
      ]
    },
    {
      "cell_type": "code",
      "source": [],
      "metadata": {
        "id": "3088d5qFHBLq"
      },
      "execution_count": null,
      "outputs": []
    },
    {
      "cell_type": "markdown",
      "source": [
        "## Read JSON file from Google Drive (Gmail Account)"
      ],
      "metadata": {
        "id": "dcscmoZ5KcFy"
      }
    },
    {
      "cell_type": "code",
      "source": [
        "with open('/content/gdrive/MyDrive/W209_DataViz/duto_guerra_tweets.json') as f:\n",
        "  file = f.read()\n",
        "  data = json.loads(file)\n",
        "\n",
        "# two hashtags appear together in a tweet\n",
        "print(f\"len(data) = {len(data)}\\nhashtags: count_edges = {len(data[181]['entities']['hashtags'])}, {data[181]['entities']['hashtags']}\\n\")\n",
        "data[181]"
      ],
      "metadata": {
        "colab": {
          "base_uri": "https://localhost:8080/"
        },
        "id": "xbwkUggAAsi6",
        "outputId": "78c29cd2-e23c-4794-fb0b-f4b682e82c78"
      },
      "execution_count": null,
      "outputs": [
        {
          "output_type": "stream",
          "name": "stdout",
          "text": [
            "len(data) = 5872\n",
            "hashtags: count_edges = 3, [{'text': 'rstudioconf', 'indices': ['59', '71']}, {'text': 'DataViz', 'indices': ['138', '146']}, {'text': 'DataScience', 'indices': ['147', '159']}]\n",
            "\n"
          ]
        },
        {
          "output_type": "execute_result",
          "data": {
            "text/plain": [
              "{'retweeted': False,\n",
              " 'source': '<a href=\"http://twitter.com\" rel=\"nofollow\">Twitter Web Client</a>',\n",
              " 'entities': {'user_mentions': [{'name': 'RStudio',\n",
              "    'screen_name': 'rstudio',\n",
              "    'indices': ['18', '26'],\n",
              "    'id_str': '235261861',\n",
              "    'id': '235261861'}],\n",
              "  'urls': [{'url': 'https://t.co/sN6CjOYIhH',\n",
              "    'expanded_url': 'http://johnguerra.co/viz/influentials/RStudioConf2018/',\n",
              "    'display_url': 'johnguerra.co/viz/influentia…',\n",
              "    'indices': ['114', '137']}],\n",
              "  'symbols': [],\n",
              "  'media': [{'expanded_url': 'https://twitter.com/duto_guerra/status/959841361070567425/photo/1',\n",
              "    'indices': ['160', '183'],\n",
              "    'url': 'https://t.co/FzHtxIYfVP',\n",
              "    'media_url': 'http://pbs.twimg.com/tweet_video_thumb/DVIKSrBWkAAJuEG.jpg',\n",
              "    'id_str': '959840986485657600',\n",
              "    'id': '959840986485657600',\n",
              "    'media_url_https': 'https://pbs.twimg.com/tweet_video_thumb/DVIKSrBWkAAJuEG.jpg',\n",
              "    'sizes': {'medium': {'w': '600', 'h': '558', 'resize': 'fit'},\n",
              "     'thumb': {'w': '150', 'h': '150', 'resize': 'crop'},\n",
              "     'small': {'w': '600', 'h': '558', 'resize': 'fit'},\n",
              "     'large': {'w': '600', 'h': '558', 'resize': 'fit'}},\n",
              "    'type': 'photo',\n",
              "    'display_url': 'pic.twitter.com/FzHtxIYfVP'}],\n",
              "  'hashtags': [{'text': 'rstudioconf', 'indices': ['59', '71']},\n",
              "   {'text': 'DataViz', 'indices': ['138', '146']},\n",
              "   {'text': 'DataScience', 'indices': ['147', '159']}]},\n",
              " 'display_text_range': ['0', '183'],\n",
              " 'favorite_count': 24,\n",
              " 'id_str': '959841361070567425',\n",
              " 'truncated': False,\n",
              " 'retweet_count': 7,\n",
              " 'id': '959841361070567425',\n",
              " 'possibly_sensitive': False,\n",
              " 'created_at': '2018-02-03T17:29:48.000Z',\n",
              " 'favorited': False,\n",
              " 'full_text': 'Do you like R and @rstudio? Here are the accounts that the #rstudioconf community thinks you should be following. https://t.co/sN6CjOYIhH #DataViz #DataScience https://t.co/FzHtxIYfVP',\n",
              " 'lang': 'en',\n",
              " 'extended_entities': {'media': [{'expanded_url': 'https://twitter.com/duto_guerra/status/959841361070567425/photo/1',\n",
              "    'indices': ['160', '183'],\n",
              "    'url': 'https://t.co/FzHtxIYfVP',\n",
              "    'media_url': 'http://pbs.twimg.com/tweet_video_thumb/DVIKSrBWkAAJuEG.jpg',\n",
              "    'id_str': '959840986485657600',\n",
              "    'video_info': {'aspect_ratio': ['100', '93'],\n",
              "     'variants': [{'bitrate': '0',\n",
              "       'content_type': 'video/mp4',\n",
              "       'url': 'https://video.twimg.com/tweet_video/DVIKSrBWkAAJuEG.mp4'}]},\n",
              "    'id': '959840986485657600',\n",
              "    'media_url_https': 'https://pbs.twimg.com/tweet_video_thumb/DVIKSrBWkAAJuEG.jpg',\n",
              "    'sizes': {'medium': {'w': '600', 'h': '558', 'resize': 'fit'},\n",
              "     'thumb': {'w': '150', 'h': '150', 'resize': 'crop'},\n",
              "     'small': {'w': '600', 'h': '558', 'resize': 'fit'},\n",
              "     'large': {'w': '600', 'h': '558', 'resize': 'fit'}},\n",
              "    'type': 'animated_gif',\n",
              "    'display_url': 'pic.twitter.com/FzHtxIYfVP'}]},\n",
              " 'hour': 12,\n",
              " 'selected': True,\n",
              " '__seqId': 181,\n",
              " '__i': [5773, 595, 595]}"
            ]
          },
          "metadata": {},
          "execution_count": 3
        }
      ]
    },
    {
      "cell_type": "code",
      "source": [
        "lt = data[181]['entities']['hashtags']\n",
        "print(\"A tweet that contains three hashtags (=>'rstudioconf','DataViz','DataScience'):\\n\\n\",lt)"
      ],
      "metadata": {
        "id": "4nFKhJsSPCSh",
        "outputId": "535b4b13-4a30-44c3-9a69-e46bc0356491",
        "colab": {
          "base_uri": "https://localhost:8080/"
        }
      },
      "execution_count": null,
      "outputs": [
        {
          "output_type": "stream",
          "name": "stdout",
          "text": [
            "A tweet that contains three hashtags (=>'rstudioconf','DataViz','DataScience'):\n",
            "\n",
            " [{'text': 'rstudioconf', 'indices': ['59', '71']}, {'text': 'DataViz', 'indices': ['138', '146']}, {'text': 'DataScience', 'indices': ['147', '159']}]\n"
          ]
        }
      ]
    }
  ]
}